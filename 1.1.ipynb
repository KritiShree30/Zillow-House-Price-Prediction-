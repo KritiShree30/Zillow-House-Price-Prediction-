{
  "cells": [
    {
      "metadata": {
        "trusted": true,
        "_uuid": "11351c034fced09083819214174fca1ab2b0b195"
      },
      "cell_type": "code",
      "source": "import pandas as pd\nimport matplotlib.pyplot as plt\nimport numpy as np\n\n%matplotlib inline",
      "execution_count": null,
      "outputs": []
    },
    {
      "metadata": {
        "trusted": true,
        "_uuid": "2304339f47a1d1585a3c81008c331c0e5d8017e3"
      },
      "cell_type": "code",
      "source": "df=pd.read_csv(\"../input/final_train_5.csv\")\ndf=df.drop(\"Unnamed: 0\",1)\ndf.head()",
      "execution_count": null,
      "outputs": []
    },
    {
      "metadata": {
        "trusted": true,
        "_uuid": "793d383a324c4f359574c5a1b9d69b975e868766"
      },
      "cell_type": "code",
      "source": "X = df.iloc[:,1:]\nX.head()",
      "execution_count": null,
      "outputs": []
    },
    {
      "metadata": {
        "trusted": true,
        "_uuid": "265d4cc7e04f58ede3dc264bd157b50a6807859f"
      },
      "cell_type": "code",
      "source": "y = pd.DataFrame(df.iloc[:,0])\ny.head()",
      "execution_count": null,
      "outputs": []
    },
    {
      "metadata": {
        "trusted": true,
        "_uuid": "4ef58336ef9b86cd14c10dacc5b7744b4dccfc57"
      },
      "cell_type": "code",
      "source": "",
      "execution_count": null,
      "outputs": []
    },
    {
      "metadata": {
        "trusted": true,
        "_uuid": "e5cb4460c25090d25387d2f47d2e024c87983bb8"
      },
      "cell_type": "code",
      "source": "",
      "execution_count": null,
      "outputs": []
    },
    {
      "metadata": {
        "trusted": true,
        "_uuid": "b71c68951f154d896eb3dcfee11140f976d4a638"
      },
      "cell_type": "code",
      "source": "",
      "execution_count": null,
      "outputs": []
    },
    {
      "metadata": {
        "trusted": false,
        "_uuid": "59441f3eb1cf947f4243c03b154a38f1cb61a1f5"
      },
      "cell_type": "code",
      "source": "from sklearn.neighbors import KNeighborsRegressor\nfrom sklearn.model_selection import train_test_split\nimport numpy as np\nknn = KNeighborsRegressor()\nX_train, X_test, y_train, y_test = train_test_split(X, y, test_size=0.25, random_state=42)\nknn.fit(X_train,y_train)\ny_pred=knn.predict(X_test)\ny_true=y_test\nprint(np.mean(np.abs((y_true - y_pred) / y_true)) )\noutput=pd.DataFrame(data=y_true)\noutput[\"KNN_pred\"]=y_pred\noutput.head()",
      "execution_count": null,
      "outputs": []
    },
    {
      "metadata": {
        "trusted": false,
        "_uuid": "9476503f57bebaed5912c59392fc6d9f04d77a14"
      },
      "cell_type": "code",
      "source": "output.shape",
      "execution_count": null,
      "outputs": []
    },
    {
      "metadata": {
        "trusted": false,
        "_uuid": "853a2a0db34df286d856a02a4e73b3fbbba92b4a"
      },
      "cell_type": "code",
      "source": "def cross_validation_function(X,y,model,fold):\n    size=int(len(X)/fold)\n    l=0\n    u=size\n    scores=[]\n    for f in range(fold):\n        print(\"l =\",l,\"u =\",u,\"\")\n        dfxtest=X.iloc[l:u,:]\n        dfytest=y.iloc[l:u,:]\n        dfxtrain=X.drop(X.iloc[l:u].index,axis=0)\n        dfytrain=y.drop(X.iloc[l:u].index,axis=0)\n        model.fit(dfxtrain,dfytrain)\n        y_pred=model.predict(dfxtest)\n        y_true=dfytest\n#         print(y_true)\n#         print(y_pred)\n        scores.append(np.mean(np.abs((y_true - y_pred) / y_true)))\n        print(\"        FOLD \",f)\n        print(\"        --> Score :\", (np.mean(np.abs((y_true - y_pred) / y_true))))\n        l=l+size\n        u=u+size\n    print(\"Final score is: \",np.mean(scores))\n      \n        ",
      "execution_count": null,
      "outputs": []
    },
    {
      "metadata": {
        "trusted": false,
        "_uuid": "8d0192b07d3e2de0eaebf3ab8d11492a39e85826"
      },
      "cell_type": "code",
      "source": "from sklearn.model_selection import cross_val_score\nfor n in range(1,30):\n    knn = KNeighborsRegressor(n_neighbors=n,weights=\"distance\")\n    print(\"N=\",n)\n    cross_validation_function(X,y,knn,10)\n",
      "execution_count": null,
      "outputs": []
    },
    {
      "metadata": {
        "trusted": false,
        "_uuid": "637e20d328d1a844b74de66678dee604c336fefe"
      },
      "cell_type": "code",
      "source": "from sklearn.model_selection import cross_val_score\nfor n in range(1,30):\n    knn = KNeighborsRegressor(n_neighbors=n,weights=\"distance\")\n    print(\"N=\",n)\n    cross_validation_function(X,y,knn,5)\n",
      "execution_count": null,
      "outputs": []
    },
    {
      "metadata": {
        "trusted": false,
        "_uuid": "2005ccdd6a65c06d7ac348f2562213b8843541e2"
      },
      "cell_type": "code",
      "source": "",
      "execution_count": null,
      "outputs": []
    },
    {
      "metadata": {
        "_uuid": "0bc9e5a54faa16fc0a087ebf6de9908df90f8894"
      },
      "cell_type": "markdown",
      "source": "# Decision Tree Regression"
    },
    {
      "metadata": {
        "trusted": false,
        "_uuid": "4a01254ec496a14ebd94c8325cc1da0cbf57ae32"
      },
      "cell_type": "code",
      "source": "from sklearn.tree import DecisionTreeRegressor\nimport numpy as np",
      "execution_count": null,
      "outputs": []
    },
    {
      "metadata": {
        "trusted": false,
        "_uuid": "3ff3805feb7119529928718987c090d61aab188a"
      },
      "cell_type": "code",
      "source": "",
      "execution_count": null,
      "outputs": []
    },
    {
      "metadata": {
        "trusted": false,
        "_uuid": "a9b3b15e94ebc3c77ebe25eecfeaa00ba34a7b89"
      },
      "cell_type": "code",
      "source": "def cross_validation_function2(X,y,model,fold):\n    size=int(len(X)/fold)\n    l=0\n    u=size\n    scores=[]\n    for f in range(fold):\n#         print(\"l =\",l,\"u =\",u,\"\")\n        dfxtest=X.iloc[l:u,:]\n        dfytest=y.iloc[l:u,:]\n        dfxtrain=X.drop(X.iloc[l:u].index,axis=0)\n        dfytrain=y.drop(X.iloc[l:u].index,axis=0)\n        model.fit(dfxtrain,dfytrain)\n        y_pred=model.predict(dfxtest)\n        y_true=pd.Series(dfytest.iloc[:,0])\n#         pd.Series(y.iloc[:,0])\n#         print(y_true)\n#         print(y_pred)\n        scores.append(np.mean(np.abs((y_true - y_pred) / y_true)))\n        print(\"        FOLD \",f)\n        print(\"        --> Score :\", (np.mean(np.abs((y_true - y_pred) / y_true))))\n        l=l+size\n        u=u+size\n    print(\"Final score is: \",np.mean(scores))\n    return np.mean(scores)\n      \n        ",
      "execution_count": null,
      "outputs": []
    },
    {
      "metadata": {
        "trusted": false,
        "_uuid": "c2a5a6206ce65afe73525106d25e40957c82de22"
      },
      "cell_type": "code",
      "source": "from sklearn.model_selection import cross_val_score\nmin=1\nsc=[]\nfor d in range(1,30):\n    tree = DecisionTreeRegressor(max_depth=d,criterion='mae')\n    print(\"Depth =\",d)\n    newscore=cross_validation_function2(X,y,tree,5)\n    sc.append(newscore)\n    if(newscore<min):\n        min=newscore\n        print(\"Min CHANGED TO : \",min,\" at d =\",d)\nprint(min(sc))\n",
      "execution_count": null,
      "outputs": []
    },
    {
      "metadata": {
        "trusted": true,
        "_uuid": "2ec21acd8288da1eed3b59f586088320df3ec57c"
      },
      "cell_type": "code",
      "source": "",
      "execution_count": null,
      "outputs": []
    },
    {
      "metadata": {
        "trusted": true,
        "_uuid": "5908f2b5b318bd826f8153cce55de838e5eac736"
      },
      "cell_type": "code",
      "source": "",
      "execution_count": null,
      "outputs": []
    },
    {
      "metadata": {
        "trusted": false,
        "_uuid": "5f07f803c5d8d1c599209e88b747d9daefbadff3"
      },
      "cell_type": "code",
      "source": "from sklearn.model_selection import cross_val_score\nsc=[]\nmin=1\nfor d in range(2,30):\n    for nest in range(10,500,10):\n        forest = RandomForestRegressor(max_depth=d, random_state=30,n_estimators=nest)\n        print(\"N Estimators is : \",nest)\n        print(\"Depth =\",d)\n        newscore=cross_validation_function3(X,y,forest,5)\n        sc.append(newscore)\n        if(newscore<min):\n            min=newscore\n            print(\"Min CHANGED TO : \",min,\" at d =\",d,\" and n est = \",nest)\nprint(min(sc))\n    # print(regr.feature_importances_)",
      "execution_count": null,
      "outputs": []
    },
    {
      "metadata": {
        "trusted": false,
        "_uuid": "96d13a37ed36c36d83afc4d9f689a57ec959e376"
      },
      "cell_type": "code",
      "source": "",
      "execution_count": null,
      "outputs": []
    },
    {
      "metadata": {
        "_uuid": "73c030d9f78f2d53c5eb4ed0de3539b4530a32b4"
      },
      "cell_type": "markdown",
      "source": "Random Forest Regressor"
    },
    {
      "metadata": {
        "trusted": false,
        "_uuid": "544d62bf6d3559dc044037b4f2cc42a439588d9a"
      },
      "cell_type": "code",
      "source": "from sklearn.ensemble import RandomForestRegressor",
      "execution_count": null,
      "outputs": []
    },
    {
      "metadata": {
        "trusted": false,
        "_uuid": "dc5049f9f742c0f9cbfe845ed155dc8d483c06b9"
      },
      "cell_type": "code",
      "source": "from sklearn.model_selection import cross_val_score\nfor d in range(1,30):\n    for nest in range(10,200,10):\n    forest = RandomForestRegressor(max_depth=d, random_state=30,n_estimators=100)\n    print(\"Depth =\",d)\n    cross_validation_function(X,y,forest,5)\n# print(regr.feature_importances_)",
      "execution_count": null,
      "outputs": []
    },
    {
      "metadata": {
        "trusted": true,
        "_uuid": "b2b7ceecd1e743daedcd6cd40c26fa1fd2d6f41d"
      },
      "cell_type": "code",
      "source": "",
      "execution_count": null,
      "outputs": []
    },
    {
      "metadata": {
        "trusted": true,
        "_uuid": "dd5064c5fc8fa1a7cc832d00b6714393a8751e12"
      },
      "cell_type": "code",
      "source": "",
      "execution_count": null,
      "outputs": []
    },
    {
      "metadata": {
        "trusted": true,
        "_uuid": "a597b17ffe52e83b7948c2f3420fbb83c6518bc4"
      },
      "cell_type": "code",
      "source": "",
      "execution_count": null,
      "outputs": []
    },
    {
      "metadata": {
        "_uuid": "00e2c63ecaf915e6426bebae20bf8601f2a44ac6"
      },
      "cell_type": "markdown",
      "source": "# Gradient Boosting Regressor"
    },
    {
      "metadata": {
        "_uuid": "fd22230c78a1ed2adecb7409c82af8f8e64324d1"
      },
      "cell_type": "markdown",
      "source": ""
    },
    {
      "metadata": {
        "trusted": true,
        "_uuid": "60dac170723d68e28b24aee3b3732bcc33952c97"
      },
      "cell_type": "code",
      "source": "def cross_validation_function3(X,y,model,fold):\n    size=int(len(X)/fold)\n    l=0\n    u=size\n    scores=[]\n    for f in range(fold):\n#         print(\"l =\",l,\"u =\",u,\"\")\n        dfxtest=X.iloc[l:u,:]\n        dfytest=y.iloc[l:u,:]\n        dfxtrain=X.drop(X.iloc[l:u].index,axis=0)\n        dfytrain=y.drop(X.iloc[l:u].index,axis=0)\n        model.fit(dfxtrain,dfytrain.values.ravel())\n        y_pred=model.predict(dfxtest)\n        y_true=pd.Series(dfytest.iloc[:,0])\n#         pd.Series(y.iloc[:,0])\n#         print(y_true)\n#         print(y_pred)\n        scores.append(np.mean(np.abs((y_true - y_pred) / y_true)))\n#         print(\"        FOLD \",f)\n#         print(\"        --> Score :\", (np.mean(np.abs((y_true - y_pred) / y_true))))\n        l=l+size\n        u=u+size\n    print(\"Final score is: \",np.mean(scores))\n    return np.mean(scores)\n      \n        ",
      "execution_count": null,
      "outputs": []
    },
    {
      "metadata": {
        "trusted": true,
        "_uuid": "c641b2f7bcdefd371a660c3ca94f3a4e4b22bff6"
      },
      "cell_type": "code",
      "source": "from sklearn import ensemble\nfrom sklearn.model_selection import cross_val_score\nsc=[]\nmin=1\n\nfor nest in range(200,1000,100):\n    for d in range(3,18):\n        for l in np.arange(0.01,1,0.03):\n            clf = ensemble.GradientBoostingRegressor(n_estimators= nest, max_depth=d,learning_rate=l , loss= 'ls',random_state=30)\n            print(\"N Estimators is : \",nest)\n            print(\"Depth =\",d)\n            print(\"Learning Rate :\",l)\n            newscore=cross_validation_function3(X,y,clf,5)\n            sc.append(newscore)\n            if(newscore<min):\n                min=newscore\n                print(\"Min CHANGED TO : \",min,\" at d =\",d,\" and n est = \",nest,\"l =\",l)\n\n",
      "execution_count": null,
      "outputs": []
    },
    {
      "metadata": {
        "trusted": true,
        "_uuid": "aec7826cc10a762e4dad0753e885a077a1e34d5e"
      },
      "cell_type": "code",
      "source": "",
      "execution_count": null,
      "outputs": []
    },
    {
      "metadata": {
        "trusted": true,
        "_uuid": "aca12845805d2de243ecd3831db5d98c2dc00ead"
      },
      "cell_type": "code",
      "source": "",
      "execution_count": null,
      "outputs": []
    }
  ],
  "metadata": {
    "kernelspec": {
      "display_name": "Python 3",
      "language": "python",
      "name": "python3"
    },
    "language_info": {
      "name": "python",
      "version": "3.6.6",
      "mimetype": "text/x-python",
      "codemirror_mode": {
        "name": "ipython",
        "version": 3
      },
      "pygments_lexer": "ipython3",
      "nbconvert_exporter": "python",
      "file_extension": ".py"
    }
  },
  "nbformat": 4,
  "nbformat_minor": 1
}