{
  "cells": [
    {
      "metadata": {
        "trusted": true,
        "_uuid": "11351c034fced09083819214174fca1ab2b0b195"
      },
      "cell_type": "code",
      "source": "import pandas as pd\nimport matplotlib.pyplot as plt\nimport numpy as np\n\n%matplotlib inline",
      "execution_count": null,
      "outputs": []
    },
    {
      "metadata": {
        "trusted": true,
        "_uuid": "2304339f47a1d1585a3c81008c331c0e5d8017e3"
      },
      "cell_type": "code",
      "source": "df=pd.read_csv(\"../input/final_train_5.csv\")\ndf=df.drop(\"Unnamed: 0\",1)\ndf.head()",
      "execution_count": null,
      "outputs": []
    },
    {
      "metadata": {
        "trusted": true,
        "_uuid": "793d383a324c4f359574c5a1b9d69b975e868766"
      },
      "cell_type": "code",
      "source": "X = df.iloc[:,1:]\nX.head()",
      "execution_count": null,
      "outputs": []
    },
    {
      "metadata": {
        "trusted": true,
        "_uuid": "265d4cc7e04f58ede3dc264bd157b50a6807859f"
      },
      "cell_type": "code",
      "source": "y = pd.DataFrame(df.iloc[:,0])\ny.head()",
      "execution_count": null,
      "outputs": []
    },
    {
      "metadata": {
        "trusted": true,
        "_uuid": "07b0496c3269dbe83bbe00066234ac6033f958cd"
      },
      "cell_type": "code",
      "source": "from lightgbm import LGBMRegressor\nfrom sklearn.neighbors import KNeighborsRegressor\nfrom sklearn.model_selection import train_test_split\nimport numpy as np\nfrom xgboost import XGBRegressor\nfrom sklearn import ensemble\nfrom sklearn.model_selection import cross_val_score\nfrom sklearn.tree import DecisionTreeRegressor\nfrom sklearn.ensemble import RandomForestRegressor\ndef cross_validation_function4(X,y,models,fold,w):\n    size=int(len(X)/fold)\n    l=0\n    u=size\n    scores=[]\n    for f in range(fold):\n#         print(\"l =\",l,\"u =\",u,\"\")\n        dfxtest=X.iloc[l:u,:]\n        dfytest=y.iloc[l:u,:]\n        dfxtrain=X.drop(X.iloc[l:u].index,axis=0)\n        dfytrain=y.drop(X.iloc[l:u].index,axis=0)\n        \n        y_true=pd.Series(dfytest.iloc[:,0])\n        \n        model1.fit(dfxtrain,dfytrain.values.ravel())\n        model2.fit(dfxtrain,dfytrain.values.ravel())\n        model3.fit(dfxtrain,dfytrain.values.ravel())\n        model4.fit(dfxtrain,dfytrain.values.ravel())\n        model5.fit(dfxtrain,dfytrain.values.ravel())\n        model6.fit(dfxtrain,dfytrain.values.ravel())\n        model7.fit(dfxtrain,dfytrain.values.ravel())\n        model8.fit(dfxtrain,dfytrain.values.ravel())\n        model9.fit(dfxtrain,dfytrain.values.ravel())\n        model10.fit(dfxtrain,dfytrain.values.ravel())\n\n        y_pred1=model1.predict(dfxtest)\n        y_pred2=model2.predict(dfxtest)\n        y_pred3=model3.predict(dfxtest)\n        y_pred4=model4.predict(dfxtest)\n        y_pred5=model5.predict(dfxtest)\n        y_pred6=model6.predict(dfxtest)\n        y_pred7=model7.predict(dfxtest)\n        y_pred8=model8.predict(dfxtest)\n        y_pred9=model9.predict(dfxtest)\n        y_pred10=model10.predict(dfxtest)\n            \n            \n        p=[0]*11\n        for i in range(0,len(w)):\n            p[i+1]=w[i]\n        \n        y_pred=(p[1]*y_pred1 + p[2]*y_pred2 + p[3]*y_pred3 + p[4]*y_pred4 + p[5]*y_pred5 + p[6]*y_pred6 + p[7]*y_pred7 + p[8]*y_pred8 + p[9]*y_pred9 + p[10]*y_pred10)\n        sc=np.mean(np.abs((y_true - y_pred) / y_true))\n        scores.append(sc)\n        print(\"        FOLD  :\",f)\n        print(\"        Score :\", sc)\n        l=l+size\n        u=u+size\n    print(\"Final score is: \",np.mean(scores))\n    return np.mean(scores)\n      \n        ",
      "execution_count": null,
      "outputs": []
    },
    {
      "metadata": {
        "trusted": true,
        "_uuid": "774bb9d1ffbc0f29e5261e45374f7425a79d124a"
      },
      "cell_type": "code",
      "source": "w=[0.1111111111111111]*10\nw[2]=0\n\nmodel1 = LGBMRegressor(boosting_type='dart', max_depth=8, learning_rate=0.13, n_estimators=600,objective='regression',metric='mape',tree_learner='serial',random_state=30, n_jobs=-1 )\nmodel2= LGBMRegressor(boosting_type='dart', max_depth=9, learning_rate=0.19, n_estimators=400,objective='regression',metric='mape',tree_learner='serial',random_state=30, n_jobs=-1 )\nmodel3 = LGBMRegressor(boosting_type='dart', max_depth=8, learning_rate=0.24, n_estimators=350,objective='regression',metric='mape',tree_learner='serial',random_state=30, n_jobs=-1 )\nmodel4 = LGBMRegressor(boosting_type='dart',num_iterations=900 ,max_depth=7, learning_rate=0.09, n_estimators=1000,objective='regression',metric='mape',tree_learner='serial',random_state=30, n_jobs=-1 )\nmodel5 = LGBMRegressor(boosting_type='dart', num_leaves=29,min_data_in_leaf=15 ,max_depth=7, learning_rate=0.09, n_estimators=1000,objective='regression',metric='mape',tree_learner='serial',random_state=30, n_jobs=-1 )\nmodel6 = LGBMRegressor(boosting_type='dart', num_leaves=25, max_depth=7, learning_rate=0.13, n_estimators=1000,objective='regression',metric='mape',tree_learner='serial',random_state=30, n_jobs=-1 )\nmodel7 = ensemble.GradientBoostingRegressor(n_estimators= 300, max_depth=7,learning_rate=0.054 , loss= 'ls',random_state=30)\nmodel8 = XGBRegressor(max_depth=8,learning_rate=0.04, n_estimators=500,booster='gbtree',random_state=30)\nmodel9 = XGBRegressor(max_depth=8,learning_rate=0.081, n_estimators=100,booster='gbtree',random_state=30)\nmodel10 = RandomForestRegressor(max_depth=18, random_state=30,n_estimators=91)\n\n\n\nmodel1.fit(X,y.values.ravel())\nmodel2.fit(X,y.values.ravel())\nmodel3.fit(X,y.values.ravel())\nmodel4.fit(X,y.values.ravel())\nmodel5.fit(X,y.values.ravel())\nmodel6.fit(X,y.values.ravel())\nmodel7.fit(X,y.values.ravel())\nmodel8.fit(X,y.values.ravel())\nmodel9.fit(X,y.values.ravel())\nmodel10.fit(X,y.values.ravel())\n\ny_pred1=model1.predict(X)\ny_pred2=model2.predict(X)\ny_pred3=model3.predict(X)\ny_pred4=model4.predict(X)\ny_pred5=model5.predict(X)\ny_pred6=model6.predict(X)\ny_pred7=model7.predict(X)\ny_pred8=model8.predict(X)\ny_pred9=model9.predict(X)\ny_pred10=model10.predict(X)\n\ny_true=pd.Series(y.iloc[:,0])\np=[0]*11\nfor i in range(0,len(w)):\n    p[i+1]=w[i]\ny_pred=(p[1]*y_pred1 + p[2]*y_pred2 + p[3]*y_pred3 + p[4]*y_pred4 + p[5]*y_pred5 + p[6]*y_pred6 + p[7]*y_pred7 + p[8]*y_pred8 + p[9]*y_pred9 + p[10]*y_pred10)\n\nprint(\"Training Error : \",np.mean(np.abs((y_true - y_pred) / y_true)))\n\nmodel1 = LGBMRegressor(boosting_type='dart', max_depth=8, learning_rate=0.13, n_estimators=600,objective='regression',metric='mape',tree_learner='serial',random_state=30, n_jobs=-1 )\nmodel2= LGBMRegressor(boosting_type='dart', max_depth=9, learning_rate=0.19, n_estimators=400,objective='regression',metric='mape',tree_learner='serial',random_state=30, n_jobs=-1 )\nmodel3 = LGBMRegressor(boosting_type='dart', max_depth=8, learning_rate=0.24, n_estimators=350,objective='regression',metric='mape',tree_learner='serial',random_state=30, n_jobs=-1 )\nmodel4 = LGBMRegressor(boosting_type='dart',num_iterations=900 ,max_depth=7, learning_rate=0.09, n_estimators=1000,objective='regression',metric='mape',tree_learner='serial',random_state=30, n_jobs=-1 )\nmodel5 = LGBMRegressor(boosting_type='dart', num_leaves=29,min_data_in_leaf=15 ,max_depth=7, learning_rate=0.09, n_estimators=1000,objective='regression',metric='mape',tree_learner='serial',random_state=30, n_jobs=-1 )\nmodel6 = LGBMRegressor(boosting_type='dart', num_leaves=25, max_depth=7, learning_rate=0.13, n_estimators=1000,objective='regression',metric='mape',tree_learner='serial',random_state=30, n_jobs=-1 )\nmodel7 = ensemble.GradientBoostingRegressor(n_estimators= 300, max_depth=7,learning_rate=0.054 , loss= 'ls',random_state=30)\nmodel8 = XGBRegressor(max_depth=8,learning_rate=0.04, n_estimators=500,booster='gbtree',random_state=30)\nmodel9 = XGBRegressor(max_depth=8,learning_rate=0.081, n_estimators=100,booster='gbtree',random_state=30)\nmodel10 = RandomForestRegressor(max_depth=18, random_state=30,n_estimators=91)\n\nlistofmodels=[model1,model2,model3,model4,model5,model6,model7,model8,model9,model10]\n\n\nnewscore=cross_validation_function4(X,y,listofmodels,5,w)\nprint(\"Testing Cross Validation Error: \",newscore)",
      "execution_count": null,
      "outputs": []
    },
    {
      "metadata": {
        "trusted": true,
        "_uuid": "0e4ed7e58419ca0a7d7f589f282a0dd3c5e9ca64"
      },
      "cell_type": "code",
      "source": "",
      "execution_count": null,
      "outputs": []
    },
    {
      "metadata": {
        "trusted": true,
        "_uuid": "4ef58336ef9b86cd14c10dacc5b7744b4dccfc57"
      },
      "cell_type": "markdown",
      "source": "# LightGBM Final Models:\n"
    },
    {
      "metadata": {
        "trusted": true,
        "_uuid": "0d0113fdd21eefacb333af3cb21621fa5fe650ee"
      },
      "cell_type": "code",
      "source": "def cross_validation_function3(X,y,model,fold):\n    size=int(len(X)/fold)\n    l=0\n    u=size\n    scores=[]\n    for f in range(fold):\n#         print(\"l =\",l,\"u =\",u,\"\")\n        dfxtest=X.iloc[l:u,:]\n        dfytest=y.iloc[l:u,:]\n        dfxtrain=X.drop(X.iloc[l:u].index,axis=0)\n        dfytrain=y.drop(X.iloc[l:u].index,axis=0)\n        model.fit(dfxtrain,dfytrain.values.ravel())\n        y_pred=model.predict(dfxtest)\n        y_true=pd.Series(dfytest.iloc[:,0])\n#         pd.Series(y.iloc[:,0])\n#         print(y_true)\n#         print(y_pred)\n        scores.append(np.mean(np.abs((y_true - y_pred) / y_true)))\n#         print(\"        FOLD \",f)\n#         print(\"        --> Score :\", (np.mean(np.abs((y_true - y_pred) / y_true))))\n        l=l+size\n        u=u+size\n    print(\"Final score is: \",np.mean(scores))\n    return np.mean(scores)\n      \n        ",
      "execution_count": null,
      "outputs": []
    },
    {
      "metadata": {
        "trusted": true,
        "_uuid": "60f18f4eb6dde3d91f5a357701c34c6931350f10"
      },
      "cell_type": "code",
      "source": "from lightgbm import LGBMRegressor\nimport numpy as np\nmodel = LGBMRegressor(num_iterations=900,boosting_type='dart', max_depth=7, learning_rate=0.08, n_estimators=1000,objective='regression',metric='mape',tree_learner='serial',random_state=30, n_jobs=-1 )\nmodel.fit(X,y.values.ravel())\ny_pred=model.predict(X)\ny_true=pd.Series(y.iloc[:,0])\nprint(\"Training Error : \",np.mean(np.abs((y_true - y_pred) / y_true)))\nmodel = LGBMRegressor(num_iterations=900,boosting_type='dart', max_depth=7, learning_rate=0.08, n_estimators=1000,objective='regression',metric='mape',tree_learner='serial',random_state=30, n_jobs=-1 )\nnewscore=cross_validation_function3(X,y,model,5)\nprint(\"Testing Cross Validation Error: \",newscore)\n\n\n            ",
      "execution_count": null,
      "outputs": []
    },
    {
      "metadata": {
        "trusted": true,
        "_uuid": "00cd5ab712607ad00ba7a38482407ab93bc171d1"
      },
      "cell_type": "code",
      "source": "# 5\nfrom lightgbm import LGBMRegressor\nimport numpy as np\nmodel = LGBMRegressor(boosting_type='dart', max_depth=8, learning_rate=0.13, n_estimators=600,objective='regression',metric='mape',tree_learner='serial',random_state=30, n_jobs=-1 )\nmodel.fit(X,y.values.ravel())\ny_pred=model.predict(X)\ny_true=pd.Series(y.iloc[:,0])\nprint(\"Training Error : \",np.mean(np.abs((y_true - y_pred) / y_true)))\nmodel = LGBMRegressor(boosting_type='dart', max_depth=8, learning_rate=0.13, n_estimators=600,objective='regression',metric='mape',tree_learner='serial',random_state=30, n_jobs=-1 )\nnewscore=cross_validation_function3(X,y,model,5)\nprint(\"Testing Cross Validation Error: \",newscore)\n\n\n            ",
      "execution_count": null,
      "outputs": []
    },
    {
      "metadata": {
        "trusted": true,
        "_uuid": "efed5421f1f26c8e8cb1daaf973ed6c60def92cc"
      },
      "cell_type": "code",
      "source": "# 6\nfrom lightgbm import LGBMRegressor\nimport numpy as np\nmodel = LGBMRegressor(boosting_type='dart', max_depth=8, learning_rate=0.13, n_estimators=500,objective='regression',metric='mape',tree_learner='serial',random_state=30, n_jobs=-1 )\nmodel.fit(X,y.values.ravel())\ny_pred=model.predict(X)\ny_true=pd.Series(y.iloc[:,0])\nprint(\"Training Error : \",np.mean(np.abs((y_true - y_pred) / y_true)))\nmodel = LGBMRegressor(boosting_type='dart', max_depth=8, learning_rate=0.13, n_estimators=500,objective='regression',metric='mape',tree_learner='serial',random_state=30, n_jobs=-1 )\nnewscore=cross_validation_function3(X,y,model,5)\nprint(\"Testing Cross Validation Error: \",newscore)\n\n\n            ",
      "execution_count": null,
      "outputs": []
    },
    {
      "metadata": {
        "trusted": true,
        "_uuid": "091622f5c452946c278c2a801dcf8f5947d8f0ae"
      },
      "cell_type": "code",
      "source": "# 7\nfrom lightgbm import LGBMRegressor\nimport numpy as np\nmodel = LGBMRegressor(boosting_type='dart', max_depth=7, learning_rate=0.14, n_estimators=400,objective='regression',metric='mape',tree_learner='serial',random_state=30, n_jobs=-1 )\nmodel.fit(X,y.values.ravel())\ny_pred=model.predict(X)\ny_true=pd.Series(y.iloc[:,0])\nprint(\"Training Error : \",np.mean(np.abs((y_true - y_pred) / y_true)))\nmodel = LGBMRegressor(boosting_type='dart', max_depth=7, learning_rate=0.14, n_estimators=400,objective='regression',metric='mape',tree_learner='serial',random_state=30, n_jobs=-1 )\nnewscore=cross_validation_function3(X,y,model,5)\nprint(\"Testing Cross Validation Error: \",newscore)\n\n\n            ",
      "execution_count": null,
      "outputs": []
    },
    {
      "metadata": {
        "trusted": true,
        "_uuid": "5171dbaaaf38e87dea6c733a8f8cc48d302ed5b0"
      },
      "cell_type": "code",
      "source": "# 12\nfrom lightgbm import LGBMRegressor\nimport numpy as np\nmodel = LGBMRegressor(boosting_type='dart', max_depth=9, learning_rate=0.19, n_estimators=400,objective='regression',metric='mape',tree_learner='serial',random_state=30, n_jobs=-1 )\nmodel.fit(X,y.values.ravel())\ny_pred=model.predict(X)\ny_true=pd.Series(y.iloc[:,0])\nprint(\"Training Error : \",np.mean(np.abs((y_true - y_pred) / y_true)))\nmodel = LGBMRegressor(boosting_type='dart', max_depth=9, learning_rate=0.19, n_estimators=400,objective='regression',metric='mape',tree_learner='serial',random_state=30, n_jobs=-1 )\nnewscore=cross_validation_function3(X,y,model,5)\nprint(\"Testing Cross Validation Error: \",newscore)\n\n\n            ",
      "execution_count": null,
      "outputs": []
    },
    {
      "metadata": {
        "trusted": true,
        "_uuid": "001825264f59b63784315dbccd3427f5d11c7e36"
      },
      "cell_type": "code",
      "source": "# 11\nfrom lightgbm import LGBMRegressor\nimport numpy as np\nmodel = LGBMRegressor(boosting_type='dart', max_depth=8, learning_rate=0.24, n_estimators=350,objective='regression',metric='mape',tree_learner='serial',random_state=30, n_jobs=-1 )\nmodel.fit(X,y.values.ravel())\ny_pred=model.predict(X)\ny_true=pd.Series(y.iloc[:,0])\nprint(\"Training Error : \",np.mean(np.abs((y_true - y_pred) / y_true)))\nmodel = LGBMRegressor(boosting_type='dart', max_depth=8, learning_rate=0.24, n_estimators=350,objective='regression',metric='mape',tree_learner='serial',random_state=30, n_jobs=-1 )\nnewscore=cross_validation_function3(X,y,model,5)\nprint(\"Testing Cross Validation Error: \",newscore)\n\n\n            ",
      "execution_count": null,
      "outputs": []
    },
    {
      "metadata": {
        "trusted": true,
        "_uuid": "75a3c21044eb236d603403acbe2677b3825461bb"
      },
      "cell_type": "code",
      "source": "for l in np.arange(0.075,0.095,0.001):\n    model = LGBMRegressor(num_iterations=900,boosting_type='dart', max_depth=7, learning_rate=l, n_estimators=1000,objective='regression',metric='mape',tree_learner='serial',random_state=30, n_jobs=-1 )\n    model.fit(X,y.values.ravel())\n    y_pred=model.predict(X)\n    y_true=pd.Series(y.iloc[:,0])\n    print(\"Training Error : \",np.mean(np.abs((y_true - y_pred) / y_true)))\n    newscore=cross_validation_function3(X,y,model,5)\n    print(\"Testing Cross Validation Error: \",newscore)\n\n    \n#     1 \n\n",
      "execution_count": null,
      "outputs": []
    },
    {
      "metadata": {
        "trusted": true,
        "_uuid": "f4e447697c5e9fb4c7c78ff267ffefb467c840f7"
      },
      "cell_type": "code",
      "source": "from lightgbm import LGBMRegressor\nimport numpy as np\nmodel = LGBMRegressor(num_iterations=900,boosting_type='dart', max_depth=7, learning_rate=0.09, n_estimators=1000,objective='regression',metric='mape',tree_learner='serial',random_state=30, n_jobs=-1 )\nmodel.fit(X,y.values.ravel())\ny_pred=model.predict(X)\ny_true=pd.Series(y.iloc[:,0])\nprint(\"Training Error : \",np.mean(np.abs((y_true - y_pred) / y_true)))\nmodel = LGBMRegressor(num_iterations=900,boosting_type='dart', max_depth=7, learning_rate=0.08, n_estimators=1000,objective='regression',metric='mape',tree_learner='serial',random_state=30, n_jobs=-1 )\nnewscore=cross_validation_function3(X,y,model,5)\nprint(\"Testing Cross Validation Error: \",newscore)\n\n\n            ",
      "execution_count": null,
      "outputs": []
    },
    {
      "metadata": {
        "trusted": true,
        "_uuid": "ac38938b688facd40d751272eb343c308b871e83"
      },
      "cell_type": "code",
      "source": "\nmodel = LGBMRegressor(boosting_type='dart', max_depth=8, learning_rate=0.13, n_estimators=600,objective='regression',metric='mape',tree_learner='serial',random_state=30, n_jobs=-1 )\nmodel.fit(X,y.values.ravel())\ny_pred=model.predict(X)\ny_true=pd.Series(y.iloc[:,0])\nprint(\"Training Error : \",np.mean(np.abs((y_true - y_pred) / y_true)))\nmodel = LGBMRegressor(boosting_type='dart', max_depth=8, learning_rate=0.13, n_estimators=600,objective='regression',metric='mape',tree_learner='serial',random_state=30, n_jobs=-1 )\nnewscore=cross_validation_function3(X,y,model,5)\nprint(\"Testing Cross Validation Error: \",newscore)\n\n\n            ",
      "execution_count": null,
      "outputs": []
    },
    {
      "metadata": {
        "trusted": true,
        "_uuid": "1792c0376d87a1f57f1651949ee831e0edf6aedf"
      },
      "cell_type": "code",
      "source": "# 12\nmodel = LGBMRegressor(boosting_type='dart', max_depth=9, learning_rate=0.19, n_estimators=400,objective='regression',metric='mape',tree_learner='serial',random_state=30, n_jobs=-1 )\nmodel.fit(X,y.values.ravel())\ny_pred=model.predict(X)\ny_true=pd.Series(y.iloc[:,0])\nprint(\"Training Error : \",np.mean(np.abs((y_true - y_pred) / y_true)))\nmodel = LGBMRegressor(boosting_type='dart', max_depth=9, learning_rate=0.19, n_estimators=400,objective='regression',metric='mape',tree_learner='serial',random_state=30, n_jobs=-1 )\nnewscore=cross_validation_function3(X,y,model,5)\nprint(\"Testing Cross Validation Error: \",newscore)\n\n\n            ",
      "execution_count": null,
      "outputs": []
    },
    {
      "metadata": {
        "trusted": true,
        "_uuid": "92348750a88c989db338cac2801a6c2edd51e61d"
      },
      "cell_type": "code",
      "source": "# 6\nmodel = LGBMRegressor(boosting_type='dart', max_depth=8, learning_rate=0.13, n_estimators=500,objective='regression',metric='mape',tree_learner='serial',random_state=30, n_jobs=-1 )\nmodel.fit(X,y.values.ravel())\ny_pred=model.predict(X)\ny_true=pd.Series(y.iloc[:,0])\nprint(\"Training Error : \",np.mean(np.abs((y_true - y_pred) / y_true)))\nmodel = LGBMRegressor(boosting_type='dart', max_depth=8, learning_rate=0.13, n_estimators=500,objective='regression',metric='mape',tree_learner='serial',random_state=30, n_jobs=-1 )\nnewscore=cross_validation_function3(X,y,model,5)\nprint(\"Testing Cross Validation Error: \",newscore)\n\n\n            ",
      "execution_count": null,
      "outputs": []
    },
    {
      "metadata": {
        "trusted": true,
        "_uuid": "01d1df8dcde38152e1222b0c286ee44833af5721"
      },
      "cell_type": "code",
      "source": "# 4\nmodel = LGBMRegressor(boosting_type='dart',num_iterations=900 ,max_depth=7, learning_rate=0.09, n_estimators=1000,objective='regression',metric='mape',tree_learner='serial',random_state=30, n_jobs=-1 )\nmodel.fit(X,y.values.ravel())\ny_pred=model.predict(X)\ny_true=pd.Series(y.iloc[:,0])\nprint(\"Training Error : \",np.mean(np.abs((y_true - y_pred) / y_true)))\nmodel = LGBMRegressor(boosting_type='dart',num_iterations=900 ,max_depth=7, learning_rate=0.09, n_estimators=1000,objective='regression',metric='mape',tree_learner='serial',random_state=30, n_jobs=-1 )\nnewscore=cross_validation_function3(X,y,model,5)\nprint(\"Testing Cross Validation Error: \",newscore)\n\n\n            ",
      "execution_count": null,
      "outputs": []
    },
    {
      "metadata": {
        "trusted": true,
        "_uuid": "0285605cd082017c42c86d127f047731da0780d1"
      },
      "cell_type": "code",
      "source": "# 25\n\nmodel = LGBMRegressor(boosting_type='dart', num_leaves=29,min_data_in_leaf=15 ,max_depth=7, learning_rate=0.09, n_estimators=1000,objective='regression',metric='mape',tree_learner='serial',random_state=30, n_jobs=-1 )\nmodel.fit(X,y.values.ravel())\ny_pred=model.predict(X)\ny_true=pd.Series(y.iloc[:,0])\nprint(\"Training Error : \",np.mean(np.abs((y_true - y_pred) / y_true)))\nmodel = LGBMRegressor(boosting_type='dart', num_leaves=29,min_data_in_leaf=15 ,max_depth=7, learning_rate=0.09, n_estimators=1000,objective='regression',metric='mape',tree_learner='serial',random_state=30, n_jobs=-1 )\nnewscore=cross_validation_function3(X,y,model,5)\nprint(\"Testing Cross Validation Error: \",newscore)\n\n\n            ",
      "execution_count": null,
      "outputs": []
    },
    {
      "metadata": {
        "trusted": true,
        "_uuid": "60ea53769356426471339f6c6694c70eb13dad84"
      },
      "cell_type": "code",
      "source": "# ",
      "execution_count": null,
      "outputs": []
    },
    {
      "metadata": {
        "trusted": true,
        "_uuid": "655120c0e57bad0588b678c5dfeb270f3b2c1b5c"
      },
      "cell_type": "code",
      "source": "# 22\n\nmodel = LGBMRegressor(boosting_type='dart', num_leaves=25, max_depth=7, learning_rate=0.13, n_estimators=1000,objective='regression',metric='mape',tree_learner='serial',random_state=30, n_jobs=-1 )\nmodel.fit(X,y.values.ravel())\ny_pred=model.predict(X)\ny_true=pd.Series(y.iloc[:,0])\nprint(\"Training Error : \",np.mean(np.abs((y_true - y_pred) / y_true)))\nmodel = LGBMRegressor(boosting_type='dart', num_leaves=25, max_depth=7, learning_rate=0.13, n_estimators=1000,objective='regression',metric='mape',tree_learner='serial',random_state=30, n_jobs=-1 )\nnewscore=cross_validation_function3(X,y,model,5)\nprint(\"Testing Cross Validation Error: \",newscore)\n\n\n            ",
      "execution_count": null,
      "outputs": []
    },
    {
      "metadata": {
        "trusted": true,
        "_uuid": "18a05d82ec70eb2ad62816a1f7f7dca14fda597b"
      },
      "cell_type": "code",
      "source": "# Gradient Booster Final ",
      "execution_count": null,
      "outputs": []
    },
    {
      "metadata": {
        "trusted": true,
        "_uuid": "1214669755d559013d03e66004c1666d6b7bda56"
      },
      "cell_type": "code",
      "source": "# 13\n\nfrom sklearn import ensemble\nfrom sklearn.model_selection import cross_val_score  \nmodel = ensemble.GradientBoostingRegressor(n_estimators= 250, max_depth=8,learning_rate=0.035 , loss= 'ls',random_state=30)\nmodel.fit(X,y.values.ravel())\ny_pred=model.predict(X)\ny_true=pd.Series(y.iloc[:,0])\nprint(\"Training Error : \",np.mean(np.abs((y_true - y_pred) / y_true)))\nmodel = ensemble.GradientBoostingRegressor(n_estimators= 250, max_depth=8,learning_rate=0.035 , loss= 'ls',random_state=30)\nnewscore=cross_validation_function3(X,y,model,5)\nprint(\"Testing Cross Validation Error: \",newscore)\n\n\n              ",
      "execution_count": null,
      "outputs": []
    },
    {
      "metadata": {
        "trusted": true,
        "_uuid": "7e7a8f8ae474e652bc5ee069795e70a5c6ab99e9"
      },
      "cell_type": "code",
      "source": "# 16\n\nfrom sklearn import ensemble\nfrom sklearn.model_selection import cross_val_score  \nmodel = ensemble.GradientBoostingRegressor(n_estimators= 300, max_depth=7,learning_rate=0.054 , loss= 'ls',random_state=30)\nmodel.fit(X,y.values.ravel())\ny_pred=model.predict(X)\ny_true=pd.Series(y.iloc[:,0])\nprint(\"Training Error : \",np.mean(np.abs((y_true - y_pred) / y_true)))\nmodel = ensemble.GradientBoostingRegressor(n_estimators= 300, max_depth=7,learning_rate=0.054 , loss= 'ls',random_state=30)\nnewscore=cross_validation_function3(X,y,model,5)\nprint(\"Testing Cross Validation Error: \",newscore)\n\n\n              ",
      "execution_count": null,
      "outputs": []
    },
    {
      "metadata": {
        "trusted": true,
        "_uuid": "7bfa55613da81b040fe2a641f8f55c6dc2a86296"
      },
      "cell_type": "code",
      "source": "",
      "execution_count": null,
      "outputs": []
    },
    {
      "metadata": {
        "trusted": true,
        "_uuid": "ebbeb207dcfb635c0d87f6c24d9ac39a5d91a3e1"
      },
      "cell_type": "code",
      "source": "\nmodel = LGBMRegressor(num_iterations=iter,boosting_type='dart', num_leaves=n, max_depth=8, learning_rate=0.035, n_estimators=250,objective='regression',metric='mape',tree_learner='serial',min_data_in_leaf=m,random_state=30, n_jobs=-1 )\nmodel.fit(X,y.values.ravel())\ny_pred=model.predict(X)\ny_true=pd.Series(y.iloc[:,0])\nprint(\"Training Error : \",np.mean(np.abs((y_true - y_pred) / y_true)))\nnewscore=cross_validation_function3(X,y,model,5)\nprint(\"Testing Cross Validation Error: \",newscore)\n\n\n            ",
      "execution_count": null,
      "outputs": []
    },
    {
      "metadata": {
        "trusted": true,
        "_uuid": "8baf15c3bda88f322ad0774080831533bfcbdda9"
      },
      "cell_type": "code",
      "source": "\nmodel = LGBMRegressor(num_iterations=iter,boosting_type='dart', num_leaves=n, max_depth=7, learning_rate=l, n_estimators=1000,objective='regression',metric='mape',tree_learner='serial',min_data_in_leaf=m,random_state=30, n_jobs=-1 )\nmodel.fit(X,y.values.ravel())\ny_pred=model.predict(X)\ny_true=pd.Series(y.iloc[:,0])\nprint(\"Training Error : \",np.mean(np.abs((y_true - y_pred) / y_true)))\nnewscore=cross_validation_function3(X,y,model,5)\nprint(\"Testing Cross Validation Error: \",newscore)\n\n\n            ",
      "execution_count": null,
      "outputs": []
    },
    {
      "metadata": {
        "trusted": true,
        "_uuid": "221f4eedb4287c499add502c2ecf901656275e5b"
      },
      "cell_type": "code",
      "source": "\nmodel = LGBMRegressor(num_iterations=iter,boosting_type='dart', num_leaves=n, max_depth=7, learning_rate=l, n_estimators=1000,objective='regression',metric='mape',tree_learner='serial',min_data_in_leaf=m,random_state=30, n_jobs=-1 )\nmodel.fit(X,y.values.ravel())\ny_pred=model.predict(X)\ny_true=pd.Series(y.iloc[:,0])\nprint(\"Training Error : \",np.mean(np.abs((y_true - y_pred) / y_true)))\nnewscore=cross_validation_function3(X,y,model,5)\nprint(\"Testing Cross Validation Error: \",newscore)\n\n\n            ",
      "execution_count": null,
      "outputs": []
    },
    {
      "metadata": {
        "trusted": true,
        "_uuid": "c9d5d1d1e1b0fed613ec34c6d1d9d1015cbcf119"
      },
      "cell_type": "code",
      "source": "\nmodel = LGBMRegressor(num_iterations=iter,boosting_type='dart', num_leaves=n, max_depth=7, learning_rate=l, n_estimators=1000,objective='regression',metric='mape',tree_learner='serial',min_data_in_leaf=m,random_state=30, n_jobs=-1 )\nmodel.fit(X,y.values.ravel())\ny_pred=model.predict(X)\ny_true=pd.Series(y.iloc[:,0])\nprint(\"Training Error : \",np.mean(np.abs((y_true - y_pred) / y_true)))\nnewscore=cross_validation_function3(X,y,model,5)\nprint(\"Testing Cross Validation Error: \",newscore)\n\n\n            ",
      "execution_count": null,
      "outputs": []
    },
    {
      "metadata": {
        "trusted": true,
        "_uuid": "33e5e39c5ecfcd3ba435ce715ef10fc574968fbe"
      },
      "cell_type": "code",
      "source": "\nmodel = LGBMRegressor(num_iterations=iter,boosting_type='dart', num_leaves=n, max_depth=7, learning_rate=l, n_estimators=1000,objective='regression',metric='mape',tree_learner='serial',min_data_in_leaf=m,random_state=30, n_jobs=-1 )\nmodel.fit(X,y.values.ravel())\ny_pred=model.predict(X)\ny_true=pd.Series(y.iloc[:,0])\nprint(\"Training Error : \",np.mean(np.abs((y_true - y_pred) / y_true)))\nnewscore=cross_validation_function3(X,y,model,5)\nprint(\"Testing Cross Validation Error: \",newscore)\n\n\n            ",
      "execution_count": null,
      "outputs": []
    },
    {
      "metadata": {
        "trusted": true,
        "_uuid": "3c31ec91f2119d08e39a35f636a33baa5900c037"
      },
      "cell_type": "code",
      "source": "\nmodel = LGBMRegressor(num_iterations=iter,boosting_type='dart', num_leaves=n, max_depth=7, learning_rate=l, n_estimators=1000,objective='regression',metric='mape',tree_learner='serial',min_data_in_leaf=m,random_state=30, n_jobs=-1 )\nmodel.fit(X,y.values.ravel())\ny_pred=model.predict(X)\ny_true=pd.Series(y.iloc[:,0])\nprint(\"Training Error : \",np.mean(np.abs((y_true - y_pred) / y_true)))\nnewscore=cross_validation_function3(X,y,model,5)\nprint(\"Testing Cross Validation Error: \",newscore)\n\n\n            ",
      "execution_count": null,
      "outputs": []
    },
    {
      "metadata": {
        "trusted": true,
        "_uuid": "bf89820b528841183b920ab959315effa36136d2"
      },
      "cell_type": "code",
      "source": "\nmodel = LGBMRegressor(num_iterations=iter,boosting_type='dart', num_leaves=n, max_depth=7, learning_rate=l, n_estimators=1000,objective='regression',metric='mape',tree_learner='serial',min_data_in_leaf=m,random_state=30, n_jobs=-1 )\nmodel.fit(X,y.values.ravel())\ny_pred=model.predict(X)\ny_true=pd.Series(y.iloc[:,0])\nprint(\"Training Error : \",np.mean(np.abs((y_true - y_pred) / y_true)))\nnewscore=cross_validation_function3(X,y,model,5)\nprint(\"Testing Cross Validation Error: \",newscore)\n\n\n            ",
      "execution_count": null,
      "outputs": []
    },
    {
      "metadata": {
        "trusted": true,
        "_uuid": "24b72e9af1c1688c58af7611a8ca0fe929bada98"
      },
      "cell_type": "code",
      "source": "\nmodel = LGBMRegressor(num_iterations=iter,boosting_type='dart', num_leaves=n, max_depth=7, learning_rate=l, n_estimators=1000,objective='regression',metric='mape',tree_learner='serial',min_data_in_leaf=m,random_state=30, n_jobs=-1 )\nmodel.fit(X,y.values.ravel())\ny_pred=model.predict(X)\ny_true=pd.Series(y.iloc[:,0])\nprint(\"Training Error : \",np.mean(np.abs((y_true - y_pred) / y_true)))\nnewscore=cross_validation_function3(X,y,model,5)\nprint(\"Testing Cross Validation Error: \",newscore)\n\n\n            ",
      "execution_count": null,
      "outputs": []
    },
    {
      "metadata": {
        "trusted": true,
        "_uuid": "404aaefd4133d9a3dc57013a6ae820220a1dd2a5"
      },
      "cell_type": "code",
      "source": "\nmodel = LGBMRegressor(num_iterations=iter,boosting_type='dart', num_leaves=n, max_depth=7, learning_rate=l, n_estimators=1000,objective='regression',metric='mape',tree_learner='serial',min_data_in_leaf=m,random_state=30, n_jobs=-1 )\nmodel.fit(X,y.values.ravel())\ny_pred=model.predict(X)\ny_true=pd.Series(y.iloc[:,0])\nprint(\"Training Error : \",np.mean(np.abs((y_true - y_pred) / y_true)))\nnewscore=cross_validation_function3(X,y,model,5)\nprint(\"Testing Cross Validation Error: \",newscore)\n\n\n            ",
      "execution_count": null,
      "outputs": []
    },
    {
      "metadata": {
        "trusted": true,
        "_uuid": "e06a0def0da24f0aff8e03ee78572dd15a251b8a"
      },
      "cell_type": "code",
      "source": "\nmodel = LGBMRegressor(num_iterations=iter,boosting_type='dart', num_leaves=n, max_depth=7, learning_rate=l, n_estimators=1000,objective='regression',metric='mape',tree_learner='serial',min_data_in_leaf=m,random_state=30, n_jobs=-1 )\nmodel.fit(X,y.values.ravel())\ny_pred=model.predict(X)\ny_true=pd.Series(y.iloc[:,0])\nprint(\"Training Error : \",np.mean(np.abs((y_true - y_pred) / y_true)))\nnewscore=cross_validation_function3(X,y,model,5)\nprint(\"Testing Cross Validation Error: \",newscore)\n\n\n            ",
      "execution_count": null,
      "outputs": []
    },
    {
      "metadata": {
        "trusted": true,
        "_uuid": "310573cc7fb2585d41c185d0fdfbf0b54057fb51"
      },
      "cell_type": "code",
      "source": "\nmodel = LGBMRegressor(num_iterations=iter,boosting_type='dart', num_leaves=n, max_depth=7, learning_rate=l, n_estimators=1000,objective='regression',metric='mape',tree_learner='serial',min_data_in_leaf=m,random_state=30, n_jobs=-1 )\nmodel.fit(X,y.values.ravel())\ny_pred=model.predict(X)\ny_true=pd.Series(y.iloc[:,0])\nprint(\"Training Error : \",np.mean(np.abs((y_true - y_pred) / y_true)))\nnewscore=cross_validation_function3(X,y,model,5)\nprint(\"Testing Cross Validation Error: \",newscore)\n\n\n            ",
      "execution_count": null,
      "outputs": []
    },
    {
      "metadata": {
        "trusted": true,
        "_uuid": "8e819ce94a031ead6fe8392f49efc74a9db62ce8"
      },
      "cell_type": "code",
      "source": "\nmodel = LGBMRegressor(num_iterations=iter,boosting_type='dart', num_leaves=n, max_depth=7, learning_rate=l, n_estimators=1000,objective='regression',metric='mape',tree_learner='serial',min_data_in_leaf=m,random_state=30, n_jobs=-1 )\nmodel.fit(X,y.values.ravel())\ny_pred=model.predict(X)\ny_true=pd.Series(y.iloc[:,0])\nprint(\"Training Error : \",np.mean(np.abs((y_true - y_pred) / y_true)))\nnewscore=cross_validation_function3(X,y,model,5)\nprint(\"Testing Cross Validation Error: \",newscore)\n\n\n            ",
      "execution_count": null,
      "outputs": []
    },
    {
      "metadata": {
        "trusted": true,
        "_uuid": "acdd6a7532b23ce3e072f44f25b05206657d4598"
      },
      "cell_type": "code",
      "source": "\nmodel = LGBMRegressor(num_iterations=iter,boosting_type='dart', num_leaves=n, max_depth=7, learning_rate=l, n_estimators=1000,objective='regression',metric='mape',tree_learner='serial',min_data_in_leaf=m,random_state=30, n_jobs=-1 )\nmodel.fit(X,y.values.ravel())\ny_pred=model.predict(X)\ny_true=pd.Series(y.iloc[:,0])\nprint(\"Training Error : \",np.mean(np.abs((y_true - y_pred) / y_true)))\nnewscore=cross_validation_function3(X,y,model,5)\nprint(\"Testing Cross Validation Error: \",newscore)\n\n\n            ",
      "execution_count": null,
      "outputs": []
    },
    {
      "metadata": {
        "_uuid": "088c9868619a86e25f43775680f0207823d69e34"
      },
      "cell_type": "markdown",
      "source": "# LightGBM ends here "
    },
    {
      "metadata": {
        "trusted": true,
        "_uuid": "e5cb4460c25090d25387d2f47d2e024c87983bb8"
      },
      "cell_type": "code",
      "source": "from keras.callbacks import ModelCheckpoint\nfrom keras.models import Sequential\nfrom keras.layers import Dense, Activation, Flatten\nfrom sklearn.model_selection import train_test_split\nfrom sklearn.ensemble import RandomForestRegressor\nfrom sklearn.metrics import mean_absolute_error \nfrom matplotlib import pyplot as plt\nimport seaborn as sb\nimport matplotlib.pyplot as plt\nimport pandas as pd\nimport numpy as np\nimport warnings \nwarnings.filterwarnings('ignore')\nwarnings.filterwarnings('ignore', category=DeprecationWarning)\nfrom xgboost import XGBRegressor\n",
      "execution_count": null,
      "outputs": []
    },
    {
      "metadata": {
        "trusted": true,
        "_uuid": "b71c68951f154d896eb3dcfee11140f976d4a638"
      },
      "cell_type": "code",
      "source": "NN_model = Sequential()\n\n# The Input Layer :\nNN_model.add(Dense(128, kernel_initializer='normal',input_dim = X.shape[1], activation='relu'))\n\n# The Hidden Layers :\nNN_model.add(Dense(256, kernel_initializer='normal',activation='relu'))\nNN_model.add(Dense(256, kernel_initializer='normal',activation='relu'))\nNN_model.add(Dense(256, kernel_initializer='normal',activation='relu'))\n\n# The Output Layer :\nNN_model.add(Dense(1, kernel_initializer='normal',activation='linear'))\n\n# Compile the network :\nNN_model.compile(loss='mean_absolute_error', optimizer='adam', metrics=['mean_absolute_error'])\nNN_model.summary()",
      "execution_count": null,
      "outputs": []
    },
    {
      "metadata": {
        "trusted": true,
        "_uuid": "b8ed37cf582ff6edbd477cbb8918bc460483e5f5"
      },
      "cell_type": "code",
      "source": "checkpoint_name = 'Weights-{epoch:03d}--{val_loss:.5f}.hdf5' \ncheckpoint = ModelCheckpoint(checkpoint_name, monitor='val_loss', verbose = 1, save_best_only = True, mode ='auto')\ncallbacks_list = [checkpoint]",
      "execution_count": null,
      "outputs": []
    },
    {
      "metadata": {
        "trusted": true,
        "_uuid": "302f0d8203cdb295bb1e9e64b4a5b969a14ec916"
      },
      "cell_type": "code",
      "source": "NN_model.fit(X,y, epochs=500, batch_size=32, validation_split = 0.2, callbacks=callbacks_list)\n",
      "execution_count": null,
      "outputs": []
    },
    {
      "metadata": {
        "trusted": true,
        "_uuid": "5451fd04e79fa4205063fbfec2c0a57c28aa92d6"
      },
      "cell_type": "code",
      "source": "# wights_file = 'Weights-00500--141345.79756.hdf5' # choose the best checkpoint \n# NN_model.load_weights(wights_file) # load it\n# NN_model.compile(loss='mean_absolute_error', optimizer='adam', metrics=['mean_absolute_error'])\ny_pred=NN_model.predict(X)\n",
      "execution_count": null,
      "outputs": []
    },
    {
      "metadata": {
        "trusted": true,
        "_uuid": "ed347a8adf6edc2db9760672395611335d9120ff"
      },
      "cell_type": "code",
      "source": "temp=pd.DataFrame(y_pred)\ntemp[2]=y_true\ntemp[3]=temp[0]-temp[2]\ntemp",
      "execution_count": null,
      "outputs": []
    },
    {
      "metadata": {
        "trusted": true,
        "_uuid": "c5ccbd30564657c3790a7aa981dd4dc5c4058706"
      },
      "cell_type": "code",
      "source": "y_true=y\nprint(np.mean(np.abs((y_true - y_pred) / y_true)))",
      "execution_count": null,
      "outputs": []
    },
    {
      "metadata": {
        "trusted": false,
        "_uuid": "59441f3eb1cf947f4243c03b154a38f1cb61a1f5"
      },
      "cell_type": "code",
      "source": "from sklearn.neighbors import KNeighborsRegressor\nfrom sklearn.model_selection import train_test_split\nimport numpy as np\nknn = KNeighborsRegressor()\nX_train, X_test, y_train, y_test = train_test_split(X, y, test_size=0.25, random_state=42)\nknn.fit(X_train,y_train)\ny_pred=knn.predict(X_test)\ny_true=y_test\nprint(np.mean(np.abs((y_true - y_pred) / y_true)) )\noutput=pd.DataFrame(data=y_true)\noutput[\"KNN_pred\"]=y_pred\noutput.head()",
      "execution_count": null,
      "outputs": []
    },
    {
      "metadata": {
        "trusted": false,
        "_uuid": "9476503f57bebaed5912c59392fc6d9f04d77a14"
      },
      "cell_type": "code",
      "source": "output.shape",
      "execution_count": null,
      "outputs": []
    },
    {
      "metadata": {
        "trusted": false,
        "_uuid": "853a2a0db34df286d856a02a4e73b3fbbba92b4a"
      },
      "cell_type": "code",
      "source": "def cross_validation_function(X,y,model,fold):\n    size=int(len(X)/fold)\n    l=0\n    u=size\n    scores=[]\n    for f in range(fold):\n        print(\"l =\",l,\"u =\",u,\"\")\n        dfxtest=X.iloc[l:u,:]\n        dfytest=y.iloc[l:u,:]\n        dfxtrain=X.drop(X.iloc[l:u].index,axis=0)\n        dfytrain=y.drop(X.iloc[l:u].index,axis=0)\n        model.fit(dfxtrain,dfytrain)\n        y_pred=model.predict(dfxtest)\n        y_true=dfytest\n#         print(y_true)\n#         print(y_pred)\n        scores.append(np.mean(np.abs((y_true - y_pred) / y_true)))\n        print(\"        FOLD \",f)\n        print(\"        --> Score :\", (np.mean(np.abs((y_true - y_pred) / y_true))))\n        l=l+size\n        u=u+size\n    print(\"Final score is: \",np.mean(scores))\n      \n        ",
      "execution_count": null,
      "outputs": []
    },
    {
      "metadata": {
        "trusted": false,
        "_uuid": "8d0192b07d3e2de0eaebf3ab8d11492a39e85826"
      },
      "cell_type": "code",
      "source": "from sklearn.model_selection import cross_val_score\nfor n in range(1,30):\n    knn = KNeighborsRegressor(n_neighbors=n,weights=\"distance\")\n    print(\"N=\",n)\n    cross_validation_function(X,y,knn,10)\n",
      "execution_count": null,
      "outputs": []
    },
    {
      "metadata": {
        "trusted": false,
        "_uuid": "637e20d328d1a844b74de66678dee604c336fefe"
      },
      "cell_type": "code",
      "source": "from sklearn.model_selection import cross_val_score\nfor n in range(1,30):\n    knn = KNeighborsRegressor(n_neighbors=n,weights=\"distance\")\n    print(\"N=\",n)\n    cross_validation_function(X,y,knn,5)\n",
      "execution_count": null,
      "outputs": []
    },
    {
      "metadata": {
        "trusted": false,
        "_uuid": "2005ccdd6a65c06d7ac348f2562213b8843541e2"
      },
      "cell_type": "code",
      "source": "",
      "execution_count": null,
      "outputs": []
    },
    {
      "metadata": {
        "_uuid": "0bc9e5a54faa16fc0a087ebf6de9908df90f8894"
      },
      "cell_type": "markdown",
      "source": "# Decision Tree Regression"
    },
    {
      "metadata": {
        "trusted": false,
        "_uuid": "4a01254ec496a14ebd94c8325cc1da0cbf57ae32"
      },
      "cell_type": "code",
      "source": "from sklearn.tree import DecisionTreeRegressor\nimport numpy as np",
      "execution_count": null,
      "outputs": []
    },
    {
      "metadata": {
        "trusted": false,
        "_uuid": "3ff3805feb7119529928718987c090d61aab188a"
      },
      "cell_type": "code",
      "source": "",
      "execution_count": null,
      "outputs": []
    },
    {
      "metadata": {
        "trusted": false,
        "_uuid": "a9b3b15e94ebc3c77ebe25eecfeaa00ba34a7b89"
      },
      "cell_type": "code",
      "source": "def cross_validation_function2(X,y,model,fold):\n    size=int(len(X)/fold)\n    l=0\n    u=size\n    scores=[]\n    for f in range(fold):\n#         print(\"l =\",l,\"u =\",u,\"\")\n        dfxtest=X.iloc[l:u,:]\n        dfytest=y.iloc[l:u,:]\n        dfxtrain=X.drop(X.iloc[l:u].index,axis=0)\n        dfytrain=y.drop(X.iloc[l:u].index,axis=0)\n        model.fit(dfxtrain,dfytrain)\n        y_pred=model.predict(dfxtest)\n        y_true=pd.Series(dfytest.iloc[:,0])\n#         pd.Series(y.iloc[:,0])\n#         print(y_true)\n#         print(y_pred)\n        scores.append(np.mean(np.abs((y_true - y_pred) / y_true)))\n        print(\"        FOLD \",f)\n        print(\"        --> Score :\", (np.mean(np.abs((y_true - y_pred) / y_true))))\n        l=l+size\n        u=u+size\n    print(\"Final score is: \",np.mean(scores))\n    return np.mean(scores)\n      \n        ",
      "execution_count": null,
      "outputs": []
    },
    {
      "metadata": {
        "trusted": false,
        "_uuid": "c2a5a6206ce65afe73525106d25e40957c82de22"
      },
      "cell_type": "code",
      "source": "from sklearn.model_selection import cross_val_score\nmin=1\nsc=[]\nfor d in range(1,30):\n    tree = DecisionTreeRegressor(max_depth=d,criterion='mae')\n    print(\"Depth =\",d)\n    newscore=cross_validation_function2(X,y,tree,5)\n    sc.append(newscore)\n    if(newscore<min):\n        min=newscore\n        print(\"Min CHANGED TO : \",min,\" at d =\",d)\nprint(min(sc))\n",
      "execution_count": null,
      "outputs": []
    },
    {
      "metadata": {
        "trusted": true,
        "_uuid": "2ec21acd8288da1eed3b59f586088320df3ec57c"
      },
      "cell_type": "code",
      "source": "",
      "execution_count": null,
      "outputs": []
    },
    {
      "metadata": {
        "trusted": true,
        "_uuid": "5908f2b5b318bd826f8153cce55de838e5eac736"
      },
      "cell_type": "code",
      "source": "",
      "execution_count": null,
      "outputs": []
    },
    {
      "metadata": {
        "trusted": false,
        "_uuid": "5f07f803c5d8d1c599209e88b747d9daefbadff3"
      },
      "cell_type": "code",
      "source": "from sklearn.model_selection import cross_val_score\nsc=[]\nmin=1\nfor d in range(2,30):\n    for nest in range(10,500,10):\n        forest = RandomForestRegressor(max_depth=d, random_state=30,n_estimators=nest)\n        print(\"N Estimators is : \",nest)\n        print(\"Depth =\",d)\n        newscore=cross_validation_function3(X,y,forest,5)\n        sc.append(newscore)\n        if(newscore<min):\n            min=newscore\n            print(\"Min CHANGED TO : \",min,\" at d =\",d,\" and n est = \",nest)\nprint(min(sc))\n    # print(regr.feature_importances_)",
      "execution_count": null,
      "outputs": []
    },
    {
      "metadata": {
        "trusted": false,
        "_uuid": "96d13a37ed36c36d83afc4d9f689a57ec959e376"
      },
      "cell_type": "code",
      "source": "",
      "execution_count": null,
      "outputs": []
    },
    {
      "metadata": {
        "_uuid": "73c030d9f78f2d53c5eb4ed0de3539b4530a32b4"
      },
      "cell_type": "markdown",
      "source": "Random Forest Regressor"
    },
    {
      "metadata": {
        "trusted": false,
        "_uuid": "544d62bf6d3559dc044037b4f2cc42a439588d9a"
      },
      "cell_type": "code",
      "source": "",
      "execution_count": null,
      "outputs": []
    },
    {
      "metadata": {
        "trusted": false,
        "_uuid": "dc5049f9f742c0f9cbfe845ed155dc8d483c06b9"
      },
      "cell_type": "code",
      "source": "from sklearn.model_selection import cross_val_score\nfor d in range(1,30):\n    for nest in range(10,200,10):\n    forest = RandomForestRegressor(max_depth=d, random_state=30,n_estimators=100)\n    print(\"Depth =\",d)\n    cross_validation_function(X,y,forest,5)\n# print(regr.feature_importances_)",
      "execution_count": null,
      "outputs": []
    },
    {
      "metadata": {
        "trusted": true,
        "_uuid": "b2b7ceecd1e743daedcd6cd40c26fa1fd2d6f41d"
      },
      "cell_type": "code",
      "source": "",
      "execution_count": null,
      "outputs": []
    },
    {
      "metadata": {
        "trusted": true,
        "_uuid": "dd5064c5fc8fa1a7cc832d00b6714393a8751e12"
      },
      "cell_type": "code",
      "source": "",
      "execution_count": null,
      "outputs": []
    },
    {
      "metadata": {
        "trusted": true,
        "_uuid": "a597b17ffe52e83b7948c2f3420fbb83c6518bc4"
      },
      "cell_type": "code",
      "source": "",
      "execution_count": null,
      "outputs": []
    },
    {
      "metadata": {
        "_uuid": "00e2c63ecaf915e6426bebae20bf8601f2a44ac6"
      },
      "cell_type": "markdown",
      "source": "# Gradient Boosting Regressor"
    },
    {
      "metadata": {
        "_uuid": "fd22230c78a1ed2adecb7409c82af8f8e64324d1"
      },
      "cell_type": "markdown",
      "source": ""
    },
    {
      "metadata": {
        "trusted": true,
        "_uuid": "60dac170723d68e28b24aee3b3732bcc33952c97"
      },
      "cell_type": "code",
      "source": "def cross_validation_function3(X,y,model,fold):\n    size=int(len(X)/fold)\n    l=0\n    u=size\n    scores=[]\n    for f in range(fold):\n#         print(\"l =\",l,\"u =\",u,\"\")\n        dfxtest=X.iloc[l:u,:]\n        dfytest=y.iloc[l:u,:]\n        dfxtrain=X.drop(X.iloc[l:u].index,axis=0)\n        dfytrain=y.drop(X.iloc[l:u].index,axis=0)\n        model.fit(dfxtrain,dfytrain.values.ravel())\n        y_pred=model.predict(dfxtest)\n        y_true=pd.Series(dfytest.iloc[:,0])\n#         pd.Series(y.iloc[:,0])\n#         print(y_true)\n#         print(y_pred)\n        scores.append(np.mean(np.abs((y_true - y_pred) / y_true)))\n        print(\"        FOLD \",f)\n        print(\"        --> Score :\", (np.mean(np.abs((y_true - y_pred) / y_true))))\n        l=l+size\n        u=u+size\n    print(\"Final score is: \",np.mean(scores))\n    return np.mean(scores)\n      \n        ",
      "execution_count": null,
      "outputs": []
    },
    {
      "metadata": {
        "trusted": true,
        "_uuid": "c641b2f7bcdefd371a660c3ca94f3a4e4b22bff6"
      },
      "cell_type": "code",
      "source": "from sklearn import ensemble\nfrom sklearn.model_selection import cross_val_score\nsc=[]\nmin=1\nfor nest in range(10,500,10):\n    for d in range(5,25):\n        for l in np.arange(0.01,0.5,0.005):\n            clf = ensemble.GradientBoostingRegressor(n_estimators= nest, max_depth=d,learning_rate=l , loss= 'ls',random_state=30)\n            print(\"N Estimators is : \",nest)\n            print(\"Depth =\",d)\n            newscore=cross_validation_function3(X,y,clf,5)\n            sc.append(newscore)\n            if(newscore<min):\n                min=newscore\n                print(\"Min CHANGED TO : \",min,\" at d =\",d,\" and n est = \",nest,\"l =\",l)\n# print(min(sc))\n\n\n \n",
      "execution_count": null,
      "outputs": []
    },
    {
      "metadata": {
        "trusted": true,
        "_uuid": "aec7826cc10a762e4dad0753e885a077a1e34d5e"
      },
      "cell_type": "code",
      "source": "",
      "execution_count": null,
      "outputs": []
    },
    {
      "metadata": {
        "trusted": true,
        "_uuid": "00dcae7c97df152a2a1ec1489ebdb7ecfd55d5ca"
      },
      "cell_type": "code",
      "source": "",
      "execution_count": null,
      "outputs": []
    },
    {
      "metadata": {
        "trusted": true,
        "_uuid": "bf6b79ac08628ae47cb79064b492e0cbe6957630"
      },
      "cell_type": "code",
      "source": "",
      "execution_count": null,
      "outputs": []
    },
    {
      "metadata": {
        "trusted": true,
        "_uuid": "938a4a43c8b53d37e9c62cb19652265aa871a4f3"
      },
      "cell_type": "code",
      "source": "",
      "execution_count": null,
      "outputs": []
    },
    {
      "metadata": {
        "trusted": true,
        "_uuid": "3c7884218554b5eb1b6b440e43e62dfeb380307a"
      },
      "cell_type": "code",
      "source": "",
      "execution_count": null,
      "outputs": []
    },
    {
      "metadata": {
        "trusted": true,
        "_uuid": "8aa58ec1c52068da0c764df2dfe3328e55591859"
      },
      "cell_type": "code",
      "source": "",
      "execution_count": null,
      "outputs": []
    },
    {
      "metadata": {
        "trusted": true,
        "_uuid": "c5d31714381238891bed628c87324579ece72303"
      },
      "cell_type": "code",
      "source": "def cross_validation_function3(X,y,model,fold):\n    size=int(len(X)/fold)\n    l=0\n    u=size\n    scores=[]\n    for f in range(fold):\n#         print(\"l =\",l,\"u =\",u,\"\")\n        dfxtest=X.iloc[l:u,:]\n        dfytest=y.iloc[l:u,:]\n        dfxtrain=X.drop(X.iloc[l:u].index,axis=0)\n        dfytrain=y.drop(X.iloc[l:u].index,axis=0)\n        model.fit(dfxtrain,dfytrain.values.ravel())\n        y_pred=model.predict(dfxtest)\n        y_true=pd.Series(dfytest.iloc[:,0])\n#         pd.Series(y.iloc[:,0])\n#         print(y_true)\n#         print(y_pred)\n        scores.append(np.mean(np.abs((y_true - y_pred) / y_true)))\n#         print(\"        FOLD \",f)\n#         print(\"        --> Score :\", (np.mean(np.abs((y_true - y_pred) / y_true))))\n        l=l+size\n        u=u+size\n    print(\"Final score is: \",np.mean(scores))\n    return np.mean(scores)\n      \n        ",
      "execution_count": null,
      "outputs": []
    },
    {
      "metadata": {
        "trusted": true,
        "_uuid": "20632f180c3aa5db3fae16bb6986660c1d6be575"
      },
      "cell_type": "code",
      "source": "from xgboost import XGBRegressor\nfrom sklearn import ensemble\nfrom sklearn.model_selection import cross_val_score\nsc=[]\nmin=1\nbooster=['gbtree','gblinear','dart']\n\nfor nest in range(1,100,1):\n    for b in booster:\n        for l in np.arange(0.01,0.8,0.005):\n            for d in range(3,30):\n                xgbreg = XGBRegressor(max_depth=d,learning_rate=l, n_estimators=nest,booster=b,random_state=30)\n                print(\"N Estimators is : \",nest)\n                print(\"Depth =\",d)\n                print(\"Learning Rate: \",l)\n                print(\"Booster : \",b)\n                newscore=cross_validation_function3(X,y,xgbreg,5)\n                sc.append(newscore)\n                if(newscore<min):\n                    min=newscore\n                    print(\"Min CHANGED TO : \",min,\" at d =\",d,\" and n est = \",nest,\"l =\",l,\" b = \",b)\n",
      "execution_count": null,
      "outputs": []
    },
    {
      "metadata": {
        "trusted": true,
        "_uuid": "41c3bc46364a13c4a3ba9d204fc14848b226be67"
      },
      "cell_type": "code",
      "source": "max_depth = m,",
      "execution_count": null,
      "outputs": []
    },
    {
      "metadata": {
        "trusted": true,
        "_uuid": "60a5e7512eca61a512ed83f7ac460cc485d0b247"
      },
      "cell_type": "code",
      "source": "for d in range(1,10):\n    ",
      "execution_count": null,
      "outputs": []
    },
    {
      "metadata": {
        "trusted": true,
        "_uuid": "8e20b24f07c8d34bd23e7701c6b2b883a606ddd2"
      },
      "cell_type": "code",
      "source": "from xgboost import XGBRegressor\nfrom sklearn import ensemble\nfrom sklearn.model_selection import cross_val_score\nsc=[]\nmin=1\nbooster=['gbtree','dart']\nfor d in range(7,10):\n    for nest in range(19,50,1):\n        for b in booster:\n            for l in np.arange(0.01,0.9,0.01):\n                xgbreg = XGBRegressor(max_depth=d,learning_rate=l, n_estimators=nest,booster=b,random_state=30)\n                print(\"N Estimators is : \",nest)\n                print(\"Depth =\",d)\n                print(\"Learning Rate: \",l)\n                print(\"Booster : \",b)\n                newscore=cross_validation_function3(X,y,xgbreg,5)\n                sc.append(newscore)\n                if(newscore<min):\n                    min=newscore\n                    print(\"Min CHANGED TO : \",min,\" at d =\",d,\" and n est = \",nest,\"l =\",l,\" b = \",b)\n",
      "execution_count": null,
      "outputs": []
    },
    {
      "metadata": {
        "trusted": true,
        "_uuid": "ebf4b15da867bbbcc1a0c3fe473d329d7a34845f"
      },
      "cell_type": "code",
      "source": "def cross_validation_function3(X,y,model,fold):\n    size=int(len(X)/fold)\n    l=0\n    u=size\n    scores=[]\n    for f in range(fold):\n#         print(\"l =\",l,\"u =\",u,\"\")\n        dfxtest=X.iloc[l:u,:]\n        dfytest=y.iloc[l:u,:]\n        dfxtrain=X.drop(X.iloc[l:u].index,axis=0)\n        dfytrain=y.drop(X.iloc[l:u].index,axis=0)\n        model.fit(dfxtrain,dfytrain.values.ravel())\n        y_pred=model.predict(dfxtest)\n        y_true=pd.Series(dfytest.iloc[:,0])\n#         pd.Series(y.iloc[:,0])\n#         print(y_true)\n#         print(y_pred)\n        scores.append(np.mean(np.abs((y_true - y_pred) / y_true)))\n#         print(\"        FOLD \",f)\n#         print(\"        --> Score :\", (np.mean(np.abs((y_true - y_pred) / y_true))))\n        l=l+size\n        u=u+size\n    print(\"Final score is: \",np.mean(scores))\n    return np.mean(scores)\n      \n        ",
      "execution_count": null,
      "outputs": []
    },
    {
      "metadata": {
        "trusted": true,
        "_uuid": "26e0e6b880bbc11eb772e7e7a7bd0bf5c5b8dd8a"
      },
      "cell_type": "code",
      "source": "from sklearn import ensemble\nfrom sklearn.model_selection import cross_val_score\nsc=[]\nmin=1\n\nfor nest in range(100,1000,70):\n    for d in range(3,25):\n        for l in np.arange(0.1,0.9,0.1):\n            clf = ensemble.GradientBoostingRegressor(n_estimators= nest, max_depth=d,learning_rate=l , loss= 'ls',random_state=30)\n            print(\"N Estimators is : \",nest)\n            print(\"Depth =\",d)\n            newscore=cross_validation_function3(X,y,clf,5)\n            sc.append(newscore)\n            if(newscore<min):\n                min=newscore\n                print(\"Min CHANGED TO : \",min,\" at d =\",d,\" and n est = \",nest,\"l =\",l)\n\n",
      "execution_count": null,
      "outputs": []
    },
    {
      "metadata": {
        "trusted": true,
        "_uuid": "ffbbe29a0681b74d02738ae624c2739c19e392c3"
      },
      "cell_type": "code",
      "source": "\n# This is test for Zillow 1.1 d=7 nest=??(200)  and l= 0.04\nfrom sklearn import ensemble\nfrom sklearn.model_selection import cross_val_score\nsc=[]\nmin=1\n# for d in range(1,30):\nfor n in range(100,1000,50):\n#     for l in np.arange(0.01,0.9,0.005):\n    clf = ensemble.GradientBoostingRegressor(n_estimators= n, max_depth=7,learning_rate=0.04 , loss= 'ls',random_state=30)\n    print(\"N Estimators is : \",n)\n#     print(\"learning rate  =\",l)\n    newscore=cross_validation_function3(X,y,clf,5)\n    sc.append(newscore)\n    if(newscore<min):\n        min=newscore\n        print(\"Min CHANGED TO : \",min,\" and n est = \",n)\n\n\n\n \n#   you need to loop for l --> learning rate too ",
      "execution_count": null,
      "outputs": []
    },
    {
      "metadata": {
        "trusted": true,
        "_uuid": "82b54865ae1e3d4399de69f39b17ac2345569e1f"
      },
      "cell_type": "code",
      "source": "from sklearn.ensemble import RandomForestRegressor\nfrom sklearn.model_selection import cross_val_score\nimport numpy as np\nsc=[]\nmin=1\nfor d in range(2,30):\n    for nest in range(100,1000,50):\n        forest = RandomForestRegressor(max_depth=d, random_state=30,n_estimators=nest)\n        print(\"N Estimators is : \",nest)\n        print(\"Depth =\",d)\n        newscore=cross_validation_function3(X,y,forest,5)\n        sc.append(newscore)\n        if(newscore<min):\n            min=newscore\n            print(\"Min CHANGED TO : \",min,\" at d =\",d,\" and n est = \",nest)\nprint(min(sc))\n    # print(regr.feature_importances_)\n",
      "execution_count": null,
      "outputs": []
    },
    {
      "metadata": {
        "trusted": true,
        "_uuid": "d23205f03ec97bab42e38233f7b2130a075291a1"
      },
      "cell_type": "code",
      "source": "from sklearn.svm import SVR\nCs = [0.001, 0.01, 0.1, 1, 10]\n# gammas = [0.001, 0.01, 0.1, 1]\ngammas = [0.1, 1]\n\nds =[3,4,5,6,7]\nsc=[]\nmin=1\nfor d in ds:\n    for g in gammas:\n        for c in Cs:\n            model = SVR(kernel='rbf', degree=d, gamma=g, coef0=0.0, tol=0.001, C=c, epsilon=0.1, shrinking=True, cache_size=200, verbose=False, max_iter=-1)\n        #     xgbreg = XGBRegressor(max_depth=d,learning_rate=l, n_estimators=nest,booster='gbtree',random_state=30)\n        #     print(\"N Estimators is : \",nest)\n            print(\"Degree =\",d)\n            print(\"Gamma: \",g)\n            print(\"C : \",c)\n            newscore=cross_validation_function3(X,y,model,5)\n            sc.append(newscore)\n            if(newscore<min):\n                min=newscore\n                print(\"Min CHANGED TO : \",min,\" at Degree =\",d,\"Gamma = \",g,\"C = \",c)",
      "execution_count": null,
      "outputs": []
    },
    {
      "metadata": {
        "trusted": true,
        "_uuid": "fa5c730b3b1716947994475fd6a6a3027c3db51f"
      },
      "cell_type": "code",
      "source": "",
      "execution_count": null,
      "outputs": []
    },
    {
      "metadata": {
        "trusted": true,
        "_uuid": "00d3f0c1bf414284e83cc8982ccefd7f55ab3f11"
      },
      "cell_type": "code",
      "source": "",
      "execution_count": null,
      "outputs": []
    },
    {
      "metadata": {
        "trusted": true,
        "_uuid": "60a35c1d3632f1aa604f483c6a30e0352f0a5215"
      },
      "cell_type": "code",
      "source": "",
      "execution_count": null,
      "outputs": []
    },
    {
      "metadata": {
        "trusted": true,
        "_uuid": "0da148ae4d822b9d5735aacdddadfb717477bb9e"
      },
      "cell_type": "code",
      "source": "def cross_validation_function3(X,y,model,fold):\n    size=int(len(X)/fold)\n    l=0\n    u=size\n    scores=[]\n    for f in range(fold):\n#         print(\"l =\",l,\"u =\",u,\"\")\n        dfxtest=X.iloc[l:u,:]\n        dfytest=y.iloc[l:u,:]\n        dfxtrain=X.drop(X.iloc[l:u].index,axis=0)\n        dfytrain=y.drop(X.iloc[l:u].index,axis=0)\n        model.fit(dfxtrain,dfytrain.values.ravel())\n        y_pred=model.predict(dfxtest)\n        y_true=pd.Series(dfytest.iloc[:,0])\n#         pd.Series(y.iloc[:,0])\n#         print(y_true)\n#         print(y_pred)\n        scores.append(np.mean(np.abs((y_true - y_pred) / y_true)))\n#         print(\"        FOLD \",f)\n#         print(\"        --> Score :\", (np.mean(np.abs((y_true - y_pred) / y_true))))\n        l=l+size\n        u=u+size\n    print(\"Final score is: \",np.mean(scores))\n    return np.mean(scores)\n      \n        ",
      "execution_count": null,
      "outputs": []
    },
    {
      "metadata": {
        "trusted": true,
        "_uuid": "bd7d4cf9c3bad47541dd15a33e5e95c41432e602"
      },
      "cell_type": "code",
      "source": "",
      "execution_count": null,
      "outputs": []
    },
    {
      "metadata": {
        "trusted": true,
        "_uuid": "30dd84d57c3c2a7ca72a1c99990e607ebe7dc75a"
      },
      "cell_type": "code",
      "source": "from lightgbm import LGBMRegressor\nimport numpy as np\nboosting_type_set1=['gbdt','gbrt','dart']\nboosting_type_set2=['gbdt']\nm=20\nn=31\nmin_data_in_leafset=[15,20,25]\ntree_learner_set =['serial','feature','data','voting']\nsc=[]\nmin = 1\nfor nest in range(900,100,-200):\n    for d in range(7,10):\n        for l in np.arange(0.005,0.22,0.002):\n            for iter in range(200,10000,500):\n                for b in boosting_type_set2:\n                    for m in min_data_in_leafset:\n                        for n in [21,31,41]:\n#                 for n in range(25,48,4):\n#                     for m in range(5,30,5):\n#                 for t in tree_learner_set:\n                            lgbm = LGBMRegressor(num_iterations=iter,boosting_type=b, num_leaves=n, max_depth=d, learning_rate=l, n_estimators=nest,objective='regression',metric='mape',tree_learner='serial',min_data_in_leaf=m,random_state=30, n_jobs=-1 )\n                            print(\"N Estimators is : \",nest)\n                            print(\"Depth =\",d)\n                            print(\"Learning Rate: \",l)\n#                             print(\"b = \",b)\n                            print(\"NO of iterations :\",iter)\n                            print(\"no of leaves is :\",n)\n                            print(\"minimum data in leaf =\",m)\n            #                     print(\"tree learner set is : \",t)\n\n                            print(\"Booster : \",b)\n                            newscore=cross_validation_function3(X,y,lgbm,5)\n                            print(\"\\n\\n\")\n                            sc.append(newscore)\n                            if(newscore<min):\n                                min=newscore\n                #                 print(\"Min CHANGED TO : \",min,\"AND  n est = \",nest,\"l = \",l)\n                                print(\"Min CHANGED TO : \",min,\" at d =\",d,\" and n est = \",nest,\"l =\",l,\"b = \",b,\"no of iterations = \",iter,\"n = \",n,\"m = \",m)\n                                print(\"\\n\\n\")\n",
      "execution_count": null,
      "outputs": []
    },
    {
      "metadata": {
        "trusted": true,
        "_uuid": "f1c8488cf047410912a97d2eab6d00f39ea1afed"
      },
      "cell_type": "code",
      "source": "",
      "execution_count": null,
      "outputs": []
    }
  ],
  "metadata": {
    "kernelspec": {
      "display_name": "Python 3",
      "language": "python",
      "name": "python3"
    },
    "language_info": {
      "name": "python",
      "version": "3.6.6",
      "mimetype": "text/x-python",
      "codemirror_mode": {
        "name": "ipython",
        "version": 3
      },
      "pygments_lexer": "ipython3",
      "nbconvert_exporter": "python",
      "file_extension": ".py"
    }
  },
  "nbformat": 4,
  "nbformat_minor": 1
}