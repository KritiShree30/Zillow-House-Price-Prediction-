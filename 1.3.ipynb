{
  "cells": [
    {
      "metadata": {
        "trusted": true,
        "_uuid": "11351c034fced09083819214174fca1ab2b0b195"
      },
      "cell_type": "code",
      "source": "import pandas as pd\nimport matplotlib.pyplot as plt\nimport numpy as np\n%matplotlib inline",
      "execution_count": null,
      "outputs": []
    },
    {
      "metadata": {
        "trusted": true,
        "_uuid": "2304339f47a1d1585a3c81008c331c0e5d8017e3"
      },
      "cell_type": "code",
      "source": "df=pd.read_csv(\"../input/final_train_5.csv\")\ndf=df.drop(\"Unnamed: 0\",1)\ndf.head()",
      "execution_count": null,
      "outputs": []
    },
    {
      "metadata": {
        "trusted": true,
        "_uuid": "793d383a324c4f359574c5a1b9d69b975e868766"
      },
      "cell_type": "code",
      "source": "X = df.iloc[:,1:]\nX.head()",
      "execution_count": null,
      "outputs": []
    },
    {
      "metadata": {
        "trusted": true,
        "_uuid": "265d4cc7e04f58ede3dc264bd157b50a6807859f"
      },
      "cell_type": "code",
      "source": "y = pd.DataFrame(df.iloc[:,0])\ny.head()",
      "execution_count": null,
      "outputs": []
    },
    {
      "metadata": {
        "trusted": true,
        "_uuid": "1c6483dd6d743b1b9b524e342e88156ab9f0e56f"
      },
      "cell_type": "code",
      "source": "",
      "execution_count": null,
      "outputs": []
    },
    {
      "metadata": {
        "trusted": true,
        "_uuid": "3b53916ed59053ad4ed859bb8474a601596ea656"
      },
      "cell_type": "code",
      "source": "from lightgbm import LGBMRegressor\nfrom sklearn.neighbors import KNeighborsRegressor\nfrom sklearn.model_selection import train_test_split\nimport numpy as np\nfrom xgboost import XGBRegressor\nfrom sklearn import ensemble\nfrom sklearn.model_selection import cross_val_score\nfrom sklearn.tree import DecisionTreeRegressor\nfrom sklearn.ensemble import RandomForestRegressor\ndef cross_validation_function4(X,y,models,fold,w):\n    size=int(len(X)/fold)\n    l=0\n    u=size\n    scores=[]\n    for f in range(fold):\n#         print(\"l =\",l,\"u =\",u,\"\")\n        dfxtest=X.iloc[l:u,:]\n        dfytest=y.iloc[l:u,:]\n        dfxtrain=X.drop(X.iloc[l:u].index,axis=0)\n        dfytrain=y.drop(X.iloc[l:u].index,axis=0)\n        \n        y_true=pd.Series(dfytest.iloc[:,0])\n        \n        model1.fit(dfxtrain,dfytrain.values.ravel())\n        model2.fit(dfxtrain,dfytrain.values.ravel())\n        model3.fit(dfxtrain,dfytrain.values.ravel())\n        model4.fit(dfxtrain,dfytrain.values.ravel())\n        model5.fit(dfxtrain,dfytrain.values.ravel())\n        model6.fit(dfxtrain,dfytrain.values.ravel())\n        model7.fit(dfxtrain,dfytrain.values.ravel())\n        model8.fit(dfxtrain,dfytrain.values.ravel())\n        model9.fit(dfxtrain,dfytrain.values.ravel())\n        model10.fit(dfxtrain,dfytrain.values.ravel())\n\n        y_pred1=model1.predict(dfxtest)\n        y_pred2=model2.predict(dfxtest)\n        y_pred3=model3.predict(dfxtest)\n        y_pred4=model4.predict(dfxtest)\n        y_pred5=model5.predict(dfxtest)\n        y_pred6=model6.predict(dfxtest)\n        y_pred7=model7.predict(dfxtest)\n        y_pred8=model8.predict(dfxtest)\n        y_pred9=model9.predict(dfxtest)\n        y_pred10=model10.predict(dfxtest)\n            \n            \n        p=[0]*11\n        for i in range(0,len(w)):\n            p[i+1]=w[i]\n        \n        y_pred=(p[1]*y_pred1 + p[2]*y_pred2 + p[3]*y_pred3 + p[4]*y_pred4 + p[5]*y_pred5 + p[6]*y_pred6 + p[7]*y_pred7 + p[8]*y_pred8 + p[9]*y_pred9 + p[10]*y_pred10)\n        sc=np.mean(np.abs((y_true - y_pred) / y_true))\n        scores.append(sc)\n        print(\"        FOLD  :\",f)\n        print(\"        Score :\", sc)\n        l=l+size\n        u=u+size\n    print(\"Final score is: \",np.mean(scores))\n    return np.mean(scores)\n      \n        ",
      "execution_count": null,
      "outputs": []
    },
    {
      "metadata": {
        "trusted": true,
        "_uuid": "60c1feffc4a9b5066749c35032b4caa31aead86b"
      },
      "cell_type": "code",
      "source": "w=[0.1111111111111111]*10\nw[8]=0\n\nmodel1 = LGBMRegressor(boosting_type='dart', max_depth=8, learning_rate=0.13, n_estimators=600,objective='regression',metric='mape',tree_learner='serial',random_state=30, n_jobs=-1 )\nmodel2= LGBMRegressor(boosting_type='dart', max_depth=9, learning_rate=0.19, n_estimators=400,objective='regression',metric='mape',tree_learner='serial',random_state=30, n_jobs=-1 )\nmodel3 = LGBMRegressor(boosting_type='dart', max_depth=8, learning_rate=0.24, n_estimators=350,objective='regression',metric='mape',tree_learner='serial',random_state=30, n_jobs=-1 )\nmodel4 = LGBMRegressor(boosting_type='dart',num_iterations=900 ,max_depth=7, learning_rate=0.09, n_estimators=1000,objective='regression',metric='mape',tree_learner='serial',random_state=30, n_jobs=-1 )\nmodel5 = LGBMRegressor(boosting_type='dart', num_leaves=29,min_data_in_leaf=15 ,max_depth=7, learning_rate=0.09, n_estimators=1000,objective='regression',metric='mape',tree_learner='serial',random_state=30, n_jobs=-1 )\nmodel6 = LGBMRegressor(boosting_type='dart', num_leaves=25, max_depth=7, learning_rate=0.13, n_estimators=1000,objective='regression',metric='mape',tree_learner='serial',random_state=30, n_jobs=-1 )\nmodel7 = ensemble.GradientBoostingRegressor(n_estimators= 300, max_depth=7,learning_rate=0.054 , loss= 'ls',random_state=30)\nmodel8 = XGBRegressor(max_depth=8,learning_rate=0.04, n_estimators=500,booster='gbtree',random_state=30)\nmodel9 = XGBRegressor(max_depth=8,learning_rate=0.081, n_estimators=100,booster='gbtree',random_state=30)\nmodel10 = RandomForestRegressor(max_depth=18, random_state=30,n_estimators=91)\n\n\n\nmodel1.fit(X,y.values.ravel())\nmodel2.fit(X,y.values.ravel())\nmodel3.fit(X,y.values.ravel())\nmodel4.fit(X,y.values.ravel())\nmodel5.fit(X,y.values.ravel())\nmodel6.fit(X,y.values.ravel())\nmodel7.fit(X,y.values.ravel())\nmodel8.fit(X,y.values.ravel())\nmodel9.fit(X,y.values.ravel())\nmodel10.fit(X,y.values.ravel())\n\ny_pred1=model1.predict(X)\ny_pred2=model2.predict(X)\ny_pred3=model3.predict(X)\ny_pred4=model4.predict(X)\ny_pred5=model5.predict(X)\ny_pred6=model6.predict(X)\ny_pred7=model7.predict(X)\ny_pred8=model8.predict(X)\ny_pred9=model9.predict(X)\ny_pred10=model10.predict(X)\n\ny_true=pd.Series(y.iloc[:,0])\np=[0]*11\nfor i in range(0,len(w)):\n    p[i+1]=w[i]\ny_pred=(p[1]*y_pred1 + p[2]*y_pred2 + p[3]*y_pred3 + p[4]*y_pred4 + p[5]*y_pred5 + p[6]*y_pred6 + p[7]*y_pred7 + p[8]*y_pred8 + p[9]*y_pred9 + p[10]*y_pred10)\n\nprint(\"Training Error : \",np.mean(np.abs((y_true - y_pred) / y_true)))\n\nmodel1 = LGBMRegressor(boosting_type='dart', max_depth=8, learning_rate=0.13, n_estimators=600,objective='regression',metric='mape',tree_learner='serial',random_state=30, n_jobs=-1 )\nmodel2= LGBMRegressor(boosting_type='dart', max_depth=9, learning_rate=0.19, n_estimators=400,objective='regression',metric='mape',tree_learner='serial',random_state=30, n_jobs=-1 )\nmodel3 = LGBMRegressor(boosting_type='dart', max_depth=8, learning_rate=0.24, n_estimators=350,objective='regression',metric='mape',tree_learner='serial',random_state=30, n_jobs=-1 )\nmodel4 = LGBMRegressor(boosting_type='dart',num_iterations=900 ,max_depth=7, learning_rate=0.09, n_estimators=1000,objective='regression',metric='mape',tree_learner='serial',random_state=30, n_jobs=-1 )\nmodel5 = LGBMRegressor(boosting_type='dart', num_leaves=29,min_data_in_leaf=15 ,max_depth=7, learning_rate=0.09, n_estimators=1000,objective='regression',metric='mape',tree_learner='serial',random_state=30, n_jobs=-1 )\nmodel6 = LGBMRegressor(boosting_type='dart', num_leaves=25, max_depth=7, learning_rate=0.13, n_estimators=1000,objective='regression',metric='mape',tree_learner='serial',random_state=30, n_jobs=-1 )\nmodel7 = ensemble.GradientBoostingRegressor(n_estimators= 300, max_depth=7,learning_rate=0.054 , loss= 'ls',random_state=30)\nmodel8 = XGBRegressor(max_depth=8,learning_rate=0.04, n_estimators=500,booster='gbtree',random_state=30)\nmodel9 = XGBRegressor(max_depth=8,learning_rate=0.081, n_estimators=100,booster='gbtree',random_state=30)\nmodel10 = RandomForestRegressor(max_depth=18, random_state=30,n_estimators=91)\n\nlistofmodels=[model1,model2,model3,model4,model5,model6,model7,model8,model9,model10]\n\n\nnewscore=cross_validation_function4(X,y,listofmodels,5,w)\nprint(\"Testing Cross Validation Error: \",newscore)",
      "execution_count": null,
      "outputs": []
    },
    {
      "metadata": {
        "trusted": true,
        "_uuid": "e9df7756f60e7ab37442f249d727b9816461d716"
      },
      "cell_type": "code",
      "source": "",
      "execution_count": null,
      "outputs": []
    },
    {
      "metadata": {
        "trusted": true,
        "_uuid": "4ef58336ef9b86cd14c10dacc5b7744b4dccfc57"
      },
      "cell_type": "code",
      "source": "from sklearn.neighbors import KNeighborsRegressor\nfrom sklearn.model_selection import train_test_split\nimport numpy as np\nfrom xgboost import XGBRegressor\nfrom sklearn import ensemble\nfrom sklearn.model_selection import cross_val_score\nfrom sklearn.tree import DecisionTreeRegressor\nfrom sklearn.ensemble import RandomForestRegressor",
      "execution_count": null,
      "outputs": []
    },
    {
      "metadata": {
        "trusted": true,
        "_uuid": "b71c68951f154d896eb3dcfee11140f976d4a638"
      },
      "cell_type": "code",
      "source": "# Zillow 1.5\nscores=[]\nmodel = ensemble.GradientBoostingRegressor(n_estimators= 100, max_depth=7,learning_rate=0.1 , loss= 'ls',random_state=30)\nmodel.fit(X,y.values.ravel())\ny_pred=model.predict(X)\ny_true=pd.Series(y.iloc[:,0])\nprint(np.mean(np.abs((y_true - y_pred) / y_true)))\nscores.append(np.mean(np.abs((y_true - y_pred) / y_true)))",
      "execution_count": null,
      "outputs": []
    },
    {
      "metadata": {
        "trusted": true,
        "_uuid": "59360df1d5a966ad03ac22c86f57d0dd9a2aac6d"
      },
      "cell_type": "code",
      "source": "# Zillow 1.5\nscores=[]\nmodel = RandomForestRegressor(max_depth=25, random_state=30,n_estimators=41)\nmodel.fit(X,y.values.ravel())\ny_pred=model.predict(X)\ny_true=pd.Series(y.iloc[:,0])\nprint(np.mean(np.abs((y_true - y_pred) / y_true)))\nscores.append(np.mean(np.abs((y_true - y_pred) / y_true))) \n    ",
      "execution_count": null,
      "outputs": []
    },
    {
      "metadata": {
        "trusted": true,
        "_uuid": "e7bf5504a961eb9e8fba3b33b96ddc5049e81ece"
      },
      "cell_type": "code",
      "source": "y_pred",
      "execution_count": null,
      "outputs": []
    },
    {
      "metadata": {
        "trusted": true,
        "_uuid": "f5fde07d93b53bfbca00dd4a8a5d0c395812020f"
      },
      "cell_type": "code",
      "source": "#Zillow 1.1  \nscores=[]\nmodel = ensemble.GradientBoostingRegressor(n_estimators= 200, max_depth=7,learning_rate=0.04 , loss= 'ls',random_state=30)\nmodel.fit(X,y.values.ravel())\ny_pred=model.predict(X)\ny_true=pd.Series(y.iloc[:,0])\nprint(np.mean(np.abs((y_true - y_pred) / y_true)))\nscores.append(np.mean(np.abs((y_true - y_pred) / y_true)))",
      "execution_count": null,
      "outputs": []
    },
    {
      "metadata": {
        "trusted": true,
        "_uuid": "1e9c14d98e8c4d89efa02a732c20b574d8b3cec7"
      },
      "cell_type": "code",
      "source": "y_pred",
      "execution_count": null,
      "outputs": []
    },
    {
      "metadata": {
        "trusted": true,
        "_uuid": "0cdc18477ed60d047f3400dad49256014a0a52ee"
      },
      "cell_type": "code",
      "source": "# Zillow 1.2\nscores=[]\nmodel = XGBRegressor(max_depth=9,learning_rate=0.04, n_estimators=178,booster='gbtree',random_state=30)\nmodel.fit(X,y.values.ravel())\ny_pred=model.predict(X)\ny_true=pd.Series(y.iloc[:,0])\nprint(np.mean(np.abs((y_true - y_pred) / y_true)))\nscores.append(np.mean(np.abs((y_true - y_pred) / y_true)))\n\n            ",
      "execution_count": null,
      "outputs": []
    },
    {
      "metadata": {
        "trusted": true,
        "_uuid": "a9eec100cc071ae6839558e1ab745826f0c7eb92"
      },
      "cell_type": "code",
      "source": "# Zillow 1.3\nscores=[]\nmodel = XGBRegressor(max_depth=8,learning_rate=0.1, n_estimators=200,booster='gbtree',random_state=30)\nmodel.fit(X,y.values.ravel())\ny_pred=model.predict(X)\ny_true=pd.Series(y.iloc[:,0])\nprint(np.mean(np.abs((y_true - y_pred) / y_true)))\nscores.append(np.mean(np.abs((y_true - y_pred) / y_true)))\n\n            ",
      "execution_count": null,
      "outputs": []
    },
    {
      "metadata": {
        "trusted": true,
        "_uuid": "5ddb452374ca0e9e4390f371c121887202aecc52"
      },
      "cell_type": "code",
      "source": "# Zillow 1.4\nscores=[]\nmodel = XGBRegressor(max_depth=8,learning_rate=0.04, n_estimators=100,booster='gbtree',random_state=30)\nmodel.fit(X,y.values.ravel())\ny_pred=model.predict(X)\ny_true=pd.Series(y.iloc[:,0])\nprint(np.mean(np.abs((y_true - y_pred) / y_true)))\nscores.append(np.mean(np.abs((y_true - y_pred) / y_true)))\n\n            ",
      "execution_count": null,
      "outputs": []
    },
    {
      "metadata": {
        "trusted": true,
        "_uuid": "59441f3eb1cf947f4243c03b154a38f1cb61a1f5"
      },
      "cell_type": "code",
      "source": "# Zillow -----> 0.1443 \nscores=[]\nmodel = RandomForestRegressor(max_depth=18, random_state=30,n_estimators=91)\nmodel.fit(X,y.values.ravel())\ny_pred=model.predict(X)\ny_true=pd.Series(y.iloc[:,0])\nprint(np.mean(np.abs((y_true - y_pred) / y_true)))\nscores.append(np.mean(np.abs((y_true - y_pred) / y_true)))\n\n            ",
      "execution_count": null,
      "outputs": []
    },
    {
      "metadata": {
        "trusted": true,
        "_uuid": "a2c0de9013626207ad9b18141dd4c5ed028c8024"
      },
      "cell_type": "code",
      "source": "",
      "execution_count": null,
      "outputs": []
    },
    {
      "metadata": {
        "trusted": true,
        "_uuid": "8aaa5c3314050722ccf468b2b66c4fad6cd4066a"
      },
      "cell_type": "code",
      "source": "",
      "execution_count": null,
      "outputs": []
    },
    {
      "metadata": {
        "trusted": false,
        "_uuid": "9476503f57bebaed5912c59392fc6d9f04d77a14"
      },
      "cell_type": "code",
      "source": "",
      "execution_count": null,
      "outputs": []
    },
    {
      "metadata": {
        "trusted": false,
        "_uuid": "853a2a0db34df286d856a02a4e73b3fbbba92b4a"
      },
      "cell_type": "code",
      "source": "def cross_validation_function(X,y,model,fold):\n    size=int(len(X)/fold)\n    l=0\n    u=size\n    scores=[]\n    for f in range(fold):\n        print(\"l =\",l,\"u =\",u,\"\")\n        dfxtest=X.iloc[l:u,:]\n        dfytest=y.iloc[l:u,:]\n        dfxtrain=X.drop(X.iloc[l:u].index,axis=0)\n        dfytrain=y.drop(X.iloc[l:u].index,axis=0)\n        model.fit(dfxtrain,dfytrain)\n        y_pred=model.predict(dfxtest)\n        y_true=dfytest\n#         print(y_true)\n#         print(y_pred)\n        scores.append(np.mean(np.abs((y_true - y_pred) / y_true)))\n        print(\"        FOLD \",f)\n        print(\"        --> Score :\", (np.mean(np.abs((y_true - y_pred) / y_true))))\n        l=l+size\n        u=u+size\n    print(\"Final score is: \",np.mean(scores))\n      \n        ",
      "execution_count": null,
      "outputs": []
    },
    {
      "metadata": {
        "trusted": false,
        "_uuid": "8d0192b07d3e2de0eaebf3ab8d11492a39e85826"
      },
      "cell_type": "code",
      "source": "from sklearn.model_selection import cross_val_score\nfor n in range(1,30):\n    knn = KNeighborsRegressor(n_neighbors=n,weights=\"distance\")\n    print(\"N=\",n)\n    cross_validation_function(X,y,knn,10)\n",
      "execution_count": null,
      "outputs": []
    },
    {
      "metadata": {
        "trusted": false,
        "_uuid": "637e20d328d1a844b74de66678dee604c336fefe"
      },
      "cell_type": "code",
      "source": "from sklearn.model_selection import cross_val_score\nfor n in range(1,30):\n    knn = KNeighborsRegressor(n_neighbors=n,weights=\"distance\")\n    print(\"N=\",n)\n    cross_validation_function(X,y,knn,5)\n",
      "execution_count": null,
      "outputs": []
    },
    {
      "metadata": {
        "trusted": false,
        "_uuid": "2005ccdd6a65c06d7ac348f2562213b8843541e2"
      },
      "cell_type": "code",
      "source": "",
      "execution_count": null,
      "outputs": []
    },
    {
      "metadata": {
        "_uuid": "0bc9e5a54faa16fc0a087ebf6de9908df90f8894"
      },
      "cell_type": "markdown",
      "source": "# Decision Tree Regression"
    },
    {
      "metadata": {
        "trusted": false,
        "_uuid": "4a01254ec496a14ebd94c8325cc1da0cbf57ae32"
      },
      "cell_type": "code",
      "source": "from sklearn.tree import DecisionTreeRegressor\nimport numpy as np",
      "execution_count": null,
      "outputs": []
    },
    {
      "metadata": {
        "trusted": false,
        "_uuid": "3ff3805feb7119529928718987c090d61aab188a"
      },
      "cell_type": "code",
      "source": "",
      "execution_count": null,
      "outputs": []
    },
    {
      "metadata": {
        "trusted": false,
        "_uuid": "a9b3b15e94ebc3c77ebe25eecfeaa00ba34a7b89"
      },
      "cell_type": "code",
      "source": "def cross_validation_function2(X,y,model,fold):\n    size=int(len(X)/fold)\n    l=0\n    u=size\n    scores=[]\n    for f in range(fold):\n#         print(\"l =\",l,\"u =\",u,\"\")\n        dfxtest=X.iloc[l:u,:]\n        dfytest=y.iloc[l:u,:]\n        dfxtrain=X.drop(X.iloc[l:u].index,axis=0)\n        dfytrain=y.drop(X.iloc[l:u].index,axis=0)\n        model.fit(dfxtrain,dfytrain)\n        y_pred=model.predict(dfxtest)\n        y_true=pd.Series(dfytest.iloc[:,0])\n#         pd.Series(y.iloc[:,0])\n#         print(y_true)\n#         print(y_pred)\n        scores.append(np.mean(np.abs((y_true - y_pred) / y_true)))\n        print(\"        FOLD \",f)\n        print(\"        --> Score :\", (np.mean(np.abs((y_true - y_pred) / y_true))))\n        l=l+size\n        u=u+size\n    print(\"Final score is: \",np.mean(scores))\n    return np.mean(scores)\n      \n        ",
      "execution_count": null,
      "outputs": []
    },
    {
      "metadata": {
        "trusted": false,
        "_uuid": "c2a5a6206ce65afe73525106d25e40957c82de22"
      },
      "cell_type": "code",
      "source": "from sklearn.model_selection import cross_val_score\nmin=1\nsc=[]\nfor d in range(1,30):\n    tree = DecisionTreeRegressor(max_depth=d,criterion='mae')\n    print(\"Depth =\",d)\n    newscore=cross_validation_function2(X,y,tree,5)\n    sc.append(newscore)\n    if(newscore<min):\n        min=newscore\n        print(\"Min CHANGED TO : \",min,\" at d =\",d)\nprint(min(sc))\n",
      "execution_count": null,
      "outputs": []
    },
    {
      "metadata": {
        "trusted": true,
        "_uuid": "2ec21acd8288da1eed3b59f586088320df3ec57c"
      },
      "cell_type": "code",
      "source": "",
      "execution_count": null,
      "outputs": []
    },
    {
      "metadata": {
        "trusted": true,
        "_uuid": "5908f2b5b318bd826f8153cce55de838e5eac736"
      },
      "cell_type": "code",
      "source": "",
      "execution_count": null,
      "outputs": []
    },
    {
      "metadata": {
        "trusted": false,
        "_uuid": "5f07f803c5d8d1c599209e88b747d9daefbadff3"
      },
      "cell_type": "code",
      "source": "from sklearn.model_selection import cross_val_score\nsc=[]\nmin=1\nfor d in range(2,30):\n    for nest in range(10,500,10):\n        forest = RandomForestRegressor(max_depth=d, random_state=30,n_estimators=nest)\n        print(\"N Estimators is : \",nest)\n        print(\"Depth =\",d)\n        newscore=cross_validation_function3(X,y,forest,5)\n        sc.append(newscore)\n        if(newscore<min):\n            min=newscore\n            print(\"Min CHANGED TO : \",min,\" at d =\",d,\" and n est = \",nest)\nprint(min(sc))\n    # print(regr.feature_importances_)",
      "execution_count": null,
      "outputs": []
    },
    {
      "metadata": {
        "trusted": false,
        "_uuid": "96d13a37ed36c36d83afc4d9f689a57ec959e376"
      },
      "cell_type": "code",
      "source": "",
      "execution_count": null,
      "outputs": []
    },
    {
      "metadata": {
        "_uuid": "73c030d9f78f2d53c5eb4ed0de3539b4530a32b4"
      },
      "cell_type": "markdown",
      "source": "Random Forest Regressor"
    },
    {
      "metadata": {
        "trusted": false,
        "_uuid": "544d62bf6d3559dc044037b4f2cc42a439588d9a"
      },
      "cell_type": "code",
      "source": "from sklearn.ensemble import RandomForestRegressor",
      "execution_count": null,
      "outputs": []
    },
    {
      "metadata": {
        "trusted": false,
        "_uuid": "dc5049f9f742c0f9cbfe845ed155dc8d483c06b9"
      },
      "cell_type": "code",
      "source": "from sklearn.model_selection import cross_val_score\nfor d in range(1,30):\n    for nest in range(10,200,10):\n    forest = RandomForestRegressor(max_depth=d, random_state=30,n_estimators=100)\n    print(\"Depth =\",d)\n    cross_validation_function(X,y,forest,5)\n# print(regr.feature_importances_)",
      "execution_count": null,
      "outputs": []
    },
    {
      "metadata": {
        "trusted": true,
        "_uuid": "b2b7ceecd1e743daedcd6cd40c26fa1fd2d6f41d"
      },
      "cell_type": "code",
      "source": "",
      "execution_count": null,
      "outputs": []
    },
    {
      "metadata": {
        "trusted": true,
        "_uuid": "dd5064c5fc8fa1a7cc832d00b6714393a8751e12"
      },
      "cell_type": "code",
      "source": "",
      "execution_count": null,
      "outputs": []
    },
    {
      "metadata": {
        "trusted": true,
        "_uuid": "a597b17ffe52e83b7948c2f3420fbb83c6518bc4"
      },
      "cell_type": "code",
      "source": "",
      "execution_count": null,
      "outputs": []
    },
    {
      "metadata": {
        "_uuid": "00e2c63ecaf915e6426bebae20bf8601f2a44ac6"
      },
      "cell_type": "markdown",
      "source": "# Gradient Boosting Regressor"
    },
    {
      "metadata": {
        "_uuid": "fd22230c78a1ed2adecb7409c82af8f8e64324d1"
      },
      "cell_type": "markdown",
      "source": ""
    },
    {
      "metadata": {
        "trusted": true,
        "_uuid": "60dac170723d68e28b24aee3b3732bcc33952c97"
      },
      "cell_type": "code",
      "source": "def cross_validation_function3(X,y,model,fold):\n    size=int(len(X)/fold)\n    l=0\n    u=size\n    scores=[]\n    for f in range(fold):\n#         print(\"l =\",l,\"u =\",u,\"\")\n        dfxtest=X.iloc[l:u,:]\n        dfytest=y.iloc[l:u,:]\n        dfxtrain=X.drop(X.iloc[l:u].index,axis=0)\n        dfytrain=y.drop(X.iloc[l:u].index,axis=0)\n        model.fit(dfxtrain,dfytrain.values.ravel())\n        y_pred=model.predict(dfxtest)\n        y_true=pd.Series(dfytest.iloc[:,0])\n#         pd.Series(y.iloc[:,0])\n#         print(y_true)\n#         print(y_pred)\n        scores.append(np.mean(np.abs((y_true - y_pred) / y_true)))\n        print(\"        FOLD \",f)\n        print(\"        --> Score :\", (np.mean(np.abs((y_true - y_pred) / y_true))))\n        l=l+size\n        u=u+size\n    print(\"Final score is: \",np.mean(scores))\n    return np.mean(scores)\n      \n        ",
      "execution_count": null,
      "outputs": []
    },
    {
      "metadata": {
        "trusted": true,
        "_uuid": "c641b2f7bcdefd371a660c3ca94f3a4e4b22bff6"
      },
      "cell_type": "code",
      "source": "from sklearn import ensemble\nfrom sklearn.model_selection import cross_val_score\nsc=[]\nmin=1\nfor nest in range(10,500,10):\n    for d in range(5,25):\n        for l in np.arange(0.01,0.5,0.005):\n            clf = ensemble.GradientBoostingRegressor(n_estimators= nest, max_depth=d,learning_rate=l , loss= 'ls',random_state=30)\n            print(\"N Estimators is : \",nest)\n            print(\"Depth =\",d)\n            newscore=cross_validation_function3(X,y,clf,5)\n            sc.append(newscore)\n            if(newscore<min):\n                min=newscore\n                print(\"Min CHANGED TO : \",min,\" at d =\",d,\" and n est = \",nest,\"l =\",l)\n# print(min(sc))\n\n\n \n",
      "execution_count": null,
      "outputs": []
    },
    {
      "metadata": {
        "trusted": true,
        "_uuid": "aec7826cc10a762e4dad0753e885a077a1e34d5e"
      },
      "cell_type": "code",
      "source": "",
      "execution_count": null,
      "outputs": []
    },
    {
      "metadata": {
        "trusted": true,
        "_uuid": "00dcae7c97df152a2a1ec1489ebdb7ecfd55d5ca"
      },
      "cell_type": "code",
      "source": "",
      "execution_count": null,
      "outputs": []
    },
    {
      "metadata": {
        "trusted": true,
        "_uuid": "bf6b79ac08628ae47cb79064b492e0cbe6957630"
      },
      "cell_type": "code",
      "source": "",
      "execution_count": null,
      "outputs": []
    },
    {
      "metadata": {
        "trusted": true,
        "_uuid": "938a4a43c8b53d37e9c62cb19652265aa871a4f3"
      },
      "cell_type": "code",
      "source": "",
      "execution_count": null,
      "outputs": []
    },
    {
      "metadata": {
        "trusted": true,
        "_uuid": "3c7884218554b5eb1b6b440e43e62dfeb380307a"
      },
      "cell_type": "code",
      "source": "",
      "execution_count": null,
      "outputs": []
    },
    {
      "metadata": {
        "trusted": true,
        "_uuid": "8aa58ec1c52068da0c764df2dfe3328e55591859"
      },
      "cell_type": "code",
      "source": "",
      "execution_count": null,
      "outputs": []
    },
    {
      "metadata": {
        "trusted": true,
        "_uuid": "c5d31714381238891bed628c87324579ece72303"
      },
      "cell_type": "code",
      "source": "def cross_validation_function3(X,y,model,fold):\n    size=int(len(X)/fold)\n    l=0\n    u=size\n    scores=[]\n    for f in range(fold):\n#         print(\"l =\",l,\"u =\",u,\"\")\n        dfxtest=X.iloc[l:u,:]\n        dfytest=y.iloc[l:u,:]\n        dfxtrain=X.drop(X.iloc[l:u].index,axis=0)\n        dfytrain=y.drop(X.iloc[l:u].index,axis=0)\n        model.fit(dfxtrain,dfytrain.values.ravel())\n        y_pred=model.predict(dfxtest)\n        y_true=pd.Series(dfytest.iloc[:,0])\n#         pd.Series(y.iloc[:,0])\n#         print(y_true)\n#         print(y_pred)\n        scores.append(np.mean(np.abs((y_true - y_pred) / y_true)))\n#         print(\"        FOLD \",f)\n#         print(\"        --> Score :\", (np.mean(np.abs((y_true - y_pred) / y_true))))\n        l=l+size\n        u=u+size\n    print(\"Final score is: \",np.mean(scores))\n    return np.mean(scores)\n      \n        ",
      "execution_count": null,
      "outputs": []
    },
    {
      "metadata": {
        "trusted": true,
        "_uuid": "20632f180c3aa5db3fae16bb6986660c1d6be575"
      },
      "cell_type": "code",
      "source": "from xgboost import XGBRegressor\nfrom sklearn import ensemble\nfrom sklearn.model_selection import cross_val_score\nsc=[]\nmin=1\nbooster=['gbtree','gblinear','dart']\n\nfor nest in range(1,100,1):\n    for b in booster:\n        for l in np.arange(0.01,0.8,0.005):\n            for d in range(3,30):\n                xgbreg = XGBRegressor(max_depth=d,learning_rate=l, n_estimators=nest,booster=b,random_state=30)\n                print(\"N Estimators is : \",nest)\n                print(\"Depth =\",d)\n                print(\"Learning Rate: \",l)\n                print(\"Booster : \",b)\n                newscore=cross_validation_function3(X,y,xgbreg,5)\n                sc.append(newscore)\n                if(newscore<min):\n                    min=newscore\n                    print(\"Min CHANGED TO : \",min,\" at d =\",d,\" and n est = \",nest,\"l =\",l,\" b = \",b)\n",
      "execution_count": null,
      "outputs": []
    },
    {
      "metadata": {
        "trusted": true,
        "_uuid": "41c3bc46364a13c4a3ba9d204fc14848b226be67"
      },
      "cell_type": "code",
      "source": "max_depth = m,",
      "execution_count": null,
      "outputs": []
    },
    {
      "metadata": {
        "trusted": true,
        "_uuid": "60a5e7512eca61a512ed83f7ac460cc485d0b247"
      },
      "cell_type": "code",
      "source": "def cross_validation_function3(X,y,model,fold):\n    size=int(len(X)/fold)\n    l=0\n    u=size\n    scores=[]\n    for f in range(fold):\n#         print(\"l =\",l,\"u =\",u,\"\")\n        dfxtest=X.iloc[l:u,:]\n        dfytest=y.iloc[l:u,:]\n        dfxtrain=X.drop(X.iloc[l:u].index,axis=0)\n        dfytrain=y.drop(X.iloc[l:u].index,axis=0)\n        model.fit(dfxtrain,dfytrain.values.ravel())\n        y_pred=model.predict(dfxtest)\n        y_true=pd.Series(dfytest.iloc[:,0])\n#         pd.Series(y.iloc[:,0])\n#         print(y_true)\n#         print(y_pred)\n        scores.append(np.mean(np.abs((y_true - y_pred) / y_true)))\n#         print(\"        FOLD \",f)\n#         print(\"        --> Score :\", (np.mean(np.abs((y_true - y_pred) / y_true))))\n        l=l+size\n        u=u+size\n    print(\"Final score is: \",np.mean(scores))\n    return np.mean(scores)\n      \n        ",
      "execution_count": null,
      "outputs": []
    },
    {
      "metadata": {
        "trusted": true,
        "_uuid": "8e20b24f07c8d34bd23e7701c6b2b883a606ddd2"
      },
      "cell_type": "code",
      "source": "from xgboost import XGBRegressor\nfrom sklearn import ensemble\nfrom sklearn.model_selection import cross_val_score\nsc=[]\nmin=1\nxgbreg = XGBRegressor(max_depth=8,learning_rate=0.04, n_estimators=100,booster='gbtree',random_state=30)\nprint(\"N Estimators is : \",nest)\nprint(\"Depth =\",d)\nprint(\"Learning Rate: \",l)\n#             print(\"Booster : \",b)\nnewscore=cross_validation_function3(X,y,xgbreg,5)\nsc.append(newscore)\nif(newscore<min):\n    min=newscore\n    print(\"Min CHANGED TO : \",min,\" at d =\",d,\" and n est = \",nest,\"l =\",l)\n",
      "execution_count": null,
      "outputs": []
    },
    {
      "metadata": {
        "trusted": true,
        "_uuid": "ebf4b15da867bbbcc1a0c3fe473d329d7a34845f"
      },
      "cell_type": "code",
      "source": "X.std()",
      "execution_count": null,
      "outputs": []
    },
    {
      "metadata": {
        "trusted": true,
        "_uuid": "26e0e6b880bbc11eb772e7e7a7bd0bf5c5b8dd8a"
      },
      "cell_type": "code",
      "source": "",
      "execution_count": null,
      "outputs": []
    },
    {
      "metadata": {
        "trusted": true,
        "_uuid": "ffbbe29a0681b74d02738ae624c2739c19e392c3"
      },
      "cell_type": "code",
      "source": "",
      "execution_count": null,
      "outputs": []
    }
  ],
  "metadata": {
    "kernelspec": {
      "display_name": "Python 3",
      "language": "python",
      "name": "python3"
    },
    "language_info": {
      "name": "python",
      "version": "3.6.6",
      "mimetype": "text/x-python",
      "codemirror_mode": {
        "name": "ipython",
        "version": 3
      },
      "pygments_lexer": "ipython3",
      "nbconvert_exporter": "python",
      "file_extension": ".py"
    }
  },
  "nbformat": 4,
  "nbformat_minor": 1
}