{
  "cells": [
    {
      "metadata": {
        "trusted": true,
        "_uuid": "11351c034fced09083819214174fca1ab2b0b195"
      },
      "cell_type": "code",
      "source": "import pandas as pd\nimport matplotlib.pyplot as plt\nimport numpy as np\n\n%matplotlib inline",
      "execution_count": null,
      "outputs": []
    },
    {
      "metadata": {
        "trusted": true,
        "_uuid": "2304339f47a1d1585a3c81008c331c0e5d8017e3"
      },
      "cell_type": "code",
      "source": "df=pd.read_csv(\"../input/final_train_5.csv\")\ndf=df.drop(\"Unnamed: 0\",1)\ndf.head()",
      "execution_count": null,
      "outputs": []
    },
    {
      "metadata": {
        "trusted": true,
        "_uuid": "793d383a324c4f359574c5a1b9d69b975e868766"
      },
      "cell_type": "code",
      "source": "X = df.iloc[:,1:]\nX.head()",
      "execution_count": null,
      "outputs": []
    },
    {
      "metadata": {
        "trusted": true,
        "_uuid": "265d4cc7e04f58ede3dc264bd157b50a6807859f"
      },
      "cell_type": "code",
      "source": "y = pd.DataFrame(df.iloc[:,0])\ny.head()",
      "execution_count": null,
      "outputs": []
    },
    {
      "metadata": {
        "trusted": true,
        "_uuid": "4ef58336ef9b86cd14c10dacc5b7744b4dccfc57"
      },
      "cell_type": "code",
      "source": "",
      "execution_count": null,
      "outputs": []
    },
    {
      "metadata": {
        "trusted": true,
        "_uuid": "e5cb4460c25090d25387d2f47d2e024c87983bb8"
      },
      "cell_type": "code",
      "source": "",
      "execution_count": null,
      "outputs": []
    },
    {
      "metadata": {
        "trusted": false,
        "_uuid": "b71c68951f154d896eb3dcfee11140f976d4a638"
      },
      "cell_type": "code",
      "source": "",
      "execution_count": null,
      "outputs": []
    },
    {
      "metadata": {
        "trusted": false,
        "_uuid": "59441f3eb1cf947f4243c03b154a38f1cb61a1f5"
      },
      "cell_type": "code",
      "source": "from sklearn.neighbors import KNeighborsRegressor\nfrom sklearn.model_selection import train_test_split\nimport numpy as np\nknn = KNeighborsRegressor()\nX_train, X_test, y_train, y_test = train_test_split(X, y, test_size=0.25, random_state=42)\nknn.fit(X_train,y_train)\ny_pred=knn.predict(X_test)\ny_true=y_test\nprint(np.mean(np.abs((y_true - y_pred) / y_true)) )\noutput=pd.DataFrame(data=y_true)\noutput[\"KNN_pred\"]=y_pred\noutput.head()",
      "execution_count": null,
      "outputs": []
    },
    {
      "metadata": {
        "trusted": false,
        "_uuid": "9476503f57bebaed5912c59392fc6d9f04d77a14"
      },
      "cell_type": "code",
      "source": "output.shape",
      "execution_count": null,
      "outputs": []
    },
    {
      "metadata": {
        "trusted": false,
        "_uuid": "853a2a0db34df286d856a02a4e73b3fbbba92b4a"
      },
      "cell_type": "code",
      "source": "def cross_validation_function(X,y,model,fold):\n    size=int(len(X)/fold)\n    l=0\n    u=size\n    scores=[]\n    for f in range(fold):\n        print(\"l =\",l,\"u =\",u,\"\")\n        dfxtest=X.iloc[l:u,:]\n        dfytest=y.iloc[l:u,:]\n        dfxtrain=X.drop(X.iloc[l:u].index,axis=0)\n        dfytrain=y.drop(X.iloc[l:u].index,axis=0)\n        model.fit(dfxtrain,dfytrain)\n        y_pred=model.predict(dfxtest)\n        y_true=dfytest\n#         print(y_true)\n#         print(y_pred)\n        scores.append(np.mean(np.abs((y_true - y_pred) / y_true)))\n        print(\"        FOLD \",f)\n        print(\"        --> Score :\", (np.mean(np.abs((y_true - y_pred) / y_true))))\n        l=l+size\n        u=u+size\n    print(\"Final score is: \",np.mean(scores))\n      \n        ",
      "execution_count": null,
      "outputs": []
    },
    {
      "metadata": {
        "trusted": false,
        "_uuid": "8d0192b07d3e2de0eaebf3ab8d11492a39e85826"
      },
      "cell_type": "code",
      "source": "from sklearn.model_selection import cross_val_score\nfor n in range(1,30):\n    knn = KNeighborsRegressor(n_neighbors=n,weights=\"distance\")\n    print(\"N=\",n)\n    cross_validation_function(X,y,knn,10)\n",
      "execution_count": null,
      "outputs": []
    },
    {
      "metadata": {
        "trusted": false,
        "_uuid": "637e20d328d1a844b74de66678dee604c336fefe"
      },
      "cell_type": "code",
      "source": "from sklearn.model_selection import cross_val_score\nfor n in range(1,30):\n    knn = KNeighborsRegressor(n_neighbors=n,weights=\"distance\")\n    print(\"N=\",n)\n    cross_validation_function(X,y,knn,5)\n",
      "execution_count": null,
      "outputs": []
    },
    {
      "metadata": {
        "trusted": false,
        "_uuid": "2005ccdd6a65c06d7ac348f2562213b8843541e2"
      },
      "cell_type": "code",
      "source": "",
      "execution_count": null,
      "outputs": []
    },
    {
      "metadata": {
        "_uuid": "0bc9e5a54faa16fc0a087ebf6de9908df90f8894"
      },
      "cell_type": "markdown",
      "source": "# Decision Tree Regression"
    },
    {
      "metadata": {
        "trusted": true,
        "_uuid": "4a01254ec496a14ebd94c8325cc1da0cbf57ae32"
      },
      "cell_type": "code",
      "source": "from sklearn.tree import DecisionTreeRegressor\nimport numpy as np",
      "execution_count": null,
      "outputs": []
    },
    {
      "metadata": {
        "trusted": true,
        "_uuid": "3ff3805feb7119529928718987c090d61aab188a"
      },
      "cell_type": "code",
      "source": "",
      "execution_count": null,
      "outputs": []
    },
    {
      "metadata": {
        "trusted": true,
        "_uuid": "a9b3b15e94ebc3c77ebe25eecfeaa00ba34a7b89"
      },
      "cell_type": "code",
      "source": "def cross_validation_function2(X,y,model,fold):\n    size=int(len(X)/fold)\n    l=0\n    u=size\n    scores=[]\n    for f in range(fold):\n#         print(\"l =\",l,\"u =\",u,\"\")\n        dfxtest=X.iloc[l:u,:]\n        dfytest=y.iloc[l:u,:]\n        dfxtrain=X.drop(X.iloc[l:u].index,axis=0)\n        dfytrain=y.drop(X.iloc[l:u].index,axis=0)\n        model.fit(dfxtrain,dfytrain)\n        y_pred=model.predict(dfxtest)\n        y_true=pd.Series(dfytest.iloc[:,0])\n#         pd.Series(y.iloc[:,0])\n#         print(y_true)\n#         print(y_pred)\n        scores.append(np.mean(np.abs((y_true - y_pred) / y_true)))\n        print(\"        FOLD \",f)\n        print(\"        --> Score :\", (np.mean(np.abs((y_true - y_pred) / y_true))))\n        l=l+size\n        u=u+size\n    print(\"Final score is: \",np.mean(scores))\n    return np.mean(scores)\n      \n        ",
      "execution_count": null,
      "outputs": []
    },
    {
      "metadata": {
        "trusted": true,
        "_uuid": "c2a5a6206ce65afe73525106d25e40957c82de22"
      },
      "cell_type": "code",
      "source": "from sklearn.model_selection import cross_val_score\nmin=1\nsc=[]\nfor d in range(1,30):\n    tree = DecisionTreeRegressor(max_depth=d,criterion='mae')\n    print(\"Depth =\",d)\n    newscore=cross_validation_function2(X,y,tree,5)\n    sc.append(newscore)\n    if(newscore<min):\n        min=newscore\n        print(\"Min CHANGED TO : \",min,\" at d =\",d)\nprint(min(sc))\n",
      "execution_count": null,
      "outputs": []
    },
    {
      "metadata": {
        "trusted": true,
        "_uuid": "2ec21acd8288da1eed3b59f586088320df3ec57c"
      },
      "cell_type": "code",
      "source": "",
      "execution_count": null,
      "outputs": []
    },
    {
      "metadata": {
        "trusted": true,
        "_uuid": "5908f2b5b318bd826f8153cce55de838e5eac736"
      },
      "cell_type": "code",
      "source": "",
      "execution_count": null,
      "outputs": []
    },
    {
      "metadata": {
        "trusted": false,
        "_uuid": "5f07f803c5d8d1c599209e88b747d9daefbadff3"
      },
      "cell_type": "code",
      "source": "from sklearn.model_selection import cross_val_score\nsc=[]\nmin=1\nfor d in range(2,30):\n    for nest in range(10,500,10):\n        forest = RandomForestRegressor(max_depth=d, random_state=30,n_estimators=nest)\n        print(\"N Estimators is : \",nest)\n        print(\"Depth =\",d)\n        newscore=cross_validation_function3(X,y,forest,5)\n        sc.append(newscore)\n        if(newscore<min):\n            min=newscore\n            print(\"Min CHANGED TO : \",min,\" at d =\",d,\" and n est = \",nest)\nprint(min(sc))\n    # print(regr.feature_importances_)",
      "execution_count": null,
      "outputs": []
    },
    {
      "metadata": {
        "trusted": false,
        "_uuid": "96d13a37ed36c36d83afc4d9f689a57ec959e376"
      },
      "cell_type": "code",
      "source": "",
      "execution_count": null,
      "outputs": []
    },
    {
      "metadata": {
        "_uuid": "73c030d9f78f2d53c5eb4ed0de3539b4530a32b4"
      },
      "cell_type": "markdown",
      "source": "Random Forest Regressor"
    },
    {
      "metadata": {
        "trusted": false,
        "_uuid": "544d62bf6d3559dc044037b4f2cc42a439588d9a"
      },
      "cell_type": "code",
      "source": "from sklearn.ensemble import RandomForestRegressor",
      "execution_count": null,
      "outputs": []
    },
    {
      "metadata": {
        "trusted": false,
        "_uuid": "dc5049f9f742c0f9cbfe845ed155dc8d483c06b9"
      },
      "cell_type": "code",
      "source": "from sklearn.model_selection import cross_val_score\nfor d in range(1,30):\n    for nest in range(10,200,10):\n    forest = RandomForestRegressor(max_depth=d, random_state=30,n_estimators=100)\n    print(\"Depth =\",d)\n    cross_validation_function(X,y,forest,5)\n# print(regr.feature_importances_)",
      "execution_count": null,
      "outputs": []
    },
    {
      "metadata": {
        "trusted": true,
        "_uuid": "b2b7ceecd1e743daedcd6cd40c26fa1fd2d6f41d"
      },
      "cell_type": "code",
      "source": "",
      "execution_count": null,
      "outputs": []
    },
    {
      "metadata": {
        "trusted": true,
        "_uuid": "dd5064c5fc8fa1a7cc832d00b6714393a8751e12"
      },
      "cell_type": "code",
      "source": "",
      "execution_count": null,
      "outputs": []
    },
    {
      "metadata": {
        "trusted": true,
        "_uuid": "a597b17ffe52e83b7948c2f3420fbb83c6518bc4"
      },
      "cell_type": "code",
      "source": "",
      "execution_count": null,
      "outputs": []
    },
    {
      "metadata": {
        "_uuid": "00e2c63ecaf915e6426bebae20bf8601f2a44ac6"
      },
      "cell_type": "markdown",
      "source": "# Gradient Boosting Regressor"
    },
    {
      "metadata": {
        "_uuid": "fd22230c78a1ed2adecb7409c82af8f8e64324d1"
      },
      "cell_type": "markdown",
      "source": ""
    },
    {
      "metadata": {
        "trusted": true,
        "_uuid": "60dac170723d68e28b24aee3b3732bcc33952c97"
      },
      "cell_type": "code",
      "source": "def cross_validation_function3(X,y,model,fold):\n    size=int(len(X)/fold)\n    l=0\n    u=size\n    scores=[]\n    for f in range(fold):\n#         print(\"l =\",l,\"u =\",u,\"\")\n        dfxtest=X.iloc[l:u,:]\n        dfytest=y.iloc[l:u,:]\n        dfxtrain=X.drop(X.iloc[l:u].index,axis=0)\n        dfytrain=y.drop(X.iloc[l:u].index,axis=0)\n        model.fit(dfxtrain,dfytrain.values.ravel())\n        y_pred=model.predict(dfxtest)\n        y_true=pd.Series(dfytest.iloc[:,0])\n#         pd.Series(y.iloc[:,0])\n#         print(y_true)\n#         print(y_pred)\n        scores.append(np.mean(np.abs((y_true - y_pred) / y_true)))\n#         print(\"        FOLD \",f)\n#         print(\"        --> Score :\", (np.mean(np.abs((y_true - y_pred) / y_true))))\n        l=l+size\n        u=u+size\n    print(\"Final score is: \",np.mean(scores))\n    return np.mean(scores)\n      \n        ",
      "execution_count": null,
      "outputs": []
    },
    {
      "metadata": {
        "trusted": true,
        "_uuid": "c641b2f7bcdefd371a660c3ca94f3a4e4b22bff6"
      },
      "cell_type": "code",
      "source": "from sklearn import ensemble\nfrom sklearn.model_selection import cross_val_score\nsc=[]\nmin=1\nfor nest in range(5,60,1):\n    for d in range(5,25):\n        for l in np.arange(0.01,0.5,0.005):\n            clf = ensemble.GradientBoostingRegressor(n_estimators= nest, max_depth=d,learning_rate=l , loss= 'ls',random_state=30)\n            print(\"N Estimators is : \",nest)\n            print(\"Depth =\",d)\n            newscore=cross_validation_function3(X,y,clf,5)\n            sc.append(newscore)\n            if(newscore<min):\n                min=newscore\n                print(\"Min CHANGED TO : \",min,\" at d =\",d,\" and n est = \",nest,\"l =\",l)\nprint(min(sc))\n\n\n \n",
      "execution_count": null,
      "outputs": []
    },
    {
      "metadata": {
        "trusted": true,
        "_uuid": "aec7826cc10a762e4dad0753e885a077a1e34d5e"
      },
      "cell_type": "code",
      "source": "",
      "execution_count": null,
      "outputs": []
    },
    {
      "metadata": {
        "trusted": true,
        "_uuid": "466f9f756e5e633d547ec6f65c3ed715e4df482f"
      },
      "cell_type": "code",
      "source": "",
      "execution_count": null,
      "outputs": []
    },
    {
      "metadata": {
        "trusted": true,
        "_uuid": "a2fc42e81d9eebcb2f05e384d8232e8a19ad3ca6"
      },
      "cell_type": "code",
      "source": "",
      "execution_count": null,
      "outputs": []
    },
    {
      "metadata": {
        "trusted": true,
        "_uuid": "63ddf73295b70cbdbdcb2a77bb76d3695798d0ac"
      },
      "cell_type": "code",
      "source": "from sklearn import ensemble\nfrom sklearn.model_selection import cross_val_score\nsc=[]\nmin=1\nfor nest in range(10,500,10):\n    for d in range(5,25):\n        for l in np.arange(0.01,0.5,0.005):\n            clf = ensemble.GradientBoostingRegressor(n_estimators= nest, max_depth=d,learning_rate=l , loss= 'ls',random_state=30)\n            print(\"N Estimators is : \",nest)\n            print(\"Depth =\",d)\n            newscore=cross_validation_function3(X,y,clf,5)\n            sc.append(newscore)\n            if(newscore<min):\n                min=newscore\n                print(\"Min CHANGED TO : \",min,\" at d =\",d,\" and n est = \",nest,\"l =\",l)\nprint(min(sc))",
      "execution_count": null,
      "outputs": []
    },
    {
      "metadata": {
        "trusted": true,
        "_uuid": "eddce27a64b1a742819a6c7c1d199120d19fc307"
      },
      "cell_type": "code",
      "source": "",
      "execution_count": null,
      "outputs": []
    },
    {
      "metadata": {
        "trusted": true,
        "_uuid": "484725e6f2956a5b174c0b571aebeb6ad45be839"
      },
      "cell_type": "code",
      "source": "",
      "execution_count": null,
      "outputs": []
    },
    {
      "metadata": {
        "trusted": true,
        "_uuid": "3c1fdad605af3e763f3d0701ff186602741d66e5"
      },
      "cell_type": "code",
      "source": "",
      "execution_count": null,
      "outputs": []
    },
    {
      "metadata": {
        "trusted": true,
        "_uuid": "aabcd1c75bd9893a52364834bb954d2a957b3415"
      },
      "cell_type": "code",
      "source": "",
      "execution_count": null,
      "outputs": []
    },
    {
      "metadata": {
        "trusted": true,
        "_uuid": "20b731a510ce9eefd062a9b109fad885f187dc07"
      },
      "cell_type": "code",
      "source": "\ndef cross_validation_function3(X,y,model,fold):\n    size=int(len(X)/fold)\n    l=0\n    u=size\n    scores=[]\n    for f in range(fold):\n#         print(\"l =\",l,\"u =\",u,\"\")\n        dfxtest=X.iloc[l:u,:]\n        dfytest=y.iloc[l:u,:]\n        dfxtrain=X.drop(X.iloc[l:u].index,axis=0)\n        dfytrain=y.drop(X.iloc[l:u].index,axis=0)\n        model.fit(dfxtrain,dfytrain.values.ravel())\n        y_pred=model.predict(dfxtest)\n        y_true=pd.Series(dfytest.iloc[:,0])\n#         pd.Series(y.iloc[:,0])\n#         print(y_true)\n#         print(y_pred)\n        scores.append(np.mean(np.abs((y_true - y_pred) / y_true)))\n#         print(\"        FOLD \",f)\n#         print(\"        --> Score :\", (np.mean(np.abs((y_true - y_pred) / y_true))))\n        l=l+size\n        u=u+size\n    print(\"Final score is: \",np.mean(scores))\n    return np.mean(scores)\n      \n        ",
      "execution_count": null,
      "outputs": []
    },
    {
      "metadata": {
        "trusted": true,
        "_uuid": "5ec16fa2b7ab6fc6988d9c8bbd78c68e38df1cd4"
      },
      "cell_type": "code",
      "source": "from xgboost import XGBRegressor\nfrom sklearn import ensemble\nfrom sklearn.model_selection import cross_val_score\nsc=[]\nmin=1\nbooster=['gbtree','dart']\n\nfor nest in range(150,1000,100):\n    for d in range(9,20):\n        for l in np.arange(0.01,0.9,0.03):\n            xgbreg = XGBRegressor(max_depth=d,learning_rate=l, n_estimators=nest,booster='gbtree',random_state=30)\n            print(\"N Estimators is : \",nest)\n            print(\"Depth =\",d)\n            print(\"Learning Rate: \",l)\n#             print(\"Booster : \",b)\n            newscore=cross_validation_function3(X,y,xgbreg,5)\n            sc.append(newscore)\n            if(newscore<min):\n                min=newscore\n                print(\"Min CHANGED TO : \",min,\" at d =\",d,\" and n est = \",nest,\"l =\",l)\n",
      "execution_count": null,
      "outputs": []
    },
    {
      "metadata": {
        "trusted": true,
        "_uuid": "693b8cf44ea73e2e62b5c81a601088454b7016ff"
      },
      "cell_type": "code",
      "source": "# results from 6 to 9 left \n\nfrom xgboost import XGBRegressor\nfrom sklearn import ensemble\nfrom sklearn.model_selection import cross_val_score\nsc=[]\nmin=1\nbooster=['gbtree','dart']\n\nfor nest in range(150,1000,100):\n    for d in range(6,20):\n        for l in np.arange(0.01,0.9,0.03):\n            xgbreg = XGBRegressor(max_depth=d,learning_rate=l, n_estimators=nest,booster='gbtree',random_state=30)\n            print(\"N Estimators is : \",nest)\n            print(\"Depth =\",d)\n            print(\"Learning Rate: \",l)\n#             print(\"Booster : \",b)\n            newscore=cross_validation_function3(X,y,xgbreg,5)\n            sc.append(newscore)\n            if(newscore<min):\n                min=newscore\n                print(\"Min CHANGED TO : \",min,\" at d =\",d,\" and n est = \",nest,\"l =\",l)\n",
      "execution_count": null,
      "outputs": []
    },
    {
      "metadata": {
        "trusted": true,
        "_uuid": "fca7a8187fa9a83a61a5efc71ca0a61635a7d918"
      },
      "cell_type": "code",
      "source": "",
      "execution_count": null,
      "outputs": []
    },
    {
      "metadata": {
        "trusted": true,
        "_uuid": "df98da1e44202ebf9bdc77accfa3e7c940b07d20"
      },
      "cell_type": "code",
      "source": "# Zillow 1.2 \n\nfrom xgboost import XGBRegressor\nfrom sklearn import ensemble\nfrom sklearn.model_selection import cross_val_score\nsc=[]\nmin=1\nbooster=['gbtree','dart']\n\nfor nest in range(100,1000,50):\n#     for d in range(7,10):\n#     for l in np.arange(0.01,0.9,0.03):\n    xgbreg = XGBRegressor(max_depth=9,learning_rate=0.04, n_estimators=nest,booster='gbtree',random_state=30)\n    print(\"N Estimators is : \",nest)\n#     print(\"Depth =\",d)\n#     print(\"Learning Rate: \",l)\n#             print(\"Booster : \",b)\n    newscore=cross_validation_function3(X,y,xgbreg,5)\n    sc.append(newscore)\n    if(newscore<min):\n        min=newscore\n        print(\"Min CHANGED TO : \",min,\"AND  n est = \",nest)\n#         print(\"Min CHANGED TO : \",min,\" at d =\",d,\" and n est = \",nest,\"l =\",l)\n",
      "execution_count": null,
      "outputs": []
    },
    {
      "metadata": {
        "_uuid": "3e23fdbce01f3870dcc73ebf8783d7cda1617b04"
      },
      "cell_type": "markdown",
      "source": "# SVM "
    },
    {
      "metadata": {
        "trusted": true,
        "_uuid": "81fa8c4554afe5d898c06a8e079875753d921b6f"
      },
      "cell_type": "code",
      "source": "from sklearn.svm import SVR",
      "execution_count": null,
      "outputs": []
    },
    {
      "metadata": {
        "trusted": true,
        "_uuid": "539400b608ba23f81d976f81a3edfa28309f48c1"
      },
      "cell_type": "code",
      "source": "",
      "execution_count": null,
      "outputs": []
    },
    {
      "metadata": {
        "trusted": true,
        "_uuid": "2b5511397ca4c58da7984dadd6df887e0bb7b298"
      },
      "cell_type": "code",
      "source": "for d in range(2,6):\n    model=SVR(kernel='rbf', degree=d, gamma='auto_deprecated', coef0=0.0, tol=0.001, C=1.0, epsilon=0.1, shrinking=True, cache_size=200, verbose=False, max_iter=-1)\n#     xgbreg = XGBRegressor(max_depth=9,learning_rate=0.04, n_estimators=nest,booster='gbtree',random_state=30)\n    print(\"Depth =  : \",d)\n#     print(\"Depth =\",d)\n#     print(\"Learning Rate: \",l)\n#             print(\"Booster : \",b)\n    newscore=cross_validation_function3(X,y,model,5)\n    sc.append(newscore)\n    if(newscore<min):\n        min=newscore\n        print(\"Min CHANGED TO : \",min,\"AND  n est = \",nest)\n#         print(\"Min CHANGED TO : \",min,\" at d =\",d,\" and n est = \",nest,\"l =\",l)\n\n",
      "execution_count": null,
      "outputs": []
    },
    {
      "metadata": {
        "trusted": true,
        "_uuid": "2e0ccba685e8c4d848c3f307b3655c6f6e32fd85"
      },
      "cell_type": "code",
      "source": "",
      "execution_count": null,
      "outputs": []
    },
    {
      "metadata": {
        "trusted": true,
        "_uuid": "e8f2797525ec1776e570c6aca24c2deff5d1b513"
      },
      "cell_type": "code",
      "source": "",
      "execution_count": null,
      "outputs": []
    }
  ],
  "metadata": {
    "kernelspec": {
      "display_name": "Python 3",
      "language": "python",
      "name": "python3"
    },
    "language_info": {
      "name": "python",
      "version": "3.6.6",
      "mimetype": "text/x-python",
      "codemirror_mode": {
        "name": "ipython",
        "version": 3
      },
      "pygments_lexer": "ipython3",
      "nbconvert_exporter": "python",
      "file_extension": ".py"
    }
  },
  "nbformat": 4,
  "nbformat_minor": 1
}