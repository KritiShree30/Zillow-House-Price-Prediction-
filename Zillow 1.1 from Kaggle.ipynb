{
  "cells": [
    {
      "metadata": {
        "trusted": true,
        "_uuid": "11351c034fced09083819214174fca1ab2b0b195"
      },
      "cell_type": "code",
      "source": "import pandas as pd\nimport matplotlib.pyplot as plt\nimport numpy as np\n\n%matplotlib inline",
      "execution_count": 1,
      "outputs": []
    },
    {
      "metadata": {
        "trusted": true,
        "_uuid": "2304339f47a1d1585a3c81008c331c0e5d8017e3"
      },
      "cell_type": "code",
      "source": "df=pd.read_csv(\"../input/final_train_5.csv\")\ndf=df.drop(\"Unnamed: 0\",1)\ndf.head()",
      "execution_count": 2,
      "outputs": [
        {
          "output_type": "execute_result",
          "execution_count": 2,
          "data": {
            "text/plain": "   SaleDollarCnt           ...            Missing BGMedHomeValue\n0       285000.0           ...                         -0.022761\n1       309950.0           ...                         -0.022761\n2       476000.0           ...                         -0.022761\n3       324950.0           ...                         -0.022761\n4       325000.0           ...                         -0.022761\n\n[5 rows x 211 columns]",
            "text/html": "<div>\n<style scoped>\n    .dataframe tbody tr th:only-of-type {\n        vertical-align: middle;\n    }\n\n    .dataframe tbody tr th {\n        vertical-align: top;\n    }\n\n    .dataframe thead th {\n        text-align: right;\n    }\n</style>\n<table border=\"1\" class=\"dataframe\">\n  <thead>\n    <tr style=\"text-align: right;\">\n      <th></th>\n      <th>SaleDollarCnt</th>\n      <th>PropertyID</th>\n      <th>censusblockgroup</th>\n      <th>Usecode</th>\n      <th>BedroomCnt</th>\n      <th>BathroomCnt</th>\n      <th>FinishedSquareFeet</th>\n      <th>GarageSquareFeet</th>\n      <th>LotSizeSquareFeet</th>\n      <th>StoryCnt</th>\n      <th>BuiltYear</th>\n      <th>ViewType</th>\n      <th>Latitude</th>\n      <th>Longitude</th>\n      <th>BGMedHomeValue</th>\n      <th>BGMedRent</th>\n      <th>BGMedYearBuilt</th>\n      <th>BGPctOwn</th>\n      <th>BGPctVacant</th>\n      <th>BGMedIncome</th>\n      <th>BGPctKids</th>\n      <th>BGMedAge</th>\n      <th>TransDate_4</th>\n      <th>TransDate_5</th>\n      <th>TransDate_6</th>\n      <th>TransDate_7</th>\n      <th>TransDate_8</th>\n      <th>TransDate_9</th>\n      <th>ZoneCodeCounty_A10</th>\n      <th>ZoneCodeCounty_A35</th>\n      <th>ZoneCodeCounty_AI1</th>\n      <th>ZoneCodeCounty_BO</th>\n      <th>ZoneCodeCounty_C1</th>\n      <th>ZoneCodeCounty_C140</th>\n      <th>ZoneCodeCounty_CB</th>\n      <th>ZoneCodeCounty_CBSO</th>\n      <th>ZoneCodeCounty_CM2</th>\n      <th>ZoneCodeCounty_DC</th>\n      <th>ZoneCodeCounty_DCE</th>\n      <th>ZoneCodeCounty_DUC</th>\n      <th>...</th>\n      <th>ZoneCodeCounty_RS9600</th>\n      <th>ZoneCodeCounty_RSA 4</th>\n      <th>ZoneCodeCounty_RSA 6</th>\n      <th>ZoneCodeCounty_RSA 8</th>\n      <th>ZoneCodeCounty_RSE</th>\n      <th>ZoneCodeCounty_RSX 35</th>\n      <th>ZoneCodeCounty_RSX 7.2</th>\n      <th>ZoneCodeCounty_RSX 8.5</th>\n      <th>ZoneCodeCounty_SF 5000</th>\n      <th>ZoneCodeCounty_SF 7200</th>\n      <th>ZoneCodeCounty_SF 9600</th>\n      <th>ZoneCodeCounty_SFD</th>\n      <th>ZoneCodeCounty_SFE</th>\n      <th>ZoneCodeCounty_SFR 10.0</th>\n      <th>ZoneCodeCounty_SFS</th>\n      <th>ZoneCodeCounty_SFSL</th>\n      <th>ZoneCodeCounty_SR1</th>\n      <th>ZoneCodeCounty_SR3</th>\n      <th>ZoneCodeCounty_SR30</th>\n      <th>ZoneCodeCounty_SR4.5</th>\n      <th>ZoneCodeCounty_SR6</th>\n      <th>ZoneCodeCounty_SR8</th>\n      <th>ZoneCodeCounty_SVV</th>\n      <th>ZoneCodeCounty_T</th>\n      <th>ZoneCodeCounty_TC</th>\n      <th>ZoneCodeCounty_TC4</th>\n      <th>ZoneCodeCounty_UL15000</th>\n      <th>ZoneCodeCounty_UL7200</th>\n      <th>ZoneCodeCounty_UL9600</th>\n      <th>ZoneCodeCounty_UM2400</th>\n      <th>ZoneCodeCounty_UR</th>\n      <th>ZoneCodeCounty_URPSO</th>\n      <th>ZoneCodeCounty_UV</th>\n      <th>ZoneCodeCounty_UVEV</th>\n      <th>ZoneCodeCounty_WD II</th>\n      <th>Missing ViewType</th>\n      <th>Missing GarageSquareFeet</th>\n      <th>Missing BGMedYearBuilt</th>\n      <th>Missing BGMedRent</th>\n      <th>Missing BGMedHomeValue</th>\n    </tr>\n  </thead>\n  <tbody>\n    <tr>\n      <th>0</th>\n      <td>285000.0</td>\n      <td>-0.397302</td>\n      <td>0.0</td>\n      <td>0.0</td>\n      <td>0.633285</td>\n      <td>-0.375478</td>\n      <td>-0.320119</td>\n      <td>-0.049818</td>\n      <td>-0.197314</td>\n      <td>-1.012896</td>\n      <td>-0.371555</td>\n      <td>-0.326327</td>\n      <td>-1.610121</td>\n      <td>-0.100093</td>\n      <td>-1.829768</td>\n      <td>-0.992881</td>\n      <td>0.092411</td>\n      <td>-0.403853</td>\n      <td>0.462342</td>\n      <td>-1.433279</td>\n      <td>-1.193404</td>\n      <td>1.312359</td>\n      <td>-0.410486</td>\n      <td>2.115743</td>\n      <td>-0.447584</td>\n      <td>-0.494249</td>\n      <td>-0.441179</td>\n      <td>-0.415211</td>\n      <td>-0.037184</td>\n      <td>-0.033513</td>\n      <td>-0.00929</td>\n      <td>-0.00929</td>\n      <td>-0.022761</td>\n      <td>-0.013139</td>\n      <td>-0.016092</td>\n      <td>-0.00929</td>\n      <td>-0.00929</td>\n      <td>-0.00929</td>\n      <td>-0.00929</td>\n      <td>-0.013139</td>\n      <td>...</td>\n      <td>-0.034779</td>\n      <td>-0.044596</td>\n      <td>-0.138468</td>\n      <td>-0.037184</td>\n      <td>-0.00929</td>\n      <td>-0.018582</td>\n      <td>-0.102723</td>\n      <td>-0.00929</td>\n      <td>-0.48992</td>\n      <td>-0.204463</td>\n      <td>-0.055824</td>\n      <td>-0.026284</td>\n      <td>-0.024585</td>\n      <td>-0.00929</td>\n      <td>-0.068424</td>\n      <td>-0.053441</td>\n      <td>-0.022761</td>\n      <td>-0.050089</td>\n      <td>-0.00929</td>\n      <td>-0.084937</td>\n      <td>-0.177515</td>\n      <td>-0.052622</td>\n      <td>-0.00929</td>\n      <td>-0.00929</td>\n      <td>-0.016092</td>\n      <td>-0.00929</td>\n      <td>-0.016092</td>\n      <td>-0.085451</td>\n      <td>-0.013139</td>\n      <td>-0.013139</td>\n      <td>-0.062438</td>\n      <td>-0.087976</td>\n      <td>-0.077958</td>\n      <td>-0.058854</td>\n      <td>-0.013139</td>\n      <td>0.542108</td>\n      <td>-0.569910</td>\n      <td>-0.147578</td>\n      <td>-0.541975</td>\n      <td>-0.022761</td>\n    </tr>\n    <tr>\n      <th>1</th>\n      <td>309950.0</td>\n      <td>-0.397299</td>\n      <td>0.0</td>\n      <td>0.0</td>\n      <td>-0.521924</td>\n      <td>-0.375478</td>\n      <td>-0.031915</td>\n      <td>-0.775699</td>\n      <td>-0.041773</td>\n      <td>-1.012896</td>\n      <td>-0.799322</td>\n      <td>-0.361972</td>\n      <td>-0.481783</td>\n      <td>-0.315709</td>\n      <td>-1.416003</td>\n      <td>-0.787479</td>\n      <td>-0.244938</td>\n      <td>-0.878712</td>\n      <td>-0.539812</td>\n      <td>-1.125734</td>\n      <td>0.083579</td>\n      <td>0.420317</td>\n      <td>-0.410486</td>\n      <td>-0.472647</td>\n      <td>-0.447584</td>\n      <td>-0.494249</td>\n      <td>2.266652</td>\n      <td>-0.415211</td>\n      <td>-0.037184</td>\n      <td>-0.033513</td>\n      <td>-0.00929</td>\n      <td>-0.00929</td>\n      <td>-0.022761</td>\n      <td>-0.013139</td>\n      <td>-0.016092</td>\n      <td>-0.00929</td>\n      <td>-0.00929</td>\n      <td>-0.00929</td>\n      <td>-0.00929</td>\n      <td>-0.013139</td>\n      <td>...</td>\n      <td>-0.034779</td>\n      <td>-0.044596</td>\n      <td>-0.138468</td>\n      <td>-0.037184</td>\n      <td>-0.00929</td>\n      <td>-0.018582</td>\n      <td>-0.102723</td>\n      <td>-0.00929</td>\n      <td>-0.48992</td>\n      <td>-0.204463</td>\n      <td>-0.055824</td>\n      <td>-0.026284</td>\n      <td>-0.024585</td>\n      <td>-0.00929</td>\n      <td>-0.068424</td>\n      <td>-0.053441</td>\n      <td>-0.022761</td>\n      <td>-0.050089</td>\n      <td>-0.00929</td>\n      <td>-0.084937</td>\n      <td>-0.177515</td>\n      <td>-0.052622</td>\n      <td>-0.00929</td>\n      <td>-0.00929</td>\n      <td>-0.016092</td>\n      <td>-0.00929</td>\n      <td>-0.016092</td>\n      <td>-0.085451</td>\n      <td>-0.013139</td>\n      <td>-0.013139</td>\n      <td>-0.062438</td>\n      <td>-0.087976</td>\n      <td>-0.077958</td>\n      <td>-0.058854</td>\n      <td>-0.013139</td>\n      <td>-1.844651</td>\n      <td>-0.569910</td>\n      <td>-0.147578</td>\n      <td>-0.541975</td>\n      <td>-0.022761</td>\n    </tr>\n    <tr>\n      <th>2</th>\n      <td>476000.0</td>\n      <td>-0.397296</td>\n      <td>0.0</td>\n      <td>0.0</td>\n      <td>0.633285</td>\n      <td>-1.521526</td>\n      <td>-0.053264</td>\n      <td>0.449225</td>\n      <td>-0.220023</td>\n      <td>-1.012896</td>\n      <td>-0.728028</td>\n      <td>-0.374653</td>\n      <td>0.075045</td>\n      <td>-0.766053</td>\n      <td>-0.502016</td>\n      <td>-1.274357</td>\n      <td>-1.538110</td>\n      <td>-0.584218</td>\n      <td>-0.867046</td>\n      <td>-1.049419</td>\n      <td>-0.280155</td>\n      <td>0.137837</td>\n      <td>-0.410486</td>\n      <td>-0.472647</td>\n      <td>-0.447584</td>\n      <td>-0.494249</td>\n      <td>2.266652</td>\n      <td>-0.415211</td>\n      <td>-0.037184</td>\n      <td>-0.033513</td>\n      <td>-0.00929</td>\n      <td>-0.00929</td>\n      <td>-0.022761</td>\n      <td>-0.013139</td>\n      <td>-0.016092</td>\n      <td>-0.00929</td>\n      <td>-0.00929</td>\n      <td>-0.00929</td>\n      <td>-0.00929</td>\n      <td>-0.013139</td>\n      <td>...</td>\n      <td>-0.034779</td>\n      <td>-0.044596</td>\n      <td>-0.138468</td>\n      <td>-0.037184</td>\n      <td>-0.00929</td>\n      <td>-0.018582</td>\n      <td>-0.102723</td>\n      <td>-0.00929</td>\n      <td>-0.48992</td>\n      <td>4.890852</td>\n      <td>-0.055824</td>\n      <td>-0.026284</td>\n      <td>-0.024585</td>\n      <td>-0.00929</td>\n      <td>-0.068424</td>\n      <td>-0.053441</td>\n      <td>-0.022761</td>\n      <td>-0.050089</td>\n      <td>-0.00929</td>\n      <td>-0.084937</td>\n      <td>-0.177515</td>\n      <td>-0.052622</td>\n      <td>-0.00929</td>\n      <td>-0.00929</td>\n      <td>-0.016092</td>\n      <td>-0.00929</td>\n      <td>-0.016092</td>\n      <td>-0.085451</td>\n      <td>-0.013139</td>\n      <td>-0.013139</td>\n      <td>-0.062438</td>\n      <td>-0.087976</td>\n      <td>-0.077958</td>\n      <td>-0.058854</td>\n      <td>-0.013139</td>\n      <td>0.542108</td>\n      <td>-0.569910</td>\n      <td>-0.147578</td>\n      <td>-0.541975</td>\n      <td>-0.022761</td>\n    </tr>\n    <tr>\n      <th>3</th>\n      <td>324950.0</td>\n      <td>-0.397295</td>\n      <td>0.0</td>\n      <td>0.0</td>\n      <td>0.633285</td>\n      <td>-0.088966</td>\n      <td>0.384379</td>\n      <td>-0.514406</td>\n      <td>-0.005720</td>\n      <td>-1.012896</td>\n      <td>-0.478497</td>\n      <td>-0.361972</td>\n      <td>-1.142897</td>\n      <td>-0.563556</td>\n      <td>-0.839428</td>\n      <td>-0.850874</td>\n      <td>0.204861</td>\n      <td>-1.030035</td>\n      <td>0.109543</td>\n      <td>-1.396183</td>\n      <td>-0.171960</td>\n      <td>0.033766</td>\n      <td>-0.410486</td>\n      <td>-0.472647</td>\n      <td>-0.447584</td>\n      <td>2.023271</td>\n      <td>-0.441179</td>\n      <td>-0.415211</td>\n      <td>-0.037184</td>\n      <td>-0.033513</td>\n      <td>-0.00929</td>\n      <td>-0.00929</td>\n      <td>-0.022761</td>\n      <td>-0.013139</td>\n      <td>-0.016092</td>\n      <td>-0.00929</td>\n      <td>-0.00929</td>\n      <td>-0.00929</td>\n      <td>-0.00929</td>\n      <td>-0.013139</td>\n      <td>...</td>\n      <td>-0.034779</td>\n      <td>-0.044596</td>\n      <td>-0.138468</td>\n      <td>-0.037184</td>\n      <td>-0.00929</td>\n      <td>-0.018582</td>\n      <td>-0.102723</td>\n      <td>-0.00929</td>\n      <td>-0.48992</td>\n      <td>-0.204463</td>\n      <td>-0.055824</td>\n      <td>-0.026284</td>\n      <td>-0.024585</td>\n      <td>-0.00929</td>\n      <td>-0.068424</td>\n      <td>-0.053441</td>\n      <td>-0.022761</td>\n      <td>-0.050089</td>\n      <td>-0.00929</td>\n      <td>-0.084937</td>\n      <td>-0.177515</td>\n      <td>-0.052622</td>\n      <td>-0.00929</td>\n      <td>-0.00929</td>\n      <td>-0.016092</td>\n      <td>-0.00929</td>\n      <td>-0.016092</td>\n      <td>-0.085451</td>\n      <td>-0.013139</td>\n      <td>-0.013139</td>\n      <td>-0.062438</td>\n      <td>-0.087976</td>\n      <td>-0.077958</td>\n      <td>-0.058854</td>\n      <td>-0.013139</td>\n      <td>-1.844651</td>\n      <td>1.754664</td>\n      <td>-0.147578</td>\n      <td>-0.541975</td>\n      <td>-0.022761</td>\n    </tr>\n    <tr>\n      <th>4</th>\n      <td>325000.0</td>\n      <td>-0.397294</td>\n      <td>0.0</td>\n      <td>0.0</td>\n      <td>0.633285</td>\n      <td>-0.661990</td>\n      <td>-0.512255</td>\n      <td>-0.357126</td>\n      <td>-0.170997</td>\n      <td>0.903396</td>\n      <td>-0.977559</td>\n      <td>-0.381029</td>\n      <td>-0.516990</td>\n      <td>-0.453909</td>\n      <td>-0.806304</td>\n      <td>-1.099385</td>\n      <td>-0.076264</td>\n      <td>-1.635837</td>\n      <td>0.072048</td>\n      <td>-0.815157</td>\n      <td>-1.400540</td>\n      <td>0.687930</td>\n      <td>-0.410486</td>\n      <td>-0.472647</td>\n      <td>2.234217</td>\n      <td>-0.494249</td>\n      <td>-0.441179</td>\n      <td>-0.415211</td>\n      <td>-0.037184</td>\n      <td>-0.033513</td>\n      <td>-0.00929</td>\n      <td>-0.00929</td>\n      <td>-0.022761</td>\n      <td>-0.013139</td>\n      <td>-0.016092</td>\n      <td>-0.00929</td>\n      <td>-0.00929</td>\n      <td>-0.00929</td>\n      <td>-0.00929</td>\n      <td>-0.013139</td>\n      <td>...</td>\n      <td>-0.034779</td>\n      <td>-0.044596</td>\n      <td>-0.138468</td>\n      <td>-0.037184</td>\n      <td>-0.00929</td>\n      <td>-0.018582</td>\n      <td>-0.102723</td>\n      <td>-0.00929</td>\n      <td>-0.48992</td>\n      <td>-0.204463</td>\n      <td>-0.055824</td>\n      <td>-0.026284</td>\n      <td>-0.024585</td>\n      <td>-0.00929</td>\n      <td>-0.068424</td>\n      <td>-0.053441</td>\n      <td>-0.022761</td>\n      <td>-0.050089</td>\n      <td>-0.00929</td>\n      <td>-0.084937</td>\n      <td>-0.177515</td>\n      <td>-0.052622</td>\n      <td>-0.00929</td>\n      <td>-0.00929</td>\n      <td>-0.016092</td>\n      <td>-0.00929</td>\n      <td>-0.016092</td>\n      <td>-0.085451</td>\n      <td>-0.013139</td>\n      <td>-0.013139</td>\n      <td>-0.062438</td>\n      <td>-0.087976</td>\n      <td>-0.077958</td>\n      <td>-0.058854</td>\n      <td>-0.013139</td>\n      <td>-1.844651</td>\n      <td>1.754664</td>\n      <td>-0.147578</td>\n      <td>-0.541975</td>\n      <td>-0.022761</td>\n    </tr>\n  </tbody>\n</table>\n</div>"
          },
          "metadata": {}
        }
      ]
    },
    {
      "metadata": {
        "trusted": true,
        "_uuid": "793d383a324c4f359574c5a1b9d69b975e868766"
      },
      "cell_type": "code",
      "source": "X = df.iloc[:,1:]\nX.head()",
      "execution_count": 3,
      "outputs": [
        {
          "output_type": "execute_result",
          "execution_count": 3,
          "data": {
            "text/plain": "   PropertyID           ...            Missing BGMedHomeValue\n0   -0.397302           ...                         -0.022761\n1   -0.397299           ...                         -0.022761\n2   -0.397296           ...                         -0.022761\n3   -0.397295           ...                         -0.022761\n4   -0.397294           ...                         -0.022761\n\n[5 rows x 210 columns]",
            "text/html": "<div>\n<style scoped>\n    .dataframe tbody tr th:only-of-type {\n        vertical-align: middle;\n    }\n\n    .dataframe tbody tr th {\n        vertical-align: top;\n    }\n\n    .dataframe thead th {\n        text-align: right;\n    }\n</style>\n<table border=\"1\" class=\"dataframe\">\n  <thead>\n    <tr style=\"text-align: right;\">\n      <th></th>\n      <th>PropertyID</th>\n      <th>censusblockgroup</th>\n      <th>Usecode</th>\n      <th>BedroomCnt</th>\n      <th>BathroomCnt</th>\n      <th>FinishedSquareFeet</th>\n      <th>GarageSquareFeet</th>\n      <th>LotSizeSquareFeet</th>\n      <th>StoryCnt</th>\n      <th>BuiltYear</th>\n      <th>ViewType</th>\n      <th>Latitude</th>\n      <th>Longitude</th>\n      <th>BGMedHomeValue</th>\n      <th>BGMedRent</th>\n      <th>BGMedYearBuilt</th>\n      <th>BGPctOwn</th>\n      <th>BGPctVacant</th>\n      <th>BGMedIncome</th>\n      <th>BGPctKids</th>\n      <th>BGMedAge</th>\n      <th>TransDate_4</th>\n      <th>TransDate_5</th>\n      <th>TransDate_6</th>\n      <th>TransDate_7</th>\n      <th>TransDate_8</th>\n      <th>TransDate_9</th>\n      <th>ZoneCodeCounty_A10</th>\n      <th>ZoneCodeCounty_A35</th>\n      <th>ZoneCodeCounty_AI1</th>\n      <th>ZoneCodeCounty_BO</th>\n      <th>ZoneCodeCounty_C1</th>\n      <th>ZoneCodeCounty_C140</th>\n      <th>ZoneCodeCounty_CB</th>\n      <th>ZoneCodeCounty_CBSO</th>\n      <th>ZoneCodeCounty_CM2</th>\n      <th>ZoneCodeCounty_DC</th>\n      <th>ZoneCodeCounty_DCE</th>\n      <th>ZoneCodeCounty_DUC</th>\n      <th>ZoneCodeCounty_F</th>\n      <th>...</th>\n      <th>ZoneCodeCounty_RS9600</th>\n      <th>ZoneCodeCounty_RSA 4</th>\n      <th>ZoneCodeCounty_RSA 6</th>\n      <th>ZoneCodeCounty_RSA 8</th>\n      <th>ZoneCodeCounty_RSE</th>\n      <th>ZoneCodeCounty_RSX 35</th>\n      <th>ZoneCodeCounty_RSX 7.2</th>\n      <th>ZoneCodeCounty_RSX 8.5</th>\n      <th>ZoneCodeCounty_SF 5000</th>\n      <th>ZoneCodeCounty_SF 7200</th>\n      <th>ZoneCodeCounty_SF 9600</th>\n      <th>ZoneCodeCounty_SFD</th>\n      <th>ZoneCodeCounty_SFE</th>\n      <th>ZoneCodeCounty_SFR 10.0</th>\n      <th>ZoneCodeCounty_SFS</th>\n      <th>ZoneCodeCounty_SFSL</th>\n      <th>ZoneCodeCounty_SR1</th>\n      <th>ZoneCodeCounty_SR3</th>\n      <th>ZoneCodeCounty_SR30</th>\n      <th>ZoneCodeCounty_SR4.5</th>\n      <th>ZoneCodeCounty_SR6</th>\n      <th>ZoneCodeCounty_SR8</th>\n      <th>ZoneCodeCounty_SVV</th>\n      <th>ZoneCodeCounty_T</th>\n      <th>ZoneCodeCounty_TC</th>\n      <th>ZoneCodeCounty_TC4</th>\n      <th>ZoneCodeCounty_UL15000</th>\n      <th>ZoneCodeCounty_UL7200</th>\n      <th>ZoneCodeCounty_UL9600</th>\n      <th>ZoneCodeCounty_UM2400</th>\n      <th>ZoneCodeCounty_UR</th>\n      <th>ZoneCodeCounty_URPSO</th>\n      <th>ZoneCodeCounty_UV</th>\n      <th>ZoneCodeCounty_UVEV</th>\n      <th>ZoneCodeCounty_WD II</th>\n      <th>Missing ViewType</th>\n      <th>Missing GarageSquareFeet</th>\n      <th>Missing BGMedYearBuilt</th>\n      <th>Missing BGMedRent</th>\n      <th>Missing BGMedHomeValue</th>\n    </tr>\n  </thead>\n  <tbody>\n    <tr>\n      <th>0</th>\n      <td>-0.397302</td>\n      <td>0.0</td>\n      <td>0.0</td>\n      <td>0.633285</td>\n      <td>-0.375478</td>\n      <td>-0.320119</td>\n      <td>-0.049818</td>\n      <td>-0.197314</td>\n      <td>-1.012896</td>\n      <td>-0.371555</td>\n      <td>-0.326327</td>\n      <td>-1.610121</td>\n      <td>-0.100093</td>\n      <td>-1.829768</td>\n      <td>-0.992881</td>\n      <td>0.092411</td>\n      <td>-0.403853</td>\n      <td>0.462342</td>\n      <td>-1.433279</td>\n      <td>-1.193404</td>\n      <td>1.312359</td>\n      <td>-0.410486</td>\n      <td>2.115743</td>\n      <td>-0.447584</td>\n      <td>-0.494249</td>\n      <td>-0.441179</td>\n      <td>-0.415211</td>\n      <td>-0.037184</td>\n      <td>-0.033513</td>\n      <td>-0.00929</td>\n      <td>-0.00929</td>\n      <td>-0.022761</td>\n      <td>-0.013139</td>\n      <td>-0.016092</td>\n      <td>-0.00929</td>\n      <td>-0.00929</td>\n      <td>-0.00929</td>\n      <td>-0.00929</td>\n      <td>-0.013139</td>\n      <td>-0.026284</td>\n      <td>...</td>\n      <td>-0.034779</td>\n      <td>-0.044596</td>\n      <td>-0.138468</td>\n      <td>-0.037184</td>\n      <td>-0.00929</td>\n      <td>-0.018582</td>\n      <td>-0.102723</td>\n      <td>-0.00929</td>\n      <td>-0.48992</td>\n      <td>-0.204463</td>\n      <td>-0.055824</td>\n      <td>-0.026284</td>\n      <td>-0.024585</td>\n      <td>-0.00929</td>\n      <td>-0.068424</td>\n      <td>-0.053441</td>\n      <td>-0.022761</td>\n      <td>-0.050089</td>\n      <td>-0.00929</td>\n      <td>-0.084937</td>\n      <td>-0.177515</td>\n      <td>-0.052622</td>\n      <td>-0.00929</td>\n      <td>-0.00929</td>\n      <td>-0.016092</td>\n      <td>-0.00929</td>\n      <td>-0.016092</td>\n      <td>-0.085451</td>\n      <td>-0.013139</td>\n      <td>-0.013139</td>\n      <td>-0.062438</td>\n      <td>-0.087976</td>\n      <td>-0.077958</td>\n      <td>-0.058854</td>\n      <td>-0.013139</td>\n      <td>0.542108</td>\n      <td>-0.569910</td>\n      <td>-0.147578</td>\n      <td>-0.541975</td>\n      <td>-0.022761</td>\n    </tr>\n    <tr>\n      <th>1</th>\n      <td>-0.397299</td>\n      <td>0.0</td>\n      <td>0.0</td>\n      <td>-0.521924</td>\n      <td>-0.375478</td>\n      <td>-0.031915</td>\n      <td>-0.775699</td>\n      <td>-0.041773</td>\n      <td>-1.012896</td>\n      <td>-0.799322</td>\n      <td>-0.361972</td>\n      <td>-0.481783</td>\n      <td>-0.315709</td>\n      <td>-1.416003</td>\n      <td>-0.787479</td>\n      <td>-0.244938</td>\n      <td>-0.878712</td>\n      <td>-0.539812</td>\n      <td>-1.125734</td>\n      <td>0.083579</td>\n      <td>0.420317</td>\n      <td>-0.410486</td>\n      <td>-0.472647</td>\n      <td>-0.447584</td>\n      <td>-0.494249</td>\n      <td>2.266652</td>\n      <td>-0.415211</td>\n      <td>-0.037184</td>\n      <td>-0.033513</td>\n      <td>-0.00929</td>\n      <td>-0.00929</td>\n      <td>-0.022761</td>\n      <td>-0.013139</td>\n      <td>-0.016092</td>\n      <td>-0.00929</td>\n      <td>-0.00929</td>\n      <td>-0.00929</td>\n      <td>-0.00929</td>\n      <td>-0.013139</td>\n      <td>-0.026284</td>\n      <td>...</td>\n      <td>-0.034779</td>\n      <td>-0.044596</td>\n      <td>-0.138468</td>\n      <td>-0.037184</td>\n      <td>-0.00929</td>\n      <td>-0.018582</td>\n      <td>-0.102723</td>\n      <td>-0.00929</td>\n      <td>-0.48992</td>\n      <td>-0.204463</td>\n      <td>-0.055824</td>\n      <td>-0.026284</td>\n      <td>-0.024585</td>\n      <td>-0.00929</td>\n      <td>-0.068424</td>\n      <td>-0.053441</td>\n      <td>-0.022761</td>\n      <td>-0.050089</td>\n      <td>-0.00929</td>\n      <td>-0.084937</td>\n      <td>-0.177515</td>\n      <td>-0.052622</td>\n      <td>-0.00929</td>\n      <td>-0.00929</td>\n      <td>-0.016092</td>\n      <td>-0.00929</td>\n      <td>-0.016092</td>\n      <td>-0.085451</td>\n      <td>-0.013139</td>\n      <td>-0.013139</td>\n      <td>-0.062438</td>\n      <td>-0.087976</td>\n      <td>-0.077958</td>\n      <td>-0.058854</td>\n      <td>-0.013139</td>\n      <td>-1.844651</td>\n      <td>-0.569910</td>\n      <td>-0.147578</td>\n      <td>-0.541975</td>\n      <td>-0.022761</td>\n    </tr>\n    <tr>\n      <th>2</th>\n      <td>-0.397296</td>\n      <td>0.0</td>\n      <td>0.0</td>\n      <td>0.633285</td>\n      <td>-1.521526</td>\n      <td>-0.053264</td>\n      <td>0.449225</td>\n      <td>-0.220023</td>\n      <td>-1.012896</td>\n      <td>-0.728028</td>\n      <td>-0.374653</td>\n      <td>0.075045</td>\n      <td>-0.766053</td>\n      <td>-0.502016</td>\n      <td>-1.274357</td>\n      <td>-1.538110</td>\n      <td>-0.584218</td>\n      <td>-0.867046</td>\n      <td>-1.049419</td>\n      <td>-0.280155</td>\n      <td>0.137837</td>\n      <td>-0.410486</td>\n      <td>-0.472647</td>\n      <td>-0.447584</td>\n      <td>-0.494249</td>\n      <td>2.266652</td>\n      <td>-0.415211</td>\n      <td>-0.037184</td>\n      <td>-0.033513</td>\n      <td>-0.00929</td>\n      <td>-0.00929</td>\n      <td>-0.022761</td>\n      <td>-0.013139</td>\n      <td>-0.016092</td>\n      <td>-0.00929</td>\n      <td>-0.00929</td>\n      <td>-0.00929</td>\n      <td>-0.00929</td>\n      <td>-0.013139</td>\n      <td>-0.026284</td>\n      <td>...</td>\n      <td>-0.034779</td>\n      <td>-0.044596</td>\n      <td>-0.138468</td>\n      <td>-0.037184</td>\n      <td>-0.00929</td>\n      <td>-0.018582</td>\n      <td>-0.102723</td>\n      <td>-0.00929</td>\n      <td>-0.48992</td>\n      <td>4.890852</td>\n      <td>-0.055824</td>\n      <td>-0.026284</td>\n      <td>-0.024585</td>\n      <td>-0.00929</td>\n      <td>-0.068424</td>\n      <td>-0.053441</td>\n      <td>-0.022761</td>\n      <td>-0.050089</td>\n      <td>-0.00929</td>\n      <td>-0.084937</td>\n      <td>-0.177515</td>\n      <td>-0.052622</td>\n      <td>-0.00929</td>\n      <td>-0.00929</td>\n      <td>-0.016092</td>\n      <td>-0.00929</td>\n      <td>-0.016092</td>\n      <td>-0.085451</td>\n      <td>-0.013139</td>\n      <td>-0.013139</td>\n      <td>-0.062438</td>\n      <td>-0.087976</td>\n      <td>-0.077958</td>\n      <td>-0.058854</td>\n      <td>-0.013139</td>\n      <td>0.542108</td>\n      <td>-0.569910</td>\n      <td>-0.147578</td>\n      <td>-0.541975</td>\n      <td>-0.022761</td>\n    </tr>\n    <tr>\n      <th>3</th>\n      <td>-0.397295</td>\n      <td>0.0</td>\n      <td>0.0</td>\n      <td>0.633285</td>\n      <td>-0.088966</td>\n      <td>0.384379</td>\n      <td>-0.514406</td>\n      <td>-0.005720</td>\n      <td>-1.012896</td>\n      <td>-0.478497</td>\n      <td>-0.361972</td>\n      <td>-1.142897</td>\n      <td>-0.563556</td>\n      <td>-0.839428</td>\n      <td>-0.850874</td>\n      <td>0.204861</td>\n      <td>-1.030035</td>\n      <td>0.109543</td>\n      <td>-1.396183</td>\n      <td>-0.171960</td>\n      <td>0.033766</td>\n      <td>-0.410486</td>\n      <td>-0.472647</td>\n      <td>-0.447584</td>\n      <td>2.023271</td>\n      <td>-0.441179</td>\n      <td>-0.415211</td>\n      <td>-0.037184</td>\n      <td>-0.033513</td>\n      <td>-0.00929</td>\n      <td>-0.00929</td>\n      <td>-0.022761</td>\n      <td>-0.013139</td>\n      <td>-0.016092</td>\n      <td>-0.00929</td>\n      <td>-0.00929</td>\n      <td>-0.00929</td>\n      <td>-0.00929</td>\n      <td>-0.013139</td>\n      <td>-0.026284</td>\n      <td>...</td>\n      <td>-0.034779</td>\n      <td>-0.044596</td>\n      <td>-0.138468</td>\n      <td>-0.037184</td>\n      <td>-0.00929</td>\n      <td>-0.018582</td>\n      <td>-0.102723</td>\n      <td>-0.00929</td>\n      <td>-0.48992</td>\n      <td>-0.204463</td>\n      <td>-0.055824</td>\n      <td>-0.026284</td>\n      <td>-0.024585</td>\n      <td>-0.00929</td>\n      <td>-0.068424</td>\n      <td>-0.053441</td>\n      <td>-0.022761</td>\n      <td>-0.050089</td>\n      <td>-0.00929</td>\n      <td>-0.084937</td>\n      <td>-0.177515</td>\n      <td>-0.052622</td>\n      <td>-0.00929</td>\n      <td>-0.00929</td>\n      <td>-0.016092</td>\n      <td>-0.00929</td>\n      <td>-0.016092</td>\n      <td>-0.085451</td>\n      <td>-0.013139</td>\n      <td>-0.013139</td>\n      <td>-0.062438</td>\n      <td>-0.087976</td>\n      <td>-0.077958</td>\n      <td>-0.058854</td>\n      <td>-0.013139</td>\n      <td>-1.844651</td>\n      <td>1.754664</td>\n      <td>-0.147578</td>\n      <td>-0.541975</td>\n      <td>-0.022761</td>\n    </tr>\n    <tr>\n      <th>4</th>\n      <td>-0.397294</td>\n      <td>0.0</td>\n      <td>0.0</td>\n      <td>0.633285</td>\n      <td>-0.661990</td>\n      <td>-0.512255</td>\n      <td>-0.357126</td>\n      <td>-0.170997</td>\n      <td>0.903396</td>\n      <td>-0.977559</td>\n      <td>-0.381029</td>\n      <td>-0.516990</td>\n      <td>-0.453909</td>\n      <td>-0.806304</td>\n      <td>-1.099385</td>\n      <td>-0.076264</td>\n      <td>-1.635837</td>\n      <td>0.072048</td>\n      <td>-0.815157</td>\n      <td>-1.400540</td>\n      <td>0.687930</td>\n      <td>-0.410486</td>\n      <td>-0.472647</td>\n      <td>2.234217</td>\n      <td>-0.494249</td>\n      <td>-0.441179</td>\n      <td>-0.415211</td>\n      <td>-0.037184</td>\n      <td>-0.033513</td>\n      <td>-0.00929</td>\n      <td>-0.00929</td>\n      <td>-0.022761</td>\n      <td>-0.013139</td>\n      <td>-0.016092</td>\n      <td>-0.00929</td>\n      <td>-0.00929</td>\n      <td>-0.00929</td>\n      <td>-0.00929</td>\n      <td>-0.013139</td>\n      <td>-0.026284</td>\n      <td>...</td>\n      <td>-0.034779</td>\n      <td>-0.044596</td>\n      <td>-0.138468</td>\n      <td>-0.037184</td>\n      <td>-0.00929</td>\n      <td>-0.018582</td>\n      <td>-0.102723</td>\n      <td>-0.00929</td>\n      <td>-0.48992</td>\n      <td>-0.204463</td>\n      <td>-0.055824</td>\n      <td>-0.026284</td>\n      <td>-0.024585</td>\n      <td>-0.00929</td>\n      <td>-0.068424</td>\n      <td>-0.053441</td>\n      <td>-0.022761</td>\n      <td>-0.050089</td>\n      <td>-0.00929</td>\n      <td>-0.084937</td>\n      <td>-0.177515</td>\n      <td>-0.052622</td>\n      <td>-0.00929</td>\n      <td>-0.00929</td>\n      <td>-0.016092</td>\n      <td>-0.00929</td>\n      <td>-0.016092</td>\n      <td>-0.085451</td>\n      <td>-0.013139</td>\n      <td>-0.013139</td>\n      <td>-0.062438</td>\n      <td>-0.087976</td>\n      <td>-0.077958</td>\n      <td>-0.058854</td>\n      <td>-0.013139</td>\n      <td>-1.844651</td>\n      <td>1.754664</td>\n      <td>-0.147578</td>\n      <td>-0.541975</td>\n      <td>-0.022761</td>\n    </tr>\n  </tbody>\n</table>\n</div>"
          },
          "metadata": {}
        }
      ]
    },
    {
      "metadata": {
        "trusted": true,
        "_uuid": "265d4cc7e04f58ede3dc264bd157b50a6807859f"
      },
      "cell_type": "code",
      "source": "y = pd.DataFrame(df.iloc[:,0])\ny.head()",
      "execution_count": 4,
      "outputs": [
        {
          "output_type": "execute_result",
          "execution_count": 4,
          "data": {
            "text/plain": "   SaleDollarCnt\n0       285000.0\n1       309950.0\n2       476000.0\n3       324950.0\n4       325000.0",
            "text/html": "<div>\n<style scoped>\n    .dataframe tbody tr th:only-of-type {\n        vertical-align: middle;\n    }\n\n    .dataframe tbody tr th {\n        vertical-align: top;\n    }\n\n    .dataframe thead th {\n        text-align: right;\n    }\n</style>\n<table border=\"1\" class=\"dataframe\">\n  <thead>\n    <tr style=\"text-align: right;\">\n      <th></th>\n      <th>SaleDollarCnt</th>\n    </tr>\n  </thead>\n  <tbody>\n    <tr>\n      <th>0</th>\n      <td>285000.0</td>\n    </tr>\n    <tr>\n      <th>1</th>\n      <td>309950.0</td>\n    </tr>\n    <tr>\n      <th>2</th>\n      <td>476000.0</td>\n    </tr>\n    <tr>\n      <th>3</th>\n      <td>324950.0</td>\n    </tr>\n    <tr>\n      <th>4</th>\n      <td>325000.0</td>\n    </tr>\n  </tbody>\n</table>\n</div>"
          },
          "metadata": {}
        }
      ]
    },
    {
      "metadata": {
        "trusted": true,
        "_uuid": "4ef58336ef9b86cd14c10dacc5b7744b4dccfc57"
      },
      "cell_type": "code",
      "source": "",
      "execution_count": null,
      "outputs": []
    },
    {
      "metadata": {
        "trusted": true,
        "_uuid": "e5cb4460c25090d25387d2f47d2e024c87983bb8"
      },
      "cell_type": "code",
      "source": "",
      "execution_count": null,
      "outputs": []
    },
    {
      "metadata": {
        "trusted": false,
        "_uuid": "b71c68951f154d896eb3dcfee11140f976d4a638"
      },
      "cell_type": "code",
      "source": "",
      "execution_count": null,
      "outputs": []
    },
    {
      "metadata": {
        "trusted": false,
        "_uuid": "59441f3eb1cf947f4243c03b154a38f1cb61a1f5"
      },
      "cell_type": "code",
      "source": "from sklearn.neighbors import KNeighborsRegressor\nfrom sklearn.model_selection import train_test_split\nimport numpy as np\nknn = KNeighborsRegressor()\nX_train, X_test, y_train, y_test = train_test_split(X, y, test_size=0.25, random_state=42)\nknn.fit(X_train,y_train)\ny_pred=knn.predict(X_test)\ny_true=y_test\nprint(np.mean(np.abs((y_true - y_pred) / y_true)) )\noutput=pd.DataFrame(data=y_true)\noutput[\"KNN_pred\"]=y_pred\noutput.head()",
      "execution_count": null,
      "outputs": []
    },
    {
      "metadata": {
        "trusted": false,
        "_uuid": "9476503f57bebaed5912c59392fc6d9f04d77a14"
      },
      "cell_type": "code",
      "source": "output.shape",
      "execution_count": null,
      "outputs": []
    },
    {
      "metadata": {
        "trusted": false,
        "_uuid": "853a2a0db34df286d856a02a4e73b3fbbba92b4a"
      },
      "cell_type": "code",
      "source": "def cross_validation_function(X,y,model,fold):\n    size=int(len(X)/fold)\n    l=0\n    u=size\n    scores=[]\n    for f in range(fold):\n        print(\"l =\",l,\"u =\",u,\"\")\n        dfxtest=X.iloc[l:u,:]\n        dfytest=y.iloc[l:u,:]\n        dfxtrain=X.drop(X.iloc[l:u].index,axis=0)\n        dfytrain=y.drop(X.iloc[l:u].index,axis=0)\n        model.fit(dfxtrain,dfytrain)\n        y_pred=model.predict(dfxtest)\n        y_true=dfytest\n#         print(y_true)\n#         print(y_pred)\n        scores.append(np.mean(np.abs((y_true - y_pred) / y_true)))\n        print(\"        FOLD \",f)\n        print(\"        --> Score :\", (np.mean(np.abs((y_true - y_pred) / y_true))))\n        l=l+size\n        u=u+size\n    print(\"Final score is: \",np.mean(scores))\n      \n        ",
      "execution_count": null,
      "outputs": []
    },
    {
      "metadata": {
        "trusted": false,
        "_uuid": "8d0192b07d3e2de0eaebf3ab8d11492a39e85826"
      },
      "cell_type": "code",
      "source": "from sklearn.model_selection import cross_val_score\nfor n in range(1,30):\n    knn = KNeighborsRegressor(n_neighbors=n,weights=\"distance\")\n    print(\"N=\",n)\n    cross_validation_function(X,y,knn,10)\n",
      "execution_count": null,
      "outputs": []
    },
    {
      "metadata": {
        "trusted": false,
        "_uuid": "637e20d328d1a844b74de66678dee604c336fefe"
      },
      "cell_type": "code",
      "source": "from sklearn.model_selection import cross_val_score\nfor n in range(1,30):\n    knn = KNeighborsRegressor(n_neighbors=n,weights=\"distance\")\n    print(\"N=\",n)\n    cross_validation_function(X,y,knn,5)\n",
      "execution_count": null,
      "outputs": []
    },
    {
      "metadata": {
        "trusted": false,
        "_uuid": "2005ccdd6a65c06d7ac348f2562213b8843541e2"
      },
      "cell_type": "code",
      "source": "",
      "execution_count": null,
      "outputs": []
    },
    {
      "metadata": {
        "_uuid": "0bc9e5a54faa16fc0a087ebf6de9908df90f8894"
      },
      "cell_type": "markdown",
      "source": "# Decision Tree Regression"
    },
    {
      "metadata": {
        "trusted": false,
        "_uuid": "4a01254ec496a14ebd94c8325cc1da0cbf57ae32"
      },
      "cell_type": "code",
      "source": "from sklearn.tree import DecisionTreeRegressor\nimport numpy as np",
      "execution_count": null,
      "outputs": []
    },
    {
      "metadata": {
        "trusted": false,
        "_uuid": "3ff3805feb7119529928718987c090d61aab188a"
      },
      "cell_type": "code",
      "source": "",
      "execution_count": null,
      "outputs": []
    },
    {
      "metadata": {
        "trusted": false,
        "_uuid": "a9b3b15e94ebc3c77ebe25eecfeaa00ba34a7b89"
      },
      "cell_type": "code",
      "source": "def cross_validation_function2(X,y,model,fold):\n    size=int(len(X)/fold)\n    l=0\n    u=size\n    scores=[]\n    for f in range(fold):\n#         print(\"l =\",l,\"u =\",u,\"\")\n        dfxtest=X.iloc[l:u,:]\n        dfytest=y.iloc[l:u,:]\n        dfxtrain=X.drop(X.iloc[l:u].index,axis=0)\n        dfytrain=y.drop(X.iloc[l:u].index,axis=0)\n        model.fit(dfxtrain,dfytrain)\n        y_pred=model.predict(dfxtest)\n        y_true=pd.Series(dfytest.iloc[:,0])\n#         pd.Series(y.iloc[:,0])\n#         print(y_true)\n#         print(y_pred)\n        scores.append(np.mean(np.abs((y_true - y_pred) / y_true)))\n        print(\"        FOLD \",f)\n        print(\"        --> Score :\", (np.mean(np.abs((y_true - y_pred) / y_true))))\n        l=l+size\n        u=u+size\n    print(\"Final score is: \",np.mean(scores))\n    return np.mean(scores)\n      \n        ",
      "execution_count": null,
      "outputs": []
    },
    {
      "metadata": {
        "trusted": false,
        "_uuid": "c2a5a6206ce65afe73525106d25e40957c82de22"
      },
      "cell_type": "code",
      "source": "from sklearn.model_selection import cross_val_score\nmin=1\nsc=[]\nfor d in range(1,30):\n    tree = DecisionTreeRegressor(max_depth=d,criterion='mae')\n    print(\"Depth =\",d)\n    newscore=cross_validation_function2(X,y,tree,5)\n    sc.append(newscore)\n    if(newscore<min):\n        min=newscore\n        print(\"Min CHANGED TO : \",min,\" at d =\",d)\nprint(min(sc))\n",
      "execution_count": null,
      "outputs": []
    },
    {
      "metadata": {
        "trusted": true,
        "_uuid": "2ec21acd8288da1eed3b59f586088320df3ec57c"
      },
      "cell_type": "code",
      "source": "",
      "execution_count": null,
      "outputs": []
    },
    {
      "metadata": {
        "trusted": true,
        "_uuid": "5908f2b5b318bd826f8153cce55de838e5eac736"
      },
      "cell_type": "code",
      "source": "",
      "execution_count": null,
      "outputs": []
    },
    {
      "metadata": {
        "trusted": false,
        "_uuid": "5f07f803c5d8d1c599209e88b747d9daefbadff3"
      },
      "cell_type": "code",
      "source": "from sklearn.model_selection import cross_val_score\nsc=[]\nmin=1\nfor d in range(2,30):\n    for nest in range(10,500,10):\n        forest = RandomForestRegressor(max_depth=d, random_state=30,n_estimators=nest)\n        print(\"N Estimators is : \",nest)\n        print(\"Depth =\",d)\n        newscore=cross_validation_function3(X,y,forest,5)\n        sc.append(newscore)\n        if(newscore<min):\n            min=newscore\n            print(\"Min CHANGED TO : \",min,\" at d =\",d,\" and n est = \",nest)\nprint(min(sc))\n    # print(regr.feature_importances_)",
      "execution_count": null,
      "outputs": []
    },
    {
      "metadata": {
        "trusted": false,
        "_uuid": "96d13a37ed36c36d83afc4d9f689a57ec959e376"
      },
      "cell_type": "code",
      "source": "",
      "execution_count": null,
      "outputs": []
    },
    {
      "metadata": {
        "_uuid": "73c030d9f78f2d53c5eb4ed0de3539b4530a32b4"
      },
      "cell_type": "markdown",
      "source": "Random Forest Regressor"
    },
    {
      "metadata": {
        "trusted": false,
        "_uuid": "544d62bf6d3559dc044037b4f2cc42a439588d9a"
      },
      "cell_type": "code",
      "source": "from sklearn.ensemble import RandomForestRegressor",
      "execution_count": null,
      "outputs": []
    },
    {
      "metadata": {
        "trusted": false,
        "_uuid": "dc5049f9f742c0f9cbfe845ed155dc8d483c06b9"
      },
      "cell_type": "code",
      "source": "from sklearn.model_selection import cross_val_score\nfor d in range(1,30):\n    for nest in range(10,200,10):\n    forest = RandomForestRegressor(max_depth=d, random_state=30,n_estimators=100)\n    print(\"Depth =\",d)\n    cross_validation_function(X,y,forest,5)\n# print(regr.feature_importances_)",
      "execution_count": null,
      "outputs": []
    },
    {
      "metadata": {
        "trusted": true,
        "_uuid": "b2b7ceecd1e743daedcd6cd40c26fa1fd2d6f41d"
      },
      "cell_type": "code",
      "source": "",
      "execution_count": null,
      "outputs": []
    },
    {
      "metadata": {
        "trusted": true,
        "_uuid": "dd5064c5fc8fa1a7cc832d00b6714393a8751e12"
      },
      "cell_type": "code",
      "source": "",
      "execution_count": null,
      "outputs": []
    },
    {
      "metadata": {
        "trusted": true,
        "_uuid": "a597b17ffe52e83b7948c2f3420fbb83c6518bc4"
      },
      "cell_type": "code",
      "source": "",
      "execution_count": null,
      "outputs": []
    },
    {
      "metadata": {
        "_uuid": "00e2c63ecaf915e6426bebae20bf8601f2a44ac6"
      },
      "cell_type": "markdown",
      "source": "# Gradient Boosting Regressor"
    },
    {
      "metadata": {
        "_uuid": "fd22230c78a1ed2adecb7409c82af8f8e64324d1"
      },
      "cell_type": "markdown",
      "source": ""
    },
    {
      "metadata": {
        "trusted": true,
        "_uuid": "60dac170723d68e28b24aee3b3732bcc33952c97"
      },
      "cell_type": "code",
      "source": "def cross_validation_function3(X,y,model,fold):\n    size=int(len(X)/fold)\n    l=0\n    u=size\n    scores=[]\n    for f in range(fold):\n#         print(\"l =\",l,\"u =\",u,\"\")\n        dfxtest=X.iloc[l:u,:]\n        dfytest=y.iloc[l:u,:]\n        dfxtrain=X.drop(X.iloc[l:u].index,axis=0)\n        dfytrain=y.drop(X.iloc[l:u].index,axis=0)\n        model.fit(dfxtrain,dfytrain.values.ravel())\n        y_pred=model.predict(dfxtest)\n        y_true=pd.Series(dfytest.iloc[:,0])\n#         pd.Series(y.iloc[:,0])\n#         print(y_true)\n#         print(y_pred)\n        scores.append(np.mean(np.abs((y_true - y_pred) / y_true)))\n        print(\"        FOLD \",f)\n        print(\"        --> Score :\", (np.mean(np.abs((y_true - y_pred) / y_true))))\n        l=l+size\n        u=u+size\n    print(\"Final score is: \",np.mean(scores))\n    return np.mean(scores)\n      \n        ",
      "execution_count": 5,
      "outputs": []
    },
    {
      "metadata": {
        "trusted": true,
        "_uuid": "c641b2f7bcdefd371a660c3ca94f3a4e4b22bff6"
      },
      "cell_type": "code",
      "source": "from sklearn import ensemble\nfrom sklearn.model_selection import cross_val_score\nsc=[]\nmin=1\nfor nest in range(10,500,10):\n    for d in range(5,25):\n        for l in np.arange(0.01,0.5,0.005):\n            clf = ensemble.GradientBoostingRegressor(n_estimators= nest, max_depth=d,learning_rate=l , loss= 'ls',random_state=30)\n            print(\"N Estimators is : \",nest)\n            print(\"Depth =\",d)\n            newscore=cross_validation_function3(X,y,clf,5)\n            sc.append(newscore)\n            if(newscore<min):\n                min=newscore\n                print(\"Min CHANGED TO : \",min,\" at d =\",d,\" and n est = \",nest,\"l =\",l)\nprint(min(sc))\n\n\n \n",
      "execution_count": null,
      "outputs": []
    },
    {
      "metadata": {
        "trusted": true,
        "_uuid": "aec7826cc10a762e4dad0753e885a077a1e34d5e"
      },
      "cell_type": "code",
      "source": "",
      "execution_count": null,
      "outputs": []
    }
  ],
  "metadata": {
    "kernelspec": {
      "display_name": "Python 3",
      "language": "python",
      "name": "python3"
    },
    "language_info": {
      "name": "python",
      "version": "3.6.6",
      "mimetype": "text/x-python",
      "codemirror_mode": {
        "name": "ipython",
        "version": 3
      },
      "pygments_lexer": "ipython3",
      "nbconvert_exporter": "python",
      "file_extension": ".py"
    }
  },
  "nbformat": 4,
  "nbformat_minor": 1
}